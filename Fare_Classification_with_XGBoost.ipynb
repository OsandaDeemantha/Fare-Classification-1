{
  "nbformat": 4,
  "nbformat_minor": 0,
  "metadata": {
    "colab": {
      "name": "Fare Classification - with XGBoost.ipynb",
      "provenance": [],
      "collapsed_sections": [],
      "authorship_tag": "ABX9TyME8tfgN5Z6xAfpN0jtyesv",
      "include_colab_link": true
    },
    "kernelspec": {
      "name": "python3",
      "display_name": "Python 3"
    }
  },
  "cells": [
    {
      "cell_type": "markdown",
      "metadata": {
        "id": "view-in-github",
        "colab_type": "text"
      },
      "source": [
        "<a href=\"https://colab.research.google.com/github/bhanukad610/Fare-Classification/blob/master/Fare_Classification_with_XGBoost.ipynb\" target=\"_parent\"><img src=\"https://colab.research.google.com/assets/colab-badge.svg\" alt=\"Open In Colab\"/></a>"
      ]
    },
    {
      "cell_type": "markdown",
      "metadata": {
        "id": "czZSRPr8dkO7",
        "colab_type": "text"
      },
      "source": [
        "Ahh eke thawa hadanna fare per km, fare per min\n",
        "\n",
        "Thawa speed, additional fare as a factor or additional fare per km\n",
        "Eke fare ekai distance ekai important gdk\n",
        "\n",
        "Additional fare eke frequency wadi category 8kda koheda thiyanawa\n",
        "\n",
        "(Duration-waiting)/fare danna.."
      ]
    },
    {
      "cell_type": "code",
      "metadata": {
        "id": "RXFc1Ul9Gjhy",
        "colab_type": "code",
        "outputId": "cb1203ff-4981-4381-8b25-4c8da4e8dcfa",
        "colab": {
          "base_uri": "https://localhost:8080/",
          "height": 127
        }
      },
      "source": [
        "from google.colab import drive\n",
        "drive.mount('/content/drive')"
      ],
      "execution_count": 0,
      "outputs": [
        {
          "output_type": "stream",
          "text": [
            "Go to this URL in a browser: https://accounts.google.com/o/oauth2/auth?client_id=947318989803-6bn6qk8qdgf4n4g3pfee6491hc0brc4i.apps.googleusercontent.com&redirect_uri=urn%3aietf%3awg%3aoauth%3a2.0%3aoob&response_type=code&scope=email%20https%3a%2f%2fwww.googleapis.com%2fauth%2fdocs.test%20https%3a%2f%2fwww.googleapis.com%2fauth%2fdrive%20https%3a%2f%2fwww.googleapis.com%2fauth%2fdrive.photos.readonly%20https%3a%2f%2fwww.googleapis.com%2fauth%2fpeopleapi.readonly\n",
            "\n",
            "Enter your authorization code:\n",
            "··········\n",
            "Mounted at /content/drive\n"
          ],
          "name": "stdout"
        }
      ]
    },
    {
      "cell_type": "markdown",
      "metadata": {
        "id": "efB2iJQM2Wxm",
        "colab_type": "text"
      },
      "source": [
        "### Import Libraries"
      ]
    },
    {
      "cell_type": "code",
      "metadata": {
        "id": "ZdG7onyjG8YX",
        "colab_type": "code",
        "colab": {}
      },
      "source": [
        "import numpy as np\n",
        "import pandas as pd\n",
        "from sklearn.model_selection import train_test_split, cross_val_predict\n",
        "from sklearn.metrics import confusion_matrix, precision_score, recall_score, f1_score\n",
        "import warnings\n",
        "warnings.filterwarnings(\"ignore\", category=DeprecationWarning)\n",
        "%matplotlib inline"
      ],
      "execution_count": 0,
      "outputs": []
    },
    {
      "cell_type": "markdown",
      "metadata": {
        "id": "YYg0rFqwqUC7",
        "colab_type": "text"
      },
      "source": [
        "### Data exploration"
      ]
    },
    {
      "cell_type": "code",
      "metadata": {
        "id": "jSPKg05ia4bp",
        "colab_type": "code",
        "outputId": "42333ed7-fe4e-4fe8-a700-d2ccc4e53d06",
        "colab": {
          "base_uri": "https://localhost:8080/"
        }
      },
      "source": [
        "## Correlation\n",
        "import seaborn as sns\n",
        "import matplotlib.pyplot as plt\n",
        "#get correlations of each features in dataset\n",
        "# df = pd.read_csv('/content/drive/My Drive/Semester 7/ML/Project/Data/train.csv')\n",
        "# df['label'].replace(to_replace=['correct','incorrect'], value=[1,0],inplace=True)\n",
        "corrmat = Features.corr()\n",
        "top_corr_features = corrmat.index\n",
        "plt.figure(figsize=(10,10))\n",
        "#plot heat map\n",
        "g=sns.heatmap(df[top_corr_features].corr(),annot=True,cmap=\"RdYlGn\")"
      ],
      "execution_count": 0,
      "outputs": [
        {
          "output_type": "stream",
          "text": [
            "/usr/local/lib/python3.6/dist-packages/statsmodels/tools/_testing.py:19: FutureWarning: pandas.util.testing is deprecated. Use the functions in the public API at pandas.testing instead.\n",
            "  import pandas.util.testing as tm\n"
          ],
          "name": "stderr"
        },
        {
          "output_type": "error",
          "ename": "NameError",
          "evalue": "ignored",
          "traceback": [
            "\u001b[0;31m---------------------------------------------------------------------------\u001b[0m",
            "\u001b[0;31mNameError\u001b[0m                                 Traceback (most recent call last)",
            "\u001b[0;32m<ipython-input-3-22afa2b42151>\u001b[0m in \u001b[0;36m<module>\u001b[0;34m()\u001b[0m\n\u001b[1;32m      5\u001b[0m \u001b[0;31m# df = pd.read_csv('/content/drive/My Drive/Semester 7/ML/Project/Data/train.csv')\u001b[0m\u001b[0;34m\u001b[0m\u001b[0;34m\u001b[0m\u001b[0;34m\u001b[0m\u001b[0m\n\u001b[1;32m      6\u001b[0m \u001b[0;31m# df['label'].replace(to_replace=['correct','incorrect'], value=[1,0],inplace=True)\u001b[0m\u001b[0;34m\u001b[0m\u001b[0;34m\u001b[0m\u001b[0;34m\u001b[0m\u001b[0m\n\u001b[0;32m----> 7\u001b[0;31m \u001b[0mcorrmat\u001b[0m \u001b[0;34m=\u001b[0m \u001b[0mFeatures\u001b[0m\u001b[0;34m.\u001b[0m\u001b[0mcorr\u001b[0m\u001b[0;34m(\u001b[0m\u001b[0;34m)\u001b[0m\u001b[0;34m\u001b[0m\u001b[0;34m\u001b[0m\u001b[0m\n\u001b[0m\u001b[1;32m      8\u001b[0m \u001b[0mtop_corr_features\u001b[0m \u001b[0;34m=\u001b[0m \u001b[0mcorrmat\u001b[0m\u001b[0;34m.\u001b[0m\u001b[0mindex\u001b[0m\u001b[0;34m\u001b[0m\u001b[0;34m\u001b[0m\u001b[0m\n\u001b[1;32m      9\u001b[0m \u001b[0mplt\u001b[0m\u001b[0;34m.\u001b[0m\u001b[0mfigure\u001b[0m\u001b[0;34m(\u001b[0m\u001b[0mfigsize\u001b[0m\u001b[0;34m=\u001b[0m\u001b[0;34m(\u001b[0m\u001b[0;36m10\u001b[0m\u001b[0;34m,\u001b[0m\u001b[0;36m10\u001b[0m\u001b[0;34m)\u001b[0m\u001b[0;34m)\u001b[0m\u001b[0;34m\u001b[0m\u001b[0;34m\u001b[0m\u001b[0m\n",
            "\u001b[0;31mNameError\u001b[0m: name 'Features' is not defined"
          ]
        }
      ]
    },
    {
      "cell_type": "markdown",
      "metadata": {
        "id": "FPNeVPaN-_R4",
        "colab_type": "text"
      },
      "source": [
        "### getGeneralDataFromDateTimeObj"
      ]
    },
    {
      "cell_type": "code",
      "metadata": {
        "id": "6N-EWUrU6KUX",
        "colab_type": "code",
        "colab": {}
      },
      "source": [
        "import datetime\n",
        "from datetime import timedelta\n",
        "\n",
        "def getGeneralDataFromDateTimeObj(time):\n",
        "  datetimeFormat = '%m/%d/%Y %H:%M'\n",
        "  dateTimeObj = datetime.datetime.strptime(time, datetimeFormat)\n",
        "  return [float(dateTimeObj.month), float(dateTimeObj.day), float(dateTimeObj.hour), float(dateTimeObj.minute), float(dateTimeObj.year)]\n",
        "\n",
        "# getGeneralDataFromDateTimeObj('11/1/2019 0:20')"
      ],
      "execution_count": 0,
      "outputs": []
    },
    {
      "cell_type": "code",
      "metadata": {
        "id": "fvoP8YnW7C-M",
        "colab_type": "code",
        "colab": {}
      },
      "source": [
        "def generate_drop_time(df):\n",
        "  df_drop_time_month = []\n",
        "  df_drop_time_day = []\n",
        "  df_drop_time_hour = []\n",
        "  df_drop_time_minute = []\n",
        "\n",
        "  for time in df['drop_time']:\n",
        "    data = getGeneralDataFromDateTimeObj(time)\n",
        "    df_drop_time_month.append(data[0])\n",
        "    df_drop_time_day.append(data[1])\n",
        "    df_drop_time_hour.append(data[2])\n",
        "    df_drop_time_minute.append(data[3])\n",
        "\n",
        "  df['drop_time_month'] = df_drop_time_month\n",
        "  df['df_drop_time_day'] = df_drop_time_day\n",
        "  df['df_drop_time_hour'] = df_drop_time_hour\n",
        "  df['df_drop_time_minute'] = df_drop_time_minute"
      ],
      "execution_count": 0,
      "outputs": []
    },
    {
      "cell_type": "code",
      "metadata": {
        "id": "p5G1NTkl9saL",
        "colab_type": "code",
        "colab": {}
      },
      "source": [
        "def generate_pickup_time(df):\n",
        "  df_pickup_time_month = []\n",
        "  df_pickup_time_day = []\n",
        "  df_pickup_time_hour = []\n",
        "  df_pickup_time_minute = []\n",
        "\n",
        "  for time in df['pickup_time']:\n",
        "    data = getGeneralDataFromDateTimeObj(time)\n",
        "    df_pickup_time_month.append(data[0])\n",
        "    df_pickup_time_day.append(data[1])\n",
        "    df_pickup_time_hour.append(data[2])\n",
        "    df_pickup_time_minute.append(data[3])\n",
        "\n",
        "  df['df_pickup_time_month'] = df_pickup_time_month\n",
        "  df['df_pickup_time_day'] = df_pickup_time_day\n",
        "  df['df_pickup_time_hour'] = df_pickup_time_hour\n",
        "  df['df_pickup_time_minute'] = df_pickup_time_minute"
      ],
      "execution_count": 0,
      "outputs": []
    },
    {
      "cell_type": "markdown",
      "metadata": {
        "id": "aPIH2Qdr2eX6",
        "colab_type": "text"
      },
      "source": [
        "### Functions"
      ]
    },
    {
      "cell_type": "code",
      "metadata": {
        "id": "JLaDghXtguuj",
        "colab_type": "code",
        "colab": {}
      },
      "source": [
        "def calculate_fare_per_km(df):\n",
        "  fare_per_km = []\n",
        "\n",
        "  for i in range (len(df['fare'])):\n",
        "    calculate_fare_per_km_value = df['fare'][i] / df['distance'][i]\n",
        "    fare_per_km.append(calculate_fare_per_km_value)\n",
        "\n",
        "  df['fare_per_km'] = fare_per_km"
      ],
      "execution_count": 0,
      "outputs": []
    },
    {
      "cell_type": "code",
      "metadata": {
        "id": "dtLm2WN7j5uq",
        "colab_type": "code",
        "colab": {}
      },
      "source": [
        "def calculate_fare_per_min(df):\n",
        "  fare_per_second = []\n",
        "\n",
        "  for i in range (len(df['fare'])):\n",
        "    fare_per_second_value =  df['fare'][i] / df['duration'][i]\n",
        "    fare_per_second.append(fare_per_second_value)\n",
        "\n",
        "  df['fare_per_sec'] = fare_per_second"
      ],
      "execution_count": 0,
      "outputs": []
    },
    {
      "cell_type": "code",
      "metadata": {
        "id": "j-5kmd-rjEN2",
        "colab_type": "code",
        "colab": {}
      },
      "source": [
        "def calculate_speed(df):\n",
        "  speed = []\n",
        "\n",
        "  for i in range (len(df['fare'])):\n",
        "    speed_value =  3600 * df['distance'][i] / (df['duration'][i] - df['meter_waiting'][i])\n",
        "    speed.append(speed_value)\n",
        "\n",
        "  df['speed'] = speed"
      ],
      "execution_count": 0,
      "outputs": []
    },
    {
      "cell_type": "code",
      "metadata": {
        "id": "2DOo_SOLn6LD",
        "colab_type": "code",
        "colab": {}
      },
      "source": [
        "# (Duration-meter_waiting)/fare\n",
        "\n",
        "def calculate_real_duration_per_fare(df):\n",
        "  real_duration_per_fare = []\n",
        "\n",
        "  for i in range (len(df['fare'])):\n",
        "    real_duration_per_fare_value =   (df['duration'][i] - df['meter_waiting'][i]) / df['fare'][i]\n",
        "    real_duration_per_fare.append(real_duration_per_fare_value)\n",
        "\n",
        "  df['real_duration_per_fare'] = real_duration_per_fare"
      ],
      "execution_count": 0,
      "outputs": []
    },
    {
      "cell_type": "code",
      "metadata": {
        "id": "l-t64Rqr26Es",
        "colab_type": "code",
        "colab": {}
      },
      "source": [
        "def calculate_additional_fare_as_a_factor(df):\n",
        "  additional_fare_as_a_factor = []\n",
        "\n",
        "  for i in range (len(df['fare'])):\n",
        "    additional_fare_as_a_factor_value =  df['additional_fare'][i] / df['fare'][i]\n",
        "    additional_fare_as_a_factor.append(additional_fare_as_a_factor_value)\n",
        "\n",
        "  df['additional_fare_as_a_factor'] = additional_fare_as_a_factor"
      ],
      "execution_count": 0,
      "outputs": []
    },
    {
      "cell_type": "code",
      "metadata": {
        "id": "IKOnFHUKFlPC",
        "colab_type": "code",
        "colab": {}
      },
      "source": [
        "#under construction !!!\n",
        "def calculate_additional_fare_weight(df):\n",
        "  additional_fare_weight = []\n",
        "  additional_fare_sorted = np.sort(df['additional_fare'].unique())\n",
        "  additional_fare = df['additional_fare'].values.tolist()\n",
        "  grp = df.groupby(['additional_fare'])['label'].value_counts(normalize=True)\n",
        "\n",
        "  for i in df['additional_fare']:\n",
        "    index_additional_fare_sorted = np.where(additional_fare_sorted == i)\n",
        "    print(grp[index_additional_fare_sorted][1])\n",
        "    # additional_fare_weight.append(grp[index_additional_fare_sorted][1])\n",
        "\n",
        "  # df['additional_fare_weight'] = additional_fare_weight"
      ],
      "execution_count": 0,
      "outputs": []
    },
    {
      "cell_type": "code",
      "metadata": {
        "id": "r7Pa3eFNH1I9",
        "colab_type": "code",
        "colab": {}
      },
      "source": [
        "import numpy as np\n",
        "from sklearn.impute import SimpleImputer\n",
        "\n",
        "def naImputation(Features, column_names):\n",
        "  # df.replace(np.NaN,np.NaN,inplace=True)\n",
        "  imp=SimpleImputer(missing_values=np.NaN)\n",
        "  idf=pd.DataFrame(imp.fit_transform(Features))\n",
        "  idf.columns=Features.columns\n",
        "  idf.index=Features.index\n",
        "\n",
        "  for column_name in column_names:\n",
        "    idf[column_name].isna().sum()\n",
        "\n",
        "  \n",
        "  return idf"
      ],
      "execution_count": 0,
      "outputs": []
    },
    {
      "cell_type": "code",
      "metadata": {
        "id": "swVafQvTR6JT",
        "colab_type": "code",
        "colab": {}
      },
      "source": [
        "import geopy.distance\n",
        "\n",
        "#function to calculte distance from lat and longs\n",
        "def calculateDistance(pick_lat,pick_lon, drop_lat, drop_lon):\n",
        "      coords_1 = (pick_lat, pick_lon)\n",
        "      coords_2 = (drop_lat, drop_lon)\n",
        "      return geopy.distance.vincenty(coords_1, coords_2).km\n",
        "\n",
        "def calculateDistanceDf(pick_lat_frame,pick_lon_frame, drop_lat_frame, drop_lon_frame):\n",
        "  distanceList = []\n",
        "  for i in range(len(drop_lon_frame)):\n",
        "    pick_lat = pick_lat_frame[i]\n",
        "    pick_lon = pick_lon_frame[i]\n",
        "    drop_lat = drop_lat_frame[i]\n",
        "    drop_lon = drop_lon_frame[i]\n",
        "\n",
        "    try:\n",
        "      distance = calculateDistance(pick_lat,pick_lon, drop_lat, drop_lon)\n",
        "    except:\n",
        "      print(\"Error occured! , at\", i)\n",
        "\n",
        "    distanceList.append(distance)\n",
        "  return distanceList"
      ],
      "execution_count": 0,
      "outputs": []
    },
    {
      "cell_type": "code",
      "metadata": {
        "id": "tuEm1JyXSAxi",
        "colab_type": "code",
        "colab": {}
      },
      "source": [
        "def preprocess(df, features):\n",
        "  features_loc = features\n",
        "  generate_pickup_time(df)\n",
        "  generate_drop_time(df)\n",
        "\n",
        "  df['distance'] = calculateDistanceDf(df['pick_lat'], df['pick_lon'], df['drop_lat'], df['drop_lon'])\n",
        "\n",
        "\n",
        "  calculate_fare_per_km(df)\n",
        "  calculate_real_duration_per_fare(df)\n",
        "  calculate_speed(df)\n",
        "  calculate_additional_fare_as_a_factor(df)\n",
        "\n",
        "\n",
        "  calculate_fare_per_min(df)\n",
        "  features_loc += ['fare_per_sec', 'additional_fare_as_a_factor', 'speed', 'real_duration_per_fare', 'distance', 'df_pickup_time_month', 'df_pickup_time_day', 'df_pickup_time_hour', 'df_pickup_time_minute', 'drop_time_month', 'df_drop_time_day', 'df_drop_time_hour', 'df_drop_time_minute']\n",
        "\n",
        "  Features = df[features_loc]\n",
        "  # Features = naImputation(Features,features)  'fare_per_min' 'fare_per_km'\n",
        "  print(features)\n",
        "  \n",
        "  return Features"
      ],
      "execution_count": 0,
      "outputs": []
    },
    {
      "cell_type": "markdown",
      "metadata": {
        "id": "sHdmOCKu2h0Y",
        "colab_type": "text"
      },
      "source": [
        "### Load train and test data"
      ]
    },
    {
      "cell_type": "code",
      "metadata": {
        "id": "EyJ-Q-EkSGrJ",
        "colab_type": "code",
        "outputId": "148ba622-ecfa-4108-8224-062bf96e5417",
        "colab": {
          "base_uri": "https://localhost:8080/",
          "height": 419
        }
      },
      "source": [
        "df = pd.read_csv('/content/drive/My Drive/Semester 7/ML/Project/Data/train.csv')\n",
        "df['label'].replace(to_replace=['correct','incorrect'], value=[1,0],inplace=True)\n",
        "features = ['additional_fare','duration', 'meter_waiting', 'meter_waiting_fare', 'meter_waiting_till_pickup', 'fare']\n",
        "df"
      ],
      "execution_count": 0,
      "outputs": [
        {
          "output_type": "execute_result",
          "data": {
            "text/html": [
              "<div>\n",
              "<style scoped>\n",
              "    .dataframe tbody tr th:only-of-type {\n",
              "        vertical-align: middle;\n",
              "    }\n",
              "\n",
              "    .dataframe tbody tr th {\n",
              "        vertical-align: top;\n",
              "    }\n",
              "\n",
              "    .dataframe thead th {\n",
              "        text-align: right;\n",
              "    }\n",
              "</style>\n",
              "<table border=\"1\" class=\"dataframe\">\n",
              "  <thead>\n",
              "    <tr style=\"text-align: right;\">\n",
              "      <th></th>\n",
              "      <th>tripid</th>\n",
              "      <th>additional_fare</th>\n",
              "      <th>duration</th>\n",
              "      <th>meter_waiting</th>\n",
              "      <th>meter_waiting_fare</th>\n",
              "      <th>meter_waiting_till_pickup</th>\n",
              "      <th>pickup_time</th>\n",
              "      <th>drop_time</th>\n",
              "      <th>pick_lat</th>\n",
              "      <th>pick_lon</th>\n",
              "      <th>drop_lat</th>\n",
              "      <th>drop_lon</th>\n",
              "      <th>fare</th>\n",
              "      <th>label</th>\n",
              "    </tr>\n",
              "  </thead>\n",
              "  <tbody>\n",
              "    <tr>\n",
              "      <th>0</th>\n",
              "      <td>189123628</td>\n",
              "      <td>10.5</td>\n",
              "      <td>834.0</td>\n",
              "      <td>56.0</td>\n",
              "      <td>0.0000</td>\n",
              "      <td>64.0</td>\n",
              "      <td>11/1/2019 0:20</td>\n",
              "      <td>11/1/2019 0:34</td>\n",
              "      <td>6.86252</td>\n",
              "      <td>79.8993</td>\n",
              "      <td>6.90330</td>\n",
              "      <td>79.8783</td>\n",
              "      <td>270.32</td>\n",
              "      <td>1</td>\n",
              "    </tr>\n",
              "    <tr>\n",
              "      <th>1</th>\n",
              "      <td>189125358</td>\n",
              "      <td>10.5</td>\n",
              "      <td>791.0</td>\n",
              "      <td>47.0</td>\n",
              "      <td>0.0000</td>\n",
              "      <td>134.0</td>\n",
              "      <td>11/1/2019 0:56</td>\n",
              "      <td>11/1/2019 1:09</td>\n",
              "      <td>6.88589</td>\n",
              "      <td>79.8984</td>\n",
              "      <td>6.91373</td>\n",
              "      <td>79.8923</td>\n",
              "      <td>197.85</td>\n",
              "      <td>1</td>\n",
              "    </tr>\n",
              "    <tr>\n",
              "      <th>2</th>\n",
              "      <td>189125719</td>\n",
              "      <td>10.5</td>\n",
              "      <td>1087.0</td>\n",
              "      <td>80.0</td>\n",
              "      <td>0.0000</td>\n",
              "      <td>61.0</td>\n",
              "      <td>11/1/2019 1:08</td>\n",
              "      <td>11/1/2019 1:26</td>\n",
              "      <td>6.90839</td>\n",
              "      <td>79.8651</td>\n",
              "      <td>6.93669</td>\n",
              "      <td>79.9146</td>\n",
              "      <td>301.64</td>\n",
              "      <td>1</td>\n",
              "    </tr>\n",
              "    <tr>\n",
              "      <th>3</th>\n",
              "      <td>189127273</td>\n",
              "      <td>10.5</td>\n",
              "      <td>598.0</td>\n",
              "      <td>271.0</td>\n",
              "      <td>15.6638</td>\n",
              "      <td>68.0</td>\n",
              "      <td>11/1/2019 2:27</td>\n",
              "      <td>11/1/2019 2:37</td>\n",
              "      <td>6.92570</td>\n",
              "      <td>79.8895</td>\n",
              "      <td>6.92748</td>\n",
              "      <td>79.8971</td>\n",
              "      <td>82.30</td>\n",
              "      <td>1</td>\n",
              "    </tr>\n",
              "    <tr>\n",
              "      <th>4</th>\n",
              "      <td>189128020</td>\n",
              "      <td>NaN</td>\n",
              "      <td>NaN</td>\n",
              "      <td>NaN</td>\n",
              "      <td>NaN</td>\n",
              "      <td>NaN</td>\n",
              "      <td>11/1/2019 3:34</td>\n",
              "      <td>11/1/2019 3:51</td>\n",
              "      <td>6.87441</td>\n",
              "      <td>79.8615</td>\n",
              "      <td>6.84478</td>\n",
              "      <td>79.9290</td>\n",
              "      <td>358.39</td>\n",
              "      <td>1</td>\n",
              "    </tr>\n",
              "    <tr>\n",
              "      <th>...</th>\n",
              "      <td>...</td>\n",
              "      <td>...</td>\n",
              "      <td>...</td>\n",
              "      <td>...</td>\n",
              "      <td>...</td>\n",
              "      <td>...</td>\n",
              "      <td>...</td>\n",
              "      <td>...</td>\n",
              "      <td>...</td>\n",
              "      <td>...</td>\n",
              "      <td>...</td>\n",
              "      <td>...</td>\n",
              "      <td>...</td>\n",
              "      <td>...</td>\n",
              "    </tr>\n",
              "    <tr>\n",
              "      <th>17171</th>\n",
              "      <td>213803193</td>\n",
              "      <td>10.5</td>\n",
              "      <td>838.0</td>\n",
              "      <td>93.0</td>\n",
              "      <td>5.4219</td>\n",
              "      <td>451.0</td>\n",
              "      <td>1/31/2020 22:07</td>\n",
              "      <td>1/31/2020 22:21</td>\n",
              "      <td>7.29073</td>\n",
              "      <td>80.6367</td>\n",
              "      <td>7.28891</td>\n",
              "      <td>80.6557</td>\n",
              "      <td>198.26</td>\n",
              "      <td>1</td>\n",
              "    </tr>\n",
              "    <tr>\n",
              "      <th>17172</th>\n",
              "      <td>213812756</td>\n",
              "      <td>10.5</td>\n",
              "      <td>2151.0</td>\n",
              "      <td>428.0</td>\n",
              "      <td>0.0000</td>\n",
              "      <td>39.0</td>\n",
              "      <td>1/31/2020 23:07</td>\n",
              "      <td>1/31/2020 23:43</td>\n",
              "      <td>6.90569</td>\n",
              "      <td>79.8516</td>\n",
              "      <td>6.95089</td>\n",
              "      <td>79.9389</td>\n",
              "      <td>581.23</td>\n",
              "      <td>1</td>\n",
              "    </tr>\n",
              "    <tr>\n",
              "      <th>17173</th>\n",
              "      <td>213813930</td>\n",
              "      <td>10.5</td>\n",
              "      <td>263.0</td>\n",
              "      <td>9.0</td>\n",
              "      <td>0.0000</td>\n",
              "      <td>110.0</td>\n",
              "      <td>1/31/2020 23:21</td>\n",
              "      <td>1/31/2020 23:25</td>\n",
              "      <td>7.09210</td>\n",
              "      <td>79.9000</td>\n",
              "      <td>7.10135</td>\n",
              "      <td>79.9017</td>\n",
              "      <td>76.20</td>\n",
              "      <td>1</td>\n",
              "    </tr>\n",
              "    <tr>\n",
              "      <th>17174</th>\n",
              "      <td>213815405</td>\n",
              "      <td>10.5</td>\n",
              "      <td>858.0</td>\n",
              "      <td>115.0</td>\n",
              "      <td>0.0000</td>\n",
              "      <td>317.0</td>\n",
              "      <td>1/31/2020 23:39</td>\n",
              "      <td>1/31/2020 23:53</td>\n",
              "      <td>6.94540</td>\n",
              "      <td>79.8768</td>\n",
              "      <td>6.93574</td>\n",
              "      <td>79.9010</td>\n",
              "      <td>133.31</td>\n",
              "      <td>1</td>\n",
              "    </tr>\n",
              "    <tr>\n",
              "      <th>17175</th>\n",
              "      <td>213817296</td>\n",
              "      <td>10.5</td>\n",
              "      <td>262.0</td>\n",
              "      <td>21.0</td>\n",
              "      <td>1.2243</td>\n",
              "      <td>23.0</td>\n",
              "      <td>1/31/2020 23:49</td>\n",
              "      <td>1/31/2020 23:53</td>\n",
              "      <td>6.90257</td>\n",
              "      <td>79.9557</td>\n",
              "      <td>6.90823</td>\n",
              "      <td>79.9374</td>\n",
              "      <td>98.57</td>\n",
              "      <td>1</td>\n",
              "    </tr>\n",
              "  </tbody>\n",
              "</table>\n",
              "<p>17176 rows × 14 columns</p>\n",
              "</div>"
            ],
            "text/plain": [
              "          tripid  additional_fare  duration  ...  drop_lon    fare  label\n",
              "0      189123628             10.5     834.0  ...   79.8783  270.32      1\n",
              "1      189125358             10.5     791.0  ...   79.8923  197.85      1\n",
              "2      189125719             10.5    1087.0  ...   79.9146  301.64      1\n",
              "3      189127273             10.5     598.0  ...   79.8971   82.30      1\n",
              "4      189128020              NaN       NaN  ...   79.9290  358.39      1\n",
              "...          ...              ...       ...  ...       ...     ...    ...\n",
              "17171  213803193             10.5     838.0  ...   80.6557  198.26      1\n",
              "17172  213812756             10.5    2151.0  ...   79.9389  581.23      1\n",
              "17173  213813930             10.5     263.0  ...   79.9017   76.20      1\n",
              "17174  213815405             10.5     858.0  ...   79.9010  133.31      1\n",
              "17175  213817296             10.5     262.0  ...   79.9374   98.57      1\n",
              "\n",
              "[17176 rows x 14 columns]"
            ]
          },
          "metadata": {
            "tags": []
          },
          "execution_count": 19
        }
      ]
    },
    {
      "cell_type": "code",
      "metadata": {
        "id": "YCCs_0B8H2mS",
        "colab_type": "code",
        "outputId": "77963bfc-b754-4b8a-a9a2-b542e64ecf12",
        "colab": {
          "base_uri": "https://localhost:8080/",
          "height": 386
        }
      },
      "source": [
        "Features = preprocess(df, features)\n",
        "X = Features.to_numpy()\n",
        "y = df['label'].values\n",
        "Features.head()"
      ],
      "execution_count": 0,
      "outputs": [
        {
          "output_type": "stream",
          "text": [
            "/usr/local/lib/python3.6/dist-packages/ipykernel_launcher.py:5: RuntimeWarning: divide by zero encountered in double_scalars\n",
            "  \"\"\"\n",
            "/usr/local/lib/python3.6/dist-packages/ipykernel_launcher.py:7: RuntimeWarning: divide by zero encountered in double_scalars\n",
            "  import sys\n",
            "/usr/local/lib/python3.6/dist-packages/ipykernel_launcher.py:7: RuntimeWarning: invalid value encountered in double_scalars\n",
            "  import sys\n",
            "/usr/local/lib/python3.6/dist-packages/ipykernel_launcher.py:5: RuntimeWarning: invalid value encountered in double_scalars\n",
            "  \"\"\"\n"
          ],
          "name": "stderr"
        },
        {
          "output_type": "stream",
          "text": [
            "['additional_fare', 'duration', 'meter_waiting', 'meter_waiting_fare', 'meter_waiting_till_pickup', 'fare', 'fare_per_sec', 'additional_fare_as_a_factor', 'speed', 'real_duration_per_fare', 'distance', 'df_pickup_time_month', 'df_pickup_time_day', 'df_pickup_time_hour', 'df_pickup_time_minute', 'drop_time_month', 'df_drop_time_day', 'df_drop_time_hour', 'df_drop_time_minute']\n"
          ],
          "name": "stdout"
        },
        {
          "output_type": "execute_result",
          "data": {
            "text/html": [
              "<div>\n",
              "<style scoped>\n",
              "    .dataframe tbody tr th:only-of-type {\n",
              "        vertical-align: middle;\n",
              "    }\n",
              "\n",
              "    .dataframe tbody tr th {\n",
              "        vertical-align: top;\n",
              "    }\n",
              "\n",
              "    .dataframe thead th {\n",
              "        text-align: right;\n",
              "    }\n",
              "</style>\n",
              "<table border=\"1\" class=\"dataframe\">\n",
              "  <thead>\n",
              "    <tr style=\"text-align: right;\">\n",
              "      <th></th>\n",
              "      <th>additional_fare</th>\n",
              "      <th>duration</th>\n",
              "      <th>meter_waiting</th>\n",
              "      <th>meter_waiting_fare</th>\n",
              "      <th>meter_waiting_till_pickup</th>\n",
              "      <th>fare</th>\n",
              "      <th>fare_per_sec</th>\n",
              "      <th>additional_fare_as_a_factor</th>\n",
              "      <th>speed</th>\n",
              "      <th>real_duration_per_fare</th>\n",
              "      <th>distance</th>\n",
              "      <th>df_pickup_time_month</th>\n",
              "      <th>df_pickup_time_day</th>\n",
              "      <th>df_pickup_time_hour</th>\n",
              "      <th>df_pickup_time_minute</th>\n",
              "      <th>drop_time_month</th>\n",
              "      <th>df_drop_time_day</th>\n",
              "      <th>df_drop_time_hour</th>\n",
              "      <th>df_drop_time_minute</th>\n",
              "    </tr>\n",
              "  </thead>\n",
              "  <tbody>\n",
              "    <tr>\n",
              "      <th>0</th>\n",
              "      <td>10.5</td>\n",
              "      <td>834.0</td>\n",
              "      <td>56.0</td>\n",
              "      <td>0.0000</td>\n",
              "      <td>64.0</td>\n",
              "      <td>270.32</td>\n",
              "      <td>0.324125</td>\n",
              "      <td>0.038843</td>\n",
              "      <td>23.469707</td>\n",
              "      <td>2.878070</td>\n",
              "      <td>5.072065</td>\n",
              "      <td>11.0</td>\n",
              "      <td>1.0</td>\n",
              "      <td>0.0</td>\n",
              "      <td>20.0</td>\n",
              "      <td>11.0</td>\n",
              "      <td>1.0</td>\n",
              "      <td>0.0</td>\n",
              "      <td>34.0</td>\n",
              "    </tr>\n",
              "    <tr>\n",
              "      <th>1</th>\n",
              "      <td>10.5</td>\n",
              "      <td>791.0</td>\n",
              "      <td>47.0</td>\n",
              "      <td>0.0000</td>\n",
              "      <td>134.0</td>\n",
              "      <td>197.85</td>\n",
              "      <td>0.250126</td>\n",
              "      <td>0.053071</td>\n",
              "      <td>15.250547</td>\n",
              "      <td>3.760425</td>\n",
              "      <td>3.151780</td>\n",
              "      <td>11.0</td>\n",
              "      <td>1.0</td>\n",
              "      <td>0.0</td>\n",
              "      <td>56.0</td>\n",
              "      <td>11.0</td>\n",
              "      <td>1.0</td>\n",
              "      <td>1.0</td>\n",
              "      <td>9.0</td>\n",
              "    </tr>\n",
              "    <tr>\n",
              "      <th>2</th>\n",
              "      <td>10.5</td>\n",
              "      <td>1087.0</td>\n",
              "      <td>80.0</td>\n",
              "      <td>0.0000</td>\n",
              "      <td>61.0</td>\n",
              "      <td>301.64</td>\n",
              "      <td>0.277498</td>\n",
              "      <td>0.034810</td>\n",
              "      <td>22.530986</td>\n",
              "      <td>3.338417</td>\n",
              "      <td>6.302418</td>\n",
              "      <td>11.0</td>\n",
              "      <td>1.0</td>\n",
              "      <td>1.0</td>\n",
              "      <td>8.0</td>\n",
              "      <td>11.0</td>\n",
              "      <td>1.0</td>\n",
              "      <td>1.0</td>\n",
              "      <td>26.0</td>\n",
              "    </tr>\n",
              "    <tr>\n",
              "      <th>3</th>\n",
              "      <td>10.5</td>\n",
              "      <td>598.0</td>\n",
              "      <td>271.0</td>\n",
              "      <td>15.6638</td>\n",
              "      <td>68.0</td>\n",
              "      <td>82.30</td>\n",
              "      <td>0.137625</td>\n",
              "      <td>0.127582</td>\n",
              "      <td>9.497113</td>\n",
              "      <td>3.973269</td>\n",
              "      <td>0.862654</td>\n",
              "      <td>11.0</td>\n",
              "      <td>1.0</td>\n",
              "      <td>2.0</td>\n",
              "      <td>27.0</td>\n",
              "      <td>11.0</td>\n",
              "      <td>1.0</td>\n",
              "      <td>2.0</td>\n",
              "      <td>37.0</td>\n",
              "    </tr>\n",
              "    <tr>\n",
              "      <th>4</th>\n",
              "      <td>NaN</td>\n",
              "      <td>NaN</td>\n",
              "      <td>NaN</td>\n",
              "      <td>NaN</td>\n",
              "      <td>NaN</td>\n",
              "      <td>358.39</td>\n",
              "      <td>NaN</td>\n",
              "      <td>NaN</td>\n",
              "      <td>NaN</td>\n",
              "      <td>NaN</td>\n",
              "      <td>8.148521</td>\n",
              "      <td>11.0</td>\n",
              "      <td>1.0</td>\n",
              "      <td>3.0</td>\n",
              "      <td>34.0</td>\n",
              "      <td>11.0</td>\n",
              "      <td>1.0</td>\n",
              "      <td>3.0</td>\n",
              "      <td>51.0</td>\n",
              "    </tr>\n",
              "  </tbody>\n",
              "</table>\n",
              "</div>"
            ],
            "text/plain": [
              "   additional_fare  duration  ...  df_drop_time_hour  df_drop_time_minute\n",
              "0             10.5     834.0  ...                0.0                 34.0\n",
              "1             10.5     791.0  ...                1.0                  9.0\n",
              "2             10.5    1087.0  ...                1.0                 26.0\n",
              "3             10.5     598.0  ...                2.0                 37.0\n",
              "4              NaN       NaN  ...                3.0                 51.0\n",
              "\n",
              "[5 rows x 19 columns]"
            ]
          },
          "metadata": {
            "tags": []
          },
          "execution_count": 20
        }
      ]
    },
    {
      "cell_type": "code",
      "metadata": {
        "id": "aB5BReWePkoe",
        "colab_type": "code",
        "outputId": "7c30039a-9b87-4f8e-e8e6-1517d7d55f40",
        "colab": {
          "base_uri": "https://localhost:8080/",
          "height": 386
        }
      },
      "source": [
        "df_test = pd.read_csv('/content/drive/My Drive/Semester 7/ML/Project/Data/test.csv')\n",
        "features_test = ['additional_fare','duration', 'meter_waiting', 'meter_waiting_fare', 'meter_waiting_till_pickup', 'fare']\n",
        "\n",
        "Features_for_test = preprocess(df_test, features_test)\n",
        "X_pred = Features_for_test.to_numpy()\n",
        "Features_for_test.head()"
      ],
      "execution_count": 0,
      "outputs": [
        {
          "output_type": "stream",
          "text": [
            "/usr/local/lib/python3.6/dist-packages/ipykernel_launcher.py:5: RuntimeWarning: divide by zero encountered in double_scalars\n",
            "  \"\"\"\n",
            "/usr/local/lib/python3.6/dist-packages/ipykernel_launcher.py:7: RuntimeWarning: invalid value encountered in true_divide\n",
            "  import sys\n",
            "/usr/local/lib/python3.6/dist-packages/ipykernel_launcher.py:7: RuntimeWarning: divide by zero encountered in true_divide\n",
            "  import sys\n",
            "/usr/local/lib/python3.6/dist-packages/ipykernel_launcher.py:5: RuntimeWarning: invalid value encountered in double_scalars\n",
            "  \"\"\"\n"
          ],
          "name": "stderr"
        },
        {
          "output_type": "stream",
          "text": [
            "['additional_fare', 'duration', 'meter_waiting', 'meter_waiting_fare', 'meter_waiting_till_pickup', 'fare', 'fare_per_sec', 'additional_fare_as_a_factor', 'speed', 'real_duration_per_fare', 'distance', 'df_pickup_time_month', 'df_pickup_time_day', 'df_pickup_time_hour', 'df_pickup_time_minute', 'drop_time_month', 'df_drop_time_day', 'df_drop_time_hour', 'df_drop_time_minute']\n"
          ],
          "name": "stdout"
        },
        {
          "output_type": "execute_result",
          "data": {
            "text/html": [
              "<div>\n",
              "<style scoped>\n",
              "    .dataframe tbody tr th:only-of-type {\n",
              "        vertical-align: middle;\n",
              "    }\n",
              "\n",
              "    .dataframe tbody tr th {\n",
              "        vertical-align: top;\n",
              "    }\n",
              "\n",
              "    .dataframe thead th {\n",
              "        text-align: right;\n",
              "    }\n",
              "</style>\n",
              "<table border=\"1\" class=\"dataframe\">\n",
              "  <thead>\n",
              "    <tr style=\"text-align: right;\">\n",
              "      <th></th>\n",
              "      <th>additional_fare</th>\n",
              "      <th>duration</th>\n",
              "      <th>meter_waiting</th>\n",
              "      <th>meter_waiting_fare</th>\n",
              "      <th>meter_waiting_till_pickup</th>\n",
              "      <th>fare</th>\n",
              "      <th>fare_per_sec</th>\n",
              "      <th>additional_fare_as_a_factor</th>\n",
              "      <th>speed</th>\n",
              "      <th>real_duration_per_fare</th>\n",
              "      <th>distance</th>\n",
              "      <th>df_pickup_time_month</th>\n",
              "      <th>df_pickup_time_day</th>\n",
              "      <th>df_pickup_time_hour</th>\n",
              "      <th>df_pickup_time_minute</th>\n",
              "      <th>drop_time_month</th>\n",
              "      <th>df_drop_time_day</th>\n",
              "      <th>df_drop_time_hour</th>\n",
              "      <th>df_drop_time_minute</th>\n",
              "    </tr>\n",
              "  </thead>\n",
              "  <tbody>\n",
              "    <tr>\n",
              "      <th>0</th>\n",
              "      <td>10.5</td>\n",
              "      <td>924</td>\n",
              "      <td>42</td>\n",
              "      <td>2.4486</td>\n",
              "      <td>148</td>\n",
              "      <td>289.27</td>\n",
              "      <td>0.313063</td>\n",
              "      <td>0.036298</td>\n",
              "      <td>27.225263</td>\n",
              "      <td>3.049055</td>\n",
              "      <td>6.670189</td>\n",
              "      <td>2.0</td>\n",
              "      <td>1.0</td>\n",
              "      <td>0.0</td>\n",
              "      <td>38.0</td>\n",
              "      <td>2.0</td>\n",
              "      <td>1.0</td>\n",
              "      <td>0.0</td>\n",
              "      <td>53.0</td>\n",
              "    </tr>\n",
              "    <tr>\n",
              "      <th>1</th>\n",
              "      <td>10.5</td>\n",
              "      <td>4249</td>\n",
              "      <td>20</td>\n",
              "      <td>0.0000</td>\n",
              "      <td>91</td>\n",
              "      <td>1912.70</td>\n",
              "      <td>0.450153</td>\n",
              "      <td>0.005490</td>\n",
              "      <td>35.200708</td>\n",
              "      <td>2.211011</td>\n",
              "      <td>41.351053</td>\n",
              "      <td>2.0</td>\n",
              "      <td>1.0</td>\n",
              "      <td>1.0</td>\n",
              "      <td>2.0</td>\n",
              "      <td>2.0</td>\n",
              "      <td>1.0</td>\n",
              "      <td>2.0</td>\n",
              "      <td>13.0</td>\n",
              "    </tr>\n",
              "    <tr>\n",
              "      <th>2</th>\n",
              "      <td>10.5</td>\n",
              "      <td>1552</td>\n",
              "      <td>255</td>\n",
              "      <td>2.6588</td>\n",
              "      <td>23</td>\n",
              "      <td>394.00</td>\n",
              "      <td>0.253866</td>\n",
              "      <td>0.026650</td>\n",
              "      <td>16.431887</td>\n",
              "      <td>3.291878</td>\n",
              "      <td>5.920044</td>\n",
              "      <td>2.0</td>\n",
              "      <td>1.0</td>\n",
              "      <td>5.0</td>\n",
              "      <td>2.0</td>\n",
              "      <td>2.0</td>\n",
              "      <td>1.0</td>\n",
              "      <td>5.0</td>\n",
              "      <td>28.0</td>\n",
              "    </tr>\n",
              "    <tr>\n",
              "      <th>3</th>\n",
              "      <td>10.5</td>\n",
              "      <td>462</td>\n",
              "      <td>16</td>\n",
              "      <td>0.0000</td>\n",
              "      <td>198</td>\n",
              "      <td>154.32</td>\n",
              "      <td>0.334026</td>\n",
              "      <td>0.068040</td>\n",
              "      <td>26.506110</td>\n",
              "      <td>2.890098</td>\n",
              "      <td>3.283813</td>\n",
              "      <td>2.0</td>\n",
              "      <td>1.0</td>\n",
              "      <td>5.0</td>\n",
              "      <td>30.0</td>\n",
              "      <td>2.0</td>\n",
              "      <td>1.0</td>\n",
              "      <td>5.0</td>\n",
              "      <td>38.0</td>\n",
              "    </tr>\n",
              "    <tr>\n",
              "      <th>4</th>\n",
              "      <td>10.5</td>\n",
              "      <td>814</td>\n",
              "      <td>392</td>\n",
              "      <td>12.3692</td>\n",
              "      <td>69</td>\n",
              "      <td>147.47</td>\n",
              "      <td>0.181167</td>\n",
              "      <td>0.071201</td>\n",
              "      <td>22.086104</td>\n",
              "      <td>2.861599</td>\n",
              "      <td>2.588982</td>\n",
              "      <td>2.0</td>\n",
              "      <td>1.0</td>\n",
              "      <td>7.0</td>\n",
              "      <td>0.0</td>\n",
              "      <td>2.0</td>\n",
              "      <td>1.0</td>\n",
              "      <td>7.0</td>\n",
              "      <td>14.0</td>\n",
              "    </tr>\n",
              "  </tbody>\n",
              "</table>\n",
              "</div>"
            ],
            "text/plain": [
              "   additional_fare  duration  ...  df_drop_time_hour  df_drop_time_minute\n",
              "0             10.5       924  ...                0.0                 53.0\n",
              "1             10.5      4249  ...                2.0                 13.0\n",
              "2             10.5      1552  ...                5.0                 28.0\n",
              "3             10.5       462  ...                5.0                 38.0\n",
              "4             10.5       814  ...                7.0                 14.0\n",
              "\n",
              "[5 rows x 19 columns]"
            ]
          },
          "metadata": {
            "tags": []
          },
          "execution_count": 22
        }
      ]
    },
    {
      "cell_type": "code",
      "metadata": {
        "id": "iCNIsIC9P5dP",
        "colab_type": "code",
        "colab": {}
      },
      "source": [
        "from sklearn.model_selection import train_test_split\n",
        "X_train, X_test, y_train, y_test = train_test_split(X, y, test_size=0.2)"
      ],
      "execution_count": 0,
      "outputs": []
    },
    {
      "cell_type": "code",
      "metadata": {
        "id": "Hvy9xdS7eBJ2",
        "colab_type": "code",
        "colab": {}
      },
      "source": [
        "## Hyperparameter optimization using RandomizedSearchCV\n",
        "from sklearn.model_selection import RandomizedSearchCV, GridSearchCV\n",
        "import xgboost"
      ],
      "execution_count": 0,
      "outputs": []
    },
    {
      "cell_type": "markdown",
      "metadata": {
        "id": "6VbpaiEsdwgS",
        "colab_type": "text"
      },
      "source": [
        "### Hyperparam selction"
      ]
    },
    {
      "cell_type": "markdown",
      "metadata": {
        "id": "SQi3lomH9u7R",
        "colab_type": "text"
      },
      "source": [
        "def xgboost.XGBClassifier(max_depth=3, learning_rate=0.1, n_estimators=100, verbosity=1, silent=None, objective='binary:logistic', booster='gbtree', n_jobs=1, nthread=None, gamma=0, min_child_weight=1, max_delta_step=0, subsample=1, colsample_bytree=1, colsample_bylevel=1, colsample_bynode=1, reg_alpha=0, reg_lambda=1, scale_pos_weight=1, base_score=0.5, random_state=0, seed=None, missing=None, **kwargs)"
      ]
    },
    {
      "cell_type": "code",
      "metadata": {
        "id": "EhXMKBo15cLZ",
        "colab_type": "code",
        "colab": {}
      },
      "source": [
        "## Hyper Parameter Optimization\n",
        "\n",
        "params={\n",
        " \"learning_rate\"    : [0.05, 0.10, 0.15, 0.20, 0.25, 0.30, 0.4, 0.5, 0.6,0.7, 0.8, 0.9] ,\n",
        " \"max_depth\"        : [ 3, 4, 5, 6, 8, 10, 12, 15],\n",
        " \"min_child_weight\" : [ 1, 3, 5, 7 ],\n",
        " \"gamma\"            : [ 0.0, 0.1, 0.2 , 0.3, 0.4 ],\n",
        " \"colsample_bytree\" : [ 0.3, 0.4, 0.5 , 0.7 ],\n",
        " \"subsamples\" : [0.8, 0.81, 0.82, 0.83, 0.84, 0.85, 0.86, 0.87, 0.88, 0.89,  0.9, 0.91, 0.92, 0.93, 0.94, 0.95, 0.96, 0.97, 0.98, 0.99]\n",
        "    \n",
        "}"
      ],
      "execution_count": 0,
      "outputs": []
    },
    {
      "cell_type": "code",
      "metadata": {
        "id": "xmJhZcPN5gwO",
        "colab_type": "code",
        "colab": {}
      },
      "source": [
        "def timer(start_time=None):\n",
        "    if not start_time:\n",
        "        start_time = datetime.now()\n",
        "        return start_time\n",
        "    elif start_time:\n",
        "        thour, temp_sec = divmod((datetime.now() - start_time).total_seconds(), 3600)\n",
        "        tmin, tsec = divmod(temp_sec, 60)\n",
        "        print('\\n Time taken: %i hours %i minutes and %s seconds.' % (thour, tmin, round(tsec, 2)))"
      ],
      "execution_count": 0,
      "outputs": []
    },
    {
      "cell_type": "code",
      "metadata": {
        "id": "2BaV4--z5jYu",
        "colab_type": "code",
        "colab": {}
      },
      "source": [
        "classifier=xgboost.XGBClassifier()\n",
        "\n",
        "random_search=RandomizedSearchCV(classifier,param_distributions=params,n_iter=5,scoring='roc_auc',n_jobs=-1,cv=5,verbose=3, )"
      ],
      "execution_count": 0,
      "outputs": []
    },
    {
      "cell_type": "code",
      "metadata": {
        "id": "mJ4cvbCV5ouY",
        "colab_type": "code",
        "colab": {}
      },
      "source": [
        "from datetime import datetime\n",
        "# Here we go\n",
        "start_time = timer(None) # timing starts from this point for \"start_time\" variable\n",
        "random_search.fit(X,y)\n",
        "timer(start_time) # timing ends here for \"start_time\" variable"
      ],
      "execution_count": 0,
      "outputs": []
    },
    {
      "cell_type": "code",
      "metadata": {
        "id": "sBlUcxsG5rm7",
        "colab_type": "code",
        "outputId": "0c12db58-51f3-42d7-c348-d9d05d90e324",
        "colab": {
          "base_uri": "https://localhost:8080/",
          "height": 137
        }
      },
      "source": [
        "random_search.best_estimator_"
      ],
      "execution_count": 0,
      "outputs": [
        {
          "output_type": "execute_result",
          "data": {
            "text/plain": [
              "XGBClassifier(base_score=0.5, booster='gbtree', colsample_bylevel=1,\n",
              "              colsample_bynode=1, colsample_bytree=0.7, gamma=0.1,\n",
              "              learning_rate=0.15, max_delta_step=0, max_depth=12,\n",
              "              min_child_weight=1, missing=None, n_estimators=100, n_jobs=1,\n",
              "              nthread=None, objective='binary:logistic', random_state=0,\n",
              "              reg_alpha=0, reg_lambda=1, scale_pos_weight=1, seed=None,\n",
              "              silent=None, subsample=1, subsamples=1.0, verbosity=1)"
            ]
          },
          "metadata": {
            "tags": []
          },
          "execution_count": 34
        }
      ]
    },
    {
      "cell_type": "code",
      "metadata": {
        "id": "D7P4Ocb_5tLX",
        "colab_type": "code",
        "outputId": "b91c92b7-c764-4973-8a3f-db28fb4d7b54",
        "colab": {
          "base_uri": "https://localhost:8080/",
          "height": 120
        }
      },
      "source": [
        "random_search.best_params_"
      ],
      "execution_count": 0,
      "outputs": [
        {
          "output_type": "execute_result",
          "data": {
            "text/plain": [
              "{'colsample_bytree': 0.7,\n",
              " 'gamma': 0.1,\n",
              " 'learning_rate': 0.15,\n",
              " 'max_depth': 12,\n",
              " 'min_child_weight': 1,\n",
              " 'subsamples': 1.0}"
            ]
          },
          "metadata": {
            "tags": []
          },
          "execution_count": 35
        }
      ]
    },
    {
      "cell_type": "markdown",
      "metadata": {
        "id": "2vpYkilkuF0q",
        "colab_type": "text"
      },
      "source": [
        "### Grid search"
      ]
    },
    {
      "cell_type": "code",
      "metadata": {
        "id": "rzT-ZVa57nLZ",
        "colab_type": "code",
        "colab": {}
      },
      "source": [
        "parameters = {\n",
        "    'learning_rate' : [0.65, 0.66, 0.67, 0.68, 0.69, 0.70, 0.71, 0.72, 0.73, 0.74, 0.75],\n",
        "    'subsamples' : [0.8, 0.81, 0.82, 0.83, 0.84, 0.85, 0.86, 0.87, 0.88, 0.89,  0.9, 0.91, 0.92, 0.93, 0.94, 0.95, 0.96, 0.97, 0.98, 0.99, 1.0],\n",
        "    'max_depth' : [1,2,3,4,5,6],\n",
        "    'colsample_bytrees' : [ 0.1, 0.2, 0.3, 0.4, 0.5 , 0.7, 0.8, 0.9, 1],\n",
        "    'min_child_weight' : [ 1, 3, 5, 7 ],\n",
        "    'gammas':[ 0.0, 0.1, 0.2 , 0.3, 0.4 ],\n",
        "}"
      ],
      "execution_count": 0,
      "outputs": []
    },
    {
      "cell_type": "code",
      "metadata": {
        "id": "Tsc4sQ_c1-Mj",
        "colab_type": "code",
        "outputId": "9762e201-c30f-4090-9ef1-09273907b720",
        "colab": {
          "base_uri": "https://localhost:8080/",
          "height": 393
        }
      },
      "source": [
        "xgb_model = xgboost.XGBClassifier()\n",
        "\n",
        "clf = GridSearchCV(xgb_model, parameters, n_jobs=10, \n",
        "                   scoring='f1_micro',\n",
        "                   verbose=2, refit=True)\n",
        "\n",
        "clf.fit(X_train, y_train)"
      ],
      "execution_count": 0,
      "outputs": [
        {
          "output_type": "stream",
          "text": [
            "Fitting 5 folds for each of 249480 candidates, totalling 1247400 fits\n"
          ],
          "name": "stdout"
        },
        {
          "output_type": "stream",
          "text": [
            "[Parallel(n_jobs=10)]: Using backend LokyBackend with 10 concurrent workers.\n",
            "[Parallel(n_jobs=10)]: Done  21 tasks      | elapsed:   15.7s\n",
            "[Parallel(n_jobs=10)]: Done 142 tasks      | elapsed:   56.8s\n",
            "[Parallel(n_jobs=10)]: Done 345 tasks      | elapsed:  2.1min\n",
            "[Parallel(n_jobs=10)]: Done 628 tasks      | elapsed:  4.4min\n",
            "[Parallel(n_jobs=10)]: Done 993 tasks      | elapsed:  8.2min\n",
            "[Parallel(n_jobs=10)]: Done 1438 tasks      | elapsed: 14.4min\n",
            "[Parallel(n_jobs=10)]: Done 1965 tasks      | elapsed: 24.1min\n",
            "[Parallel(n_jobs=10)]: Done 2572 tasks      | elapsed: 37.0min\n",
            "[Parallel(n_jobs=10)]: Done 3261 tasks      | elapsed: 42.0min\n",
            "[Parallel(n_jobs=10)]: Done 4030 tasks      | elapsed: 52.2min\n",
            "[Parallel(n_jobs=10)]: Done 4881 tasks      | elapsed: 69.7min\n",
            "[Parallel(n_jobs=10)]: Done 5812 tasks      | elapsed: 78.8min\n",
            "[Parallel(n_jobs=10)]: Done 6825 tasks      | elapsed: 93.6min\n",
            "[Parallel(n_jobs=10)]: Done 7918 tasks      | elapsed: 111.8min\n",
            "[Parallel(n_jobs=10)]: Done 9093 tasks      | elapsed: 125.6min\n",
            "[Parallel(n_jobs=10)]: Done 10348 tasks      | elapsed: 147.8min\n",
            "[Parallel(n_jobs=10)]: Done 11685 tasks      | elapsed: 163.2min\n",
            "[Parallel(n_jobs=10)]: Done 13102 tasks      | elapsed: 185.9min\n",
            "[Parallel(n_jobs=10)]: Done 14601 tasks      | elapsed: 207.5min\n",
            "[Parallel(n_jobs=10)]: Done 16180 tasks      | elapsed: 228.1min\n"
          ],
          "name": "stderr"
        }
      ]
    },
    {
      "cell_type": "code",
      "metadata": {
        "id": "AfgoxqrJYxUd",
        "colab_type": "code",
        "colab": {}
      },
      "source": [
        "#trust your CV!\n",
        "best_parameters, score, _ = max(clf.grid_scores_, key=lambda x: x[1])\n",
        "print('Raw AUC score:', score)\n",
        "for param_name in sorted(best_parameters.keys()):\n",
        "    print(\"%s: %r\" % (param_name, best_parameters[param_name]))"
      ],
      "execution_count": 0,
      "outputs": []
    },
    {
      "cell_type": "markdown",
      "metadata": {
        "id": "EZFT3vZ229Er",
        "colab_type": "text"
      },
      "source": [
        "### bayesian-optimization"
      ]
    },
    {
      "cell_type": "code",
      "metadata": {
        "id": "YjK9peVS3BJv",
        "colab_type": "code",
        "outputId": "2224e561-f715-4d8a-be2b-f5e98871e695",
        "colab": {
          "base_uri": "https://localhost:8080/",
          "height": 248
        }
      },
      "source": [
        "!pip install bayesian-optimization"
      ],
      "execution_count": 0,
      "outputs": [
        {
          "output_type": "stream",
          "text": [
            "Collecting bayesian-optimization\n",
            "  Downloading https://files.pythonhosted.org/packages/bb/7a/fd8059a3881d3ab37ac8f72f56b73937a14e8bb14a9733e68cc8b17dbe3c/bayesian-optimization-1.2.0.tar.gz\n",
            "Requirement already satisfied: numpy>=1.9.0 in /usr/local/lib/python3.6/dist-packages (from bayesian-optimization) (1.18.4)\n",
            "Requirement already satisfied: scipy>=0.14.0 in /usr/local/lib/python3.6/dist-packages (from bayesian-optimization) (1.4.1)\n",
            "Requirement already satisfied: scikit-learn>=0.18.0 in /usr/local/lib/python3.6/dist-packages (from bayesian-optimization) (0.22.2.post1)\n",
            "Requirement already satisfied: joblib>=0.11 in /usr/local/lib/python3.6/dist-packages (from scikit-learn>=0.18.0->bayesian-optimization) (0.15.1)\n",
            "Building wheels for collected packages: bayesian-optimization\n",
            "  Building wheel for bayesian-optimization (setup.py) ... \u001b[?25l\u001b[?25hdone\n",
            "  Created wheel for bayesian-optimization: filename=bayesian_optimization-1.2.0-cp36-none-any.whl size=11685 sha256=a1a455fd29534da644a079e784c25ccd91850b9706d1c8489b69d3251bf54feb\n",
            "  Stored in directory: /root/.cache/pip/wheels/5a/56/ae/e0e3c1fc1954dc3ec712e2df547235ed072b448094d8f94aec\n",
            "Successfully built bayesian-optimization\n",
            "Installing collected packages: bayesian-optimization\n",
            "Successfully installed bayesian-optimization-1.2.0\n"
          ],
          "name": "stdout"
        }
      ]
    },
    {
      "cell_type": "code",
      "metadata": {
        "id": "xGwBadIe3YIn",
        "colab_type": "code",
        "colab": {}
      },
      "source": [
        "xgb_model = xgboost.XGBClassifier()\n",
        "xgb_model.fit(X_train, y_train)\n",
        "y_pred = xgb_model.predict(X_test)"
      ],
      "execution_count": 0,
      "outputs": []
    },
    {
      "cell_type": "code",
      "metadata": {
        "id": "LzPQyD-P3p4D",
        "colab_type": "code",
        "outputId": "8cf936b8-ad1b-413f-d84d-2c3c27356ed1",
        "colab": {
          "base_uri": "https://localhost:8080/",
          "height": 177
        }
      },
      "source": [
        "#Printing the classification report\n",
        "from sklearn.metrics import classification_report, confusion_matrix\n",
        "print(classification_report(y_pred, y_test))"
      ],
      "execution_count": 0,
      "outputs": [
        {
          "output_type": "stream",
          "text": [
            "              precision    recall  f1-score   support\n",
            "\n",
            "           0       0.65      0.83      0.73       247\n",
            "           1       0.99      0.97      0.98      3189\n",
            "\n",
            "    accuracy                           0.96      3436\n",
            "   macro avg       0.82      0.90      0.85      3436\n",
            "weighted avg       0.96      0.96      0.96      3436\n",
            "\n"
          ],
          "name": "stdout"
        }
      ]
    },
    {
      "cell_type": "code",
      "metadata": {
        "id": "gRnyC8I_47ND",
        "colab_type": "code",
        "outputId": "579ddbe7-e63d-4887-da9e-1b5e8b3e2c4f",
        "colab": {
          "base_uri": "https://localhost:8080/",
          "height": 35
        }
      },
      "source": [
        "#Accuracy obtained on the training set\n",
        "cm = confusion_matrix(y_pred, y_test)\n",
        "acc = cm.diagonal().sum()/cm.sum()\n",
        "print(acc)"
      ],
      "execution_count": 0,
      "outputs": [
        {
          "output_type": "stream",
          "text": [
            "0.9560535506402794\n"
          ],
          "name": "stdout"
        }
      ]
    },
    {
      "cell_type": "code",
      "metadata": {
        "id": "3wUKANi55N4Q",
        "colab_type": "code",
        "outputId": "7b267d71-bad5-4412-d496-a94510e03698",
        "colab": {
          "base_uri": "https://localhost:8080/",
          "height": 301
        }
      },
      "source": [
        "#Importing necessary libraries\n",
        "from bayes_opt import BayesianOptimization\n",
        "import xgboost as xgb\n",
        "from sklearn.metrics import mean_squared_error\n",
        "\n",
        "#Converting the dataframe into XGBoost’s Dmatrix object\n",
        "dtrain = xgb.DMatrix(X_train, y_train)\n",
        "\n",
        "#Bayesian Optimization function for xgboost\n",
        "#specify the parameters you want to tune as keyword arguments\n",
        "def bo_tune_xgb(max_depth, gamma, n_estimators ,learning_rate, colsample_bytree):\n",
        "    params = {'max_depth': int(max_depth),\n",
        "              'gamma': gamma,\n",
        "              'n_estimators': int(n_estimators),\n",
        "              'learning_rate':learning_rate,\n",
        "              'subsample': 0.8,\n",
        "              'eta': 0.1,\n",
        "              'colsample_bytree' : colsample_bytree,\n",
        "              'eval_metric': 'rmse'}\n",
        "    #Cross validating with the specified parameters in 5 folds and 70 iterations\n",
        "    cv_result = xgb.cv(params, dtrain, num_boost_round=70, nfold=5)\n",
        "    #Return the negative RMSE\n",
        "    return -1.0 * cv_result['test-rmse-mean'].iloc[-1]\n",
        "\n",
        "#Invoking the Bayesian Optimizer with the specified parameters to tune\n",
        "xgb_bo = BayesianOptimization(bo_tune_xgb, {'max_depth': (3, 10),\n",
        "                                             'gamma': (0, 1),\n",
        "                                             'learning_rate':(0,1),\n",
        "                                             'n_estimators':(100,1000),\n",
        "                                            'colsample_bytree': (0,1)\n",
        "                                            })\n",
        "\n",
        "#performing Bayesian optimization for 5 iterations with 8 steps of random exploration with an #acquisition function of expected improvement\n",
        "xgb_bo.maximize(n_iter=5, init_points=8, acq='ei')"
      ],
      "execution_count": 0,
      "outputs": [
        {
          "output_type": "stream",
          "text": [
            "|   iter    |  target   | colsam... |   gamma   | learni... | max_depth | n_esti... |\n",
            "-------------------------------------------------------------------------------------\n",
            "| \u001b[0m 1       \u001b[0m | \u001b[0m-0.207   \u001b[0m | \u001b[0m 0.3512  \u001b[0m | \u001b[0m 0.3543  \u001b[0m | \u001b[0m 0.4424  \u001b[0m | \u001b[0m 7.043   \u001b[0m | \u001b[0m 381.1   \u001b[0m |\n",
            "| \u001b[95m 2       \u001b[0m | \u001b[95m-0.2047  \u001b[0m | \u001b[95m 0.4499  \u001b[0m | \u001b[95m 0.5946  \u001b[0m | \u001b[95m 0.6461  \u001b[0m | \u001b[95m 7.522   \u001b[0m | \u001b[95m 413.8   \u001b[0m |\n",
            "| \u001b[95m 3       \u001b[0m | \u001b[95m-0.1939  \u001b[0m | \u001b[95m 0.7776  \u001b[0m | \u001b[95m 0.2377  \u001b[0m | \u001b[95m 0.313   \u001b[0m | \u001b[95m 4.359   \u001b[0m | \u001b[95m 465.0   \u001b[0m |\n",
            "| \u001b[0m 4       \u001b[0m | \u001b[0m-0.1946  \u001b[0m | \u001b[0m 0.8232  \u001b[0m | \u001b[0m 0.8587  \u001b[0m | \u001b[0m 0.4921  \u001b[0m | \u001b[0m 3.609   \u001b[0m | \u001b[0m 620.4   \u001b[0m |\n",
            "| \u001b[0m 5       \u001b[0m | \u001b[0m-0.2141  \u001b[0m | \u001b[0m 0.5011  \u001b[0m | \u001b[0m 0.4398  \u001b[0m | \u001b[0m 0.7765  \u001b[0m | \u001b[0m 5.395   \u001b[0m | \u001b[0m 696.7   \u001b[0m |\n",
            "| \u001b[95m 6       \u001b[0m | \u001b[95m-0.1907  \u001b[0m | \u001b[95m 0.5122  \u001b[0m | \u001b[95m 0.4925  \u001b[0m | \u001b[95m 0.1655  \u001b[0m | \u001b[95m 4.462   \u001b[0m | \u001b[95m 165.6   \u001b[0m |\n",
            "| \u001b[0m 7       \u001b[0m | \u001b[0m-0.1925  \u001b[0m | \u001b[0m 0.7278  \u001b[0m | \u001b[0m 0.9909  \u001b[0m | \u001b[0m 0.2756  \u001b[0m | \u001b[0m 4.788   \u001b[0m | \u001b[0m 514.2   \u001b[0m |\n",
            "| \u001b[0m 8       \u001b[0m | \u001b[0m-0.1939  \u001b[0m | \u001b[0m 0.4044  \u001b[0m | \u001b[0m 0.7762  \u001b[0m | \u001b[0m 0.3887  \u001b[0m | \u001b[0m 7.335   \u001b[0m | \u001b[0m 137.8   \u001b[0m |\n",
            "| \u001b[0m 9       \u001b[0m | \u001b[0m-0.1971  \u001b[0m | \u001b[0m 0.5022  \u001b[0m | \u001b[0m 0.5193  \u001b[0m | \u001b[0m 0.4666  \u001b[0m | \u001b[0m 3.199   \u001b[0m | \u001b[0m 104.7   \u001b[0m |\n",
            "| \u001b[0m 10      \u001b[0m | \u001b[0m-0.2259  \u001b[0m | \u001b[0m 0.02388 \u001b[0m | \u001b[0m 0.8817  \u001b[0m | \u001b[0m 0.5898  \u001b[0m | \u001b[0m 9.586   \u001b[0m | \u001b[0m 152.2   \u001b[0m |\n",
            "| \u001b[0m 11      \u001b[0m | \u001b[0m-0.1937  \u001b[0m | \u001b[0m 0.5919  \u001b[0m | \u001b[0m 0.6232  \u001b[0m | \u001b[0m 0.4069  \u001b[0m | \u001b[0m 5.042   \u001b[0m | \u001b[0m 164.0   \u001b[0m |\n",
            "| \u001b[0m 12      \u001b[0m | \u001b[0m-0.5     \u001b[0m | \u001b[0m 1.0     \u001b[0m | \u001b[0m 0.0     \u001b[0m | \u001b[0m 0.0     \u001b[0m | \u001b[0m 3.0     \u001b[0m | \u001b[0m 1e+03   \u001b[0m |\n",
            "| \u001b[0m 13      \u001b[0m | \u001b[0m-0.1982  \u001b[0m | \u001b[0m 0.8989  \u001b[0m | \u001b[0m 0.04208 \u001b[0m | \u001b[0m 0.5026  \u001b[0m | \u001b[0m 3.018   \u001b[0m | \u001b[0m 131.4   \u001b[0m |\n",
            "=====================================================================================\n"
          ],
          "name": "stdout"
        }
      ]
    },
    {
      "cell_type": "code",
      "metadata": {
        "id": "OXF_Leb46fzY",
        "colab_type": "code",
        "outputId": "c5ad8568-4c36-450e-88bb-2f77df9c727b",
        "colab": {
          "base_uri": "https://localhost:8080/",
          "height": 195
        }
      },
      "source": [
        "#Extracting the best parameters\n",
        "params = xgb_bo.max['params']\n",
        "print(params)\n",
        "\n",
        "#Converting the max_depth and n_estimator values from float to int\n",
        "params['max_depth']= int(params['max_depth'])\n",
        "params['n_estimators']= int(params['n_estimators'])\n",
        "\n",
        "#Initialize an XGBClassifier with the tuned parameters and fit the training data\n",
        "from xgboost import XGBClassifier\n",
        "classifier2 = XGBClassifier(**params).fit(X_train, y_train)\n",
        "\n",
        "#predicting for training set\n",
        "train_p2 = classifier2.predict(X_test)\n",
        "\n",
        "#Looking at the classification report\n",
        "print(classification_report(train_p2, y_test))"
      ],
      "execution_count": 0,
      "outputs": [
        {
          "output_type": "stream",
          "text": [
            "{'colsample_bytree': 0.5122496225517502, 'gamma': 0.4924903131022843, 'learning_rate': 0.16554796718785592, 'max_depth': 4.462216503921924, 'n_estimators': 165.58402210197454}\n",
            "              precision    recall  f1-score   support\n",
            "\n",
            "           0       0.68      0.83      0.74       255\n",
            "           1       0.99      0.97      0.98      3181\n",
            "\n",
            "    accuracy                           0.96      3436\n",
            "   macro avg       0.83      0.90      0.86      3436\n",
            "weighted avg       0.96      0.96      0.96      3436\n",
            "\n"
          ],
          "name": "stdout"
        }
      ]
    },
    {
      "cell_type": "code",
      "metadata": {
        "id": "WEWu1A2z6tt0",
        "colab_type": "code",
        "outputId": "198ea53b-c12d-428a-fcd5-fb0ff14dbe7a",
        "colab": {
          "base_uri": "https://localhost:8080/",
          "height": 35
        }
      },
      "source": [
        "#Attained prediction accuracy on the training set\n",
        "cm = confusion_matrix(train_p2, y_test)\n",
        "acc = cm.diagonal().sum()/cm.sum()\n",
        "print(acc)"
      ],
      "execution_count": 0,
      "outputs": [
        {
          "output_type": "stream",
          "text": [
            "0.9577997671711292\n"
          ],
          "name": "stdout"
        }
      ]
    },
    {
      "cell_type": "markdown",
      "metadata": {
        "id": "PtQxvPTtd63T",
        "colab_type": "text"
      },
      "source": [
        "### Train and predict"
      ]
    },
    {
      "cell_type": "code",
      "metadata": {
        "id": "6B-Ja5vEP_a8",
        "colab_type": "code",
        "outputId": "0cb8172a-0778-4f8f-8df6-2b3e885f7d7f",
        "colab": {
          "base_uri": "https://localhost:8080/",
          "height": 34
        }
      },
      "source": [
        "xgb_model = xgboost.XGBClassifier(gamma=0.38337538819542516, learning_rate= 0.19422953823851152, max_depth=5.125028185787786, n_estimators=107.32214704297809)\n",
        "# xgb_model = xgboost.XGBClassifier()\n",
        "# xgb_model.fit(X_train, y_train)\n",
        "xgb_model.fit(X, y)\n",
        "\n",
        "y_pred = xgb_model.predict(X)\n",
        "print(f1_score(y, y_pred, average='macro'))"
      ],
      "execution_count": 0,
      "outputs": [
        {
          "output_type": "stream",
          "text": [
            "0.8128085116031741\n"
          ],
          "name": "stdout"
        }
      ]
    },
    {
      "cell_type": "markdown",
      "metadata": {
        "id": "btwG_mymF-59",
        "colab_type": "text"
      },
      "source": [
        "### Hyper param tuning"
      ]
    },
    {
      "cell_type": "code",
      "metadata": {
        "id": "JEhJ5vKCD4Oo",
        "colab_type": "code",
        "outputId": "bc03ab59-f027-4df5-ce44-325f88fb57e2",
        "colab": {
          "base_uri": "https://localhost:8080/",
          "height": 1000
        }
      },
      "source": [
        "eval_set = [(X_train, y_train), (X_test, y_test)]\n",
        "eval_metric = [\"auc\",\"error\"]\n",
        "%time xgb_model.fit(X_train, y_train, eval_metric=eval_metric, eval_set=eval_set, verbose=True)"
      ],
      "execution_count": 0,
      "outputs": [
        {
          "output_type": "stream",
          "text": [
            "[0]\tvalidation_0-auc:0.740564\tvalidation_0-error:0.082969\tvalidation_1-auc:0.762363\tvalidation_1-error:0.072177\n",
            "[1]\tvalidation_0-auc:0.784909\tvalidation_0-error:0.07984\tvalidation_1-auc:0.816799\tvalidation_1-error:0.072759\n",
            "[2]\tvalidation_0-auc:0.819915\tvalidation_0-error:0.064629\tvalidation_1-auc:0.841965\tvalidation_1-error:0.062282\n",
            "[3]\tvalidation_0-auc:0.836875\tvalidation_0-error:0.064702\tvalidation_1-auc:0.853431\tvalidation_1-error:0.062864\n",
            "[4]\tvalidation_0-auc:0.856672\tvalidation_0-error:0.064993\tvalidation_1-auc:0.86834\tvalidation_1-error:0.062864\n",
            "[5]\tvalidation_0-auc:0.864893\tvalidation_0-error:0.063028\tvalidation_1-auc:0.876651\tvalidation_1-error:0.062282\n",
            "[6]\tvalidation_0-auc:0.87926\tvalidation_0-error:0.061718\tvalidation_1-auc:0.877723\tvalidation_1-error:0.060827\n",
            "[7]\tvalidation_0-auc:0.896275\tvalidation_0-error:0.057642\tvalidation_1-auc:0.888045\tvalidation_1-error:0.059371\n",
            "[8]\tvalidation_0-auc:0.903405\tvalidation_0-error:0.053712\tvalidation_1-auc:0.898664\tvalidation_1-error:0.055588\n",
            "[9]\tvalidation_0-auc:0.912941\tvalidation_0-error:0.051747\tvalidation_1-auc:0.906278\tvalidation_1-error:0.053551\n",
            "[10]\tvalidation_0-auc:0.914879\tvalidation_0-error:0.049854\tvalidation_1-auc:0.906727\tvalidation_1-error:0.053842\n",
            "[11]\tvalidation_0-auc:0.915871\tvalidation_0-error:0.049127\tvalidation_1-auc:0.905522\tvalidation_1-error:0.052678\n",
            "[12]\tvalidation_0-auc:0.916793\tvalidation_0-error:0.04869\tvalidation_1-auc:0.903516\tvalidation_1-error:0.053842\n",
            "[13]\tvalidation_0-auc:0.923464\tvalidation_0-error:0.049127\tvalidation_1-auc:0.904653\tvalidation_1-error:0.05326\n",
            "[14]\tvalidation_0-auc:0.926289\tvalidation_0-error:0.048617\tvalidation_1-auc:0.901954\tvalidation_1-error:0.052678\n",
            "[15]\tvalidation_0-auc:0.934864\tvalidation_0-error:0.047671\tvalidation_1-auc:0.906541\tvalidation_1-error:0.052095\n",
            "[16]\tvalidation_0-auc:0.93756\tvalidation_0-error:0.047016\tvalidation_1-auc:0.907599\tvalidation_1-error:0.052969\n",
            "[17]\tvalidation_0-auc:0.939223\tvalidation_0-error:0.045997\tvalidation_1-auc:0.90972\tvalidation_1-error:0.052678\n",
            "[18]\tvalidation_0-auc:0.939737\tvalidation_0-error:0.044541\tvalidation_1-auc:0.91006\tvalidation_1-error:0.052678\n",
            "[19]\tvalidation_0-auc:0.941377\tvalidation_0-error:0.044105\tvalidation_1-auc:0.909921\tvalidation_1-error:0.053842\n",
            "[20]\tvalidation_0-auc:0.942435\tvalidation_0-error:0.043959\tvalidation_1-auc:0.910472\tvalidation_1-error:0.052678\n",
            "[21]\tvalidation_0-auc:0.943824\tvalidation_0-error:0.04476\tvalidation_1-auc:0.911269\tvalidation_1-error:0.052969\n",
            "[22]\tvalidation_0-auc:0.944556\tvalidation_0-error:0.043814\tvalidation_1-auc:0.909263\tvalidation_1-error:0.05326\n",
            "[23]\tvalidation_0-auc:0.94554\tvalidation_0-error:0.043668\tvalidation_1-auc:0.907246\tvalidation_1-error:0.053551\n",
            "[24]\tvalidation_0-auc:0.946953\tvalidation_0-error:0.043159\tvalidation_1-auc:0.906991\tvalidation_1-error:0.053551\n",
            "[25]\tvalidation_0-auc:0.947739\tvalidation_0-error:0.042722\tvalidation_1-auc:0.907749\tvalidation_1-error:0.053551\n",
            "[26]\tvalidation_0-auc:0.948433\tvalidation_0-error:0.042649\tvalidation_1-auc:0.907621\tvalidation_1-error:0.05326\n",
            "[27]\tvalidation_0-auc:0.948635\tvalidation_0-error:0.04214\tvalidation_1-auc:0.907203\tvalidation_1-error:0.053551\n",
            "[28]\tvalidation_0-auc:0.94905\tvalidation_0-error:0.041703\tvalidation_1-auc:0.907747\tvalidation_1-error:0.052969\n",
            "[29]\tvalidation_0-auc:0.949827\tvalidation_0-error:0.040539\tvalidation_1-auc:0.907864\tvalidation_1-error:0.052095\n",
            "[30]\tvalidation_0-auc:0.950365\tvalidation_0-error:0.040757\tvalidation_1-auc:0.908879\tvalidation_1-error:0.052386\n",
            "[31]\tvalidation_0-auc:0.952097\tvalidation_0-error:0.039956\tvalidation_1-auc:0.91032\tvalidation_1-error:0.052095\n",
            "[32]\tvalidation_0-auc:0.953425\tvalidation_0-error:0.039811\tvalidation_1-auc:0.91019\tvalidation_1-error:0.052386\n",
            "[33]\tvalidation_0-auc:0.95396\tvalidation_0-error:0.039374\tvalidation_1-auc:0.908892\tvalidation_1-error:0.052095\n",
            "[34]\tvalidation_0-auc:0.954528\tvalidation_0-error:0.039083\tvalidation_1-auc:0.909\tvalidation_1-error:0.052386\n",
            "[35]\tvalidation_0-auc:0.955546\tvalidation_0-error:0.038792\tvalidation_1-auc:0.909164\tvalidation_1-error:0.052095\n",
            "[36]\tvalidation_0-auc:0.956295\tvalidation_0-error:0.038719\tvalidation_1-auc:0.906992\tvalidation_1-error:0.051222\n",
            "[37]\tvalidation_0-auc:0.957213\tvalidation_0-error:0.037918\tvalidation_1-auc:0.907444\tvalidation_1-error:0.051513\n",
            "[38]\tvalidation_0-auc:0.958418\tvalidation_0-error:0.037118\tvalidation_1-auc:0.906121\tvalidation_1-error:0.051804\n",
            "[39]\tvalidation_0-auc:0.960682\tvalidation_0-error:0.03639\tvalidation_1-auc:0.906596\tvalidation_1-error:0.049185\n",
            "[40]\tvalidation_0-auc:0.961198\tvalidation_0-error:0.035371\tvalidation_1-auc:0.907329\tvalidation_1-error:0.049476\n",
            "[41]\tvalidation_0-auc:0.961893\tvalidation_0-error:0.03508\tvalidation_1-auc:0.909678\tvalidation_1-error:0.050058\n",
            "[42]\tvalidation_0-auc:0.961993\tvalidation_0-error:0.034934\tvalidation_1-auc:0.909108\tvalidation_1-error:0.049767\n",
            "[43]\tvalidation_0-auc:0.962691\tvalidation_0-error:0.034352\tvalidation_1-auc:0.908821\tvalidation_1-error:0.049476\n",
            "[44]\tvalidation_0-auc:0.963483\tvalidation_0-error:0.034425\tvalidation_1-auc:0.908125\tvalidation_1-error:0.049185\n",
            "[45]\tvalidation_0-auc:0.964957\tvalidation_0-error:0.034643\tvalidation_1-auc:0.908128\tvalidation_1-error:0.050931\n",
            "[46]\tvalidation_0-auc:0.965925\tvalidation_0-error:0.033988\tvalidation_1-auc:0.908502\tvalidation_1-error:0.050058\n",
            "[47]\tvalidation_0-auc:0.967039\tvalidation_0-error:0.033333\tvalidation_1-auc:0.908553\tvalidation_1-error:0.049767\n",
            "[48]\tvalidation_0-auc:0.967596\tvalidation_0-error:0.033406\tvalidation_1-auc:0.909416\tvalidation_1-error:0.049185\n",
            "[49]\tvalidation_0-auc:0.968465\tvalidation_0-error:0.033042\tvalidation_1-auc:0.910383\tvalidation_1-error:0.049767\n",
            "[50]\tvalidation_0-auc:0.969459\tvalidation_0-error:0.033333\tvalidation_1-auc:0.911008\tvalidation_1-error:0.049185\n",
            "[51]\tvalidation_0-auc:0.969945\tvalidation_0-error:0.032969\tvalidation_1-auc:0.910561\tvalidation_1-error:0.049767\n",
            "[52]\tvalidation_0-auc:0.970545\tvalidation_0-error:0.032897\tvalidation_1-auc:0.910342\tvalidation_1-error:0.050058\n",
            "[53]\tvalidation_0-auc:0.970661\tvalidation_0-error:0.032897\tvalidation_1-auc:0.910319\tvalidation_1-error:0.050058\n",
            "[54]\tvalidation_0-auc:0.971306\tvalidation_0-error:0.032242\tvalidation_1-auc:0.90996\tvalidation_1-error:0.049767\n",
            "[55]\tvalidation_0-auc:0.971826\tvalidation_0-error:0.032242\tvalidation_1-auc:0.909376\tvalidation_1-error:0.049185\n",
            "[56]\tvalidation_0-auc:0.971896\tvalidation_0-error:0.031951\tvalidation_1-auc:0.91077\tvalidation_1-error:0.048021\n",
            "[57]\tvalidation_0-auc:0.972713\tvalidation_0-error:0.032387\tvalidation_1-auc:0.910331\tvalidation_1-error:0.048603\n",
            "[58]\tvalidation_0-auc:0.973222\tvalidation_0-error:0.032387\tvalidation_1-auc:0.908651\tvalidation_1-error:0.047148\n",
            "[59]\tvalidation_0-auc:0.973311\tvalidation_0-error:0.031878\tvalidation_1-auc:0.908266\tvalidation_1-error:0.04773\n",
            "[60]\tvalidation_0-auc:0.974577\tvalidation_0-error:0.031951\tvalidation_1-auc:0.907583\tvalidation_1-error:0.048021\n",
            "[61]\tvalidation_0-auc:0.975169\tvalidation_0-error:0.031587\tvalidation_1-auc:0.90655\tvalidation_1-error:0.04773\n",
            "[62]\tvalidation_0-auc:0.975753\tvalidation_0-error:0.031223\tvalidation_1-auc:0.905379\tvalidation_1-error:0.048021\n",
            "[63]\tvalidation_0-auc:0.976263\tvalidation_0-error:0.031223\tvalidation_1-auc:0.904916\tvalidation_1-error:0.048021\n",
            "[64]\tvalidation_0-auc:0.9766\tvalidation_0-error:0.030713\tvalidation_1-auc:0.904832\tvalidation_1-error:0.04773\n",
            "[65]\tvalidation_0-auc:0.976658\tvalidation_0-error:0.03064\tvalidation_1-auc:0.904859\tvalidation_1-error:0.048021\n",
            "[66]\tvalidation_0-auc:0.977247\tvalidation_0-error:0.030568\tvalidation_1-auc:0.903897\tvalidation_1-error:0.04773\n",
            "[67]\tvalidation_0-auc:0.977814\tvalidation_0-error:0.030058\tvalidation_1-auc:0.903784\tvalidation_1-error:0.047148\n",
            "[68]\tvalidation_0-auc:0.978597\tvalidation_0-error:0.02984\tvalidation_1-auc:0.903705\tvalidation_1-error:0.048021\n",
            "[69]\tvalidation_0-auc:0.979188\tvalidation_0-error:0.029622\tvalidation_1-auc:0.903341\tvalidation_1-error:0.047439\n",
            "[70]\tvalidation_0-auc:0.980331\tvalidation_0-error:0.028967\tvalidation_1-auc:0.902975\tvalidation_1-error:0.048021\n",
            "[71]\tvalidation_0-auc:0.980777\tvalidation_0-error:0.028675\tvalidation_1-auc:0.902876\tvalidation_1-error:0.048021\n",
            "[72]\tvalidation_0-auc:0.981414\tvalidation_0-error:0.028675\tvalidation_1-auc:0.90285\tvalidation_1-error:0.048312\n",
            "[73]\tvalidation_0-auc:0.98161\tvalidation_0-error:0.027875\tvalidation_1-auc:0.90258\tvalidation_1-error:0.048312\n",
            "[74]\tvalidation_0-auc:0.981845\tvalidation_0-error:0.027729\tvalidation_1-auc:0.901635\tvalidation_1-error:0.048894\n",
            "[75]\tvalidation_0-auc:0.982207\tvalidation_0-error:0.027729\tvalidation_1-auc:0.901831\tvalidation_1-error:0.048894\n",
            "[76]\tvalidation_0-auc:0.982333\tvalidation_0-error:0.027511\tvalidation_1-auc:0.901515\tvalidation_1-error:0.049767\n",
            "[77]\tvalidation_0-auc:0.982708\tvalidation_0-error:0.027365\tvalidation_1-auc:0.901409\tvalidation_1-error:0.048894\n",
            "[78]\tvalidation_0-auc:0.983022\tvalidation_0-error:0.027365\tvalidation_1-auc:0.90029\tvalidation_1-error:0.048894\n",
            "[79]\tvalidation_0-auc:0.983455\tvalidation_0-error:0.026929\tvalidation_1-auc:0.901075\tvalidation_1-error:0.048021\n",
            "[80]\tvalidation_0-auc:0.98351\tvalidation_0-error:0.026638\tvalidation_1-auc:0.900795\tvalidation_1-error:0.048021\n",
            "[81]\tvalidation_0-auc:0.983588\tvalidation_0-error:0.026419\tvalidation_1-auc:0.900984\tvalidation_1-error:0.048021\n",
            "[82]\tvalidation_0-auc:0.983762\tvalidation_0-error:0.026274\tvalidation_1-auc:0.901895\tvalidation_1-error:0.046566\n",
            "[83]\tvalidation_0-auc:0.984022\tvalidation_0-error:0.02591\tvalidation_1-auc:0.902021\tvalidation_1-error:0.047148\n",
            "[84]\tvalidation_0-auc:0.984513\tvalidation_0-error:0.025837\tvalidation_1-auc:0.902038\tvalidation_1-error:0.048603\n",
            "[85]\tvalidation_0-auc:0.984869\tvalidation_0-error:0.025619\tvalidation_1-auc:0.90243\tvalidation_1-error:0.049767\n",
            "[86]\tvalidation_0-auc:0.985344\tvalidation_0-error:0.026419\tvalidation_1-auc:0.902582\tvalidation_1-error:0.049185\n",
            "[87]\tvalidation_0-auc:0.985465\tvalidation_0-error:0.026128\tvalidation_1-auc:0.902279\tvalidation_1-error:0.049476\n",
            "[88]\tvalidation_0-auc:0.985568\tvalidation_0-error:0.025328\tvalidation_1-auc:0.90252\tvalidation_1-error:0.049476\n",
            "[89]\tvalidation_0-auc:0.98579\tvalidation_0-error:0.025255\tvalidation_1-auc:0.902612\tvalidation_1-error:0.048894\n",
            "[90]\tvalidation_0-auc:0.985918\tvalidation_0-error:0.025036\tvalidation_1-auc:0.902815\tvalidation_1-error:0.04773\n",
            "[91]\tvalidation_0-auc:0.986272\tvalidation_0-error:0.024381\tvalidation_1-auc:0.903009\tvalidation_1-error:0.048312\n",
            "[92]\tvalidation_0-auc:0.986292\tvalidation_0-error:0.024236\tvalidation_1-auc:0.903372\tvalidation_1-error:0.04773\n",
            "[93]\tvalidation_0-auc:0.986352\tvalidation_0-error:0.024236\tvalidation_1-auc:0.902867\tvalidation_1-error:0.04773\n",
            "[94]\tvalidation_0-auc:0.986529\tvalidation_0-error:0.024309\tvalidation_1-auc:0.902797\tvalidation_1-error:0.048603\n",
            "[95]\tvalidation_0-auc:0.98659\tvalidation_0-error:0.02409\tvalidation_1-auc:0.901546\tvalidation_1-error:0.049185\n",
            "[96]\tvalidation_0-auc:0.986583\tvalidation_0-error:0.024309\tvalidation_1-auc:0.902096\tvalidation_1-error:0.049185\n",
            "[97]\tvalidation_0-auc:0.986741\tvalidation_0-error:0.024017\tvalidation_1-auc:0.900286\tvalidation_1-error:0.048894\n",
            "[98]\tvalidation_0-auc:0.986883\tvalidation_0-error:0.023799\tvalidation_1-auc:0.899743\tvalidation_1-error:0.049767\n",
            "[99]\tvalidation_0-auc:0.987502\tvalidation_0-error:0.023945\tvalidation_1-auc:0.900063\tvalidation_1-error:0.048603\n",
            "CPU times: user 1.92 s, sys: 35 ms, total: 1.96 s\n",
            "Wall time: 1.96 s\n"
          ],
          "name": "stdout"
        },
        {
          "output_type": "execute_result",
          "data": {
            "text/plain": [
              "XGBClassifier(base_score=0.5, booster='gbtree', colsample_bylevel=1,\n",
              "              colsample_bynode=1, colsample_bytree=1, gamma=0,\n",
              "              learning_rate=0.702, max_delta_step=0, max_depth=3,\n",
              "              min_child_weight=1, missing=None, n_estimators=100, n_jobs=1,\n",
              "              nthread=None, objective='binary:logistic', random_state=0,\n",
              "              reg_alpha=0, reg_lambda=1, scale_pos_weight=1, seed=None,\n",
              "              silent=None, subsample=1, verbosity=1)"
            ]
          },
          "metadata": {
            "tags": []
          },
          "execution_count": 32
        }
      ]
    },
    {
      "cell_type": "code",
      "metadata": {
        "id": "IW0HZfbaETHB",
        "colab_type": "code",
        "colab": {}
      },
      "source": [
        "model = xgboost.XGBClassifier(silent=False, \n",
        "                      scale_pos_weight=1,\n",
        "                      learning_rate=0.7,  \n",
        "                      colsample_bytree = 0.8,\n",
        "                      subsample = 0.8,\n",
        "                      objective='binary:logistic', \n",
        "                      n_estimators=1000, \n",
        "                      reg_alpha = 0.3,\n",
        "                      max_depth=6, \n",
        "                      gamma=10)"
      ],
      "execution_count": 0,
      "outputs": []
    },
    {
      "cell_type": "code",
      "metadata": {
        "id": "3LmdLy61Eilt",
        "colab_type": "code",
        "outputId": "5fb09550-371b-451c-87a4-3dcd7811eb19",
        "colab": {
          "base_uri": "https://localhost:8080/",
          "height": 34
        }
      },
      "source": [
        "model.fit(X_train, y_train)\n",
        "y_pred = model.predict(X_test)\n",
        "print(f1_score(y_test, y_pred, average='macro'))"
      ],
      "execution_count": 0,
      "outputs": [
        {
          "output_type": "stream",
          "text": [
            "0.8283566245800706\n"
          ],
          "name": "stdout"
        }
      ]
    },
    {
      "cell_type": "markdown",
      "metadata": {
        "id": "6rRpHdlXGCsK",
        "colab_type": "text"
      },
      "source": [
        "### Prediction"
      ]
    },
    {
      "cell_type": "code",
      "metadata": {
        "id": "Ggq3J5HvnFra",
        "colab_type": "code",
        "outputId": "7aa14017-616f-452b-c570-f81aea80ac36",
        "colab": {
          "base_uri": "https://localhost:8080/",
          "height": 53
        }
      },
      "source": [
        "# xgb_model = xgboost.XGBClassifier(learning_rate=0.14)\n",
        "xgb_model = xgboost.XGBClassifier()\n",
        "\n",
        "xgb_model.fit(X, y)\n",
        "y_pred = xgb_model.predict(X)\n",
        "print(f1_score(y, y_pred, average='macro'))\n",
        "\n",
        "# xgb_model.fit(X_train, y_train)\n",
        "# y_pred = xgb_model.predict(X_test)\n",
        "# print(f1_score(y_test, y_pred, average='macro'))\n",
        "\n",
        "y_pred_for_test = xgb_model.predict(X_pred)\n",
        "y_pred_for_test"
      ],
      "execution_count": 0,
      "outputs": [
        {
          "output_type": "stream",
          "text": [
            "0.8762147404118195\n"
          ],
          "name": "stdout"
        },
        {
          "output_type": "execute_result",
          "data": {
            "text/plain": [
              "array([1, 1, 1, ..., 1, 1, 1])"
            ]
          },
          "metadata": {
            "tags": []
          },
          "execution_count": 25
        }
      ]
    },
    {
      "cell_type": "markdown",
      "metadata": {
        "id": "RXDhxD_UdGIs",
        "colab_type": "text"
      },
      "source": [
        "### submission"
      ]
    },
    {
      "cell_type": "code",
      "metadata": {
        "id": "R8uiVAGeQQs7",
        "colab_type": "code",
        "outputId": "0be044da-a574-487d-e74a-5728df6d12f8",
        "colab": {
          "base_uri": "https://localhost:8080/",
          "height": 35
        }
      },
      "source": [
        "import csv\n",
        "\n",
        "file_name = \"submission_xgboost_all_new_features_06_08_cleaned_fare_per_min\"\n",
        "\n",
        "with open('/content/drive/My Drive/Semester 7/ML/Project/'+ file_name +'.csv', mode='w') as fare_file:\n",
        "    writer = csv.writer(fare_file, delimiter=',', quotechar='\"', quoting=csv.QUOTE_MINIMAL)\n",
        "    writer.writerow(['tripid','prediction'])\n",
        "    for i in range(len(y_pred_for_test)):\n",
        "      writer.writerow([df_test['tripid'][i],y_pred_for_test[i]])\n",
        "\n",
        "count = 0\n",
        "with open('/content/drive/My Drive/Semester 7/ML/Project/'+ file_name +'.csv','rt')as f:\n",
        "  data = csv.reader(f)\n",
        "  for row in data:\n",
        "        if row[1] == '0':\n",
        "          count+=1\n",
        "count"
      ],
      "execution_count": 0,
      "outputs": [
        {
          "output_type": "execute_result",
          "data": {
            "text/plain": [
              "394"
            ]
          },
          "metadata": {
            "tags": []
          },
          "execution_count": 27
        }
      ]
    },
    {
      "cell_type": "markdown",
      "metadata": {
        "id": "fh9TZ5gs1bxC",
        "colab_type": "text"
      },
      "source": [
        "0.97847  364 "
      ]
    },
    {
      "cell_type": "code",
      "metadata": {
        "id": "0idQ8G4MfZuf",
        "colab_type": "code",
        "outputId": "c043aca6-c751-41f8-e925-b0a905601d15",
        "colab": {
          "base_uri": "https://localhost:8080/",
          "height": 35
        }
      },
      "source": [
        "import csv\n",
        "count = 0\n",
        "with open('/content/drive/My Drive/Semester 7/ML/Project/submission_xgboost_additional_fare_as_a_factor.csv','rt')as f:\n",
        "  data = csv.reader(f)\n",
        "  for row in data:\n",
        "        if row[1] == '0':\n",
        "          count+=1\n",
        "count"
      ],
      "execution_count": 0,
      "outputs": [
        {
          "output_type": "execute_result",
          "data": {
            "text/plain": [
              "401"
            ]
          },
          "metadata": {
            "tags": []
          },
          "execution_count": 22
        }
      ]
    },
    {
      "cell_type": "markdown",
      "metadata": {
        "id": "CVhRZT2W1jea",
        "colab_type": "text"
      },
      "source": [
        "0.98 394  0.8762147404118195\n",
        "\n",
        "0.97865 377\n",
        "\n",
        "0.97938 403  0.8784483323006262\n",
        "\n",
        "0.97954 401 0.880807910755937"
      ]
    }
  ]
}