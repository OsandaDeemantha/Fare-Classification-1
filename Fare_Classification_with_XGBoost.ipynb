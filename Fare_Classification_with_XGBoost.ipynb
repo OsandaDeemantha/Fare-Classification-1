{
  "nbformat": 4,
  "nbformat_minor": 0,
  "metadata": {
    "colab": {
      "name": "Fare Classification - with XGBoost.ipynb",
      "provenance": [],
      "collapsed_sections": [],
      "authorship_tag": "ABX9TyPdIvONgbkRmBclY9ndAtz3",
      "include_colab_link": true
    },
    "kernelspec": {
      "name": "python3",
      "display_name": "Python 3"
    }
  },
  "cells": [
    {
      "cell_type": "markdown",
      "metadata": {
        "id": "view-in-github",
        "colab_type": "text"
      },
      "source": [
        "<a href=\"https://colab.research.google.com/github/bhanukad610/Fare-Classification/blob/master/Fare_Classification_with_XGBoost.ipynb\" target=\"_parent\"><img src=\"https://colab.research.google.com/assets/colab-badge.svg\" alt=\"Open In Colab\"/></a>"
      ]
    },
    {
      "cell_type": "markdown",
      "metadata": {
        "id": "czZSRPr8dkO7",
        "colab_type": "text"
      },
      "source": [
        "Ahh eke thawa hadanna fare per km, fare per min\n",
        "\n",
        "Thawa speed, additional fare as a factor or additional fare per km\n",
        "Eke fare ekai distance ekai important gdk\n",
        "\n",
        "Additional fare eke frequency wadi category 8kda koheda thiyanawa\n",
        "\n",
        "(Duration-waiting)/fare danna.."
      ]
    },
    {
      "cell_type": "code",
      "metadata": {
        "id": "RXFc1Ul9Gjhy",
        "colab_type": "code",
        "colab": {
          "base_uri": "https://localhost:8080/",
          "height": 125
        },
        "outputId": "d026e59f-0057-40fb-8bb9-768647e7b314"
      },
      "source": [
        "from google.colab import drive\n",
        "drive.mount('/content/drive')"
      ],
      "execution_count": 1,
      "outputs": [
        {
          "output_type": "stream",
          "text": [
            "Go to this URL in a browser: https://accounts.google.com/o/oauth2/auth?client_id=947318989803-6bn6qk8qdgf4n4g3pfee6491hc0brc4i.apps.googleusercontent.com&redirect_uri=urn%3aietf%3awg%3aoauth%3a2.0%3aoob&response_type=code&scope=email%20https%3a%2f%2fwww.googleapis.com%2fauth%2fdocs.test%20https%3a%2f%2fwww.googleapis.com%2fauth%2fdrive%20https%3a%2f%2fwww.googleapis.com%2fauth%2fdrive.photos.readonly%20https%3a%2f%2fwww.googleapis.com%2fauth%2fpeopleapi.readonly\n",
            "\n",
            "Enter your authorization code:\n",
            "··········\n",
            "Mounted at /content/drive\n"
          ],
          "name": "stdout"
        }
      ]
    },
    {
      "cell_type": "markdown",
      "metadata": {
        "id": "efB2iJQM2Wxm",
        "colab_type": "text"
      },
      "source": [
        "### Import Libraries"
      ]
    },
    {
      "cell_type": "code",
      "metadata": {
        "id": "ZdG7onyjG8YX",
        "colab_type": "code",
        "colab": {}
      },
      "source": [
        "import numpy as np\n",
        "import pandas as pd\n",
        "from sklearn.model_selection import train_test_split, cross_val_predict\n",
        "from sklearn.metrics import confusion_matrix, precision_score, recall_score, f1_score\n",
        "import warnings\n",
        "warnings.filterwarnings(\"ignore\", category=DeprecationWarning)\n",
        "%matplotlib inline"
      ],
      "execution_count": 0,
      "outputs": []
    },
    {
      "cell_type": "markdown",
      "metadata": {
        "id": "YYg0rFqwqUC7",
        "colab_type": "text"
      },
      "source": [
        "### Data exploration"
      ]
    },
    {
      "cell_type": "code",
      "metadata": {
        "id": "jSPKg05ia4bp",
        "colab_type": "code",
        "colab": {}
      },
      "source": [
        "## Correlation\n",
        "import seaborn as sns\n",
        "import matplotlib.pyplot as plt\n",
        "#get correlations of each features in dataset\n",
        "# df = pd.read_csv('/content/drive/My Drive/Semester 7/ML/Project/Data/train.csv')\n",
        "# df['label'].replace(to_replace=['correct','incorrect'], value=[1,0],inplace=True)\n",
        "corrmat = Features.corr()\n",
        "top_corr_features = corrmat.index\n",
        "plt.figure(figsize=(10,10))\n",
        "#plot heat map\n",
        "g=sns.heatmap(df[top_corr_features].corr(),annot=True,cmap=\"RdYlGn\")"
      ],
      "execution_count": 0,
      "outputs": []
    },
    {
      "cell_type": "markdown",
      "metadata": {
        "id": "FPNeVPaN-_R4",
        "colab_type": "text"
      },
      "source": [
        "### getGeneralDataFromDateTimeObj"
      ]
    },
    {
      "cell_type": "code",
      "metadata": {
        "id": "6N-EWUrU6KUX",
        "colab_type": "code",
        "colab": {}
      },
      "source": [
        "import datetime\n",
        "from datetime import timedelta\n",
        "\n",
        "def getGeneralDataFromDateTimeObj(time):\n",
        "  datetimeFormat = '%m/%d/%Y %H:%M'\n",
        "  dateTimeObj = datetime.datetime.strptime(time, datetimeFormat)\n",
        "  return [float(dateTimeObj.month), float(dateTimeObj.day), float(dateTimeObj.hour), float(dateTimeObj.minute), float(dateTimeObj.year)]\n",
        "\n",
        "# getGeneralDataFromDateTimeObj('11/1/2019 0:20')"
      ],
      "execution_count": 0,
      "outputs": []
    },
    {
      "cell_type": "code",
      "metadata": {
        "id": "fvoP8YnW7C-M",
        "colab_type": "code",
        "colab": {}
      },
      "source": [
        "def generate_drop_time(df):\n",
        "  df_drop_time_month = []\n",
        "  df_drop_time_day = []\n",
        "  df_drop_time_hour = []\n",
        "  df_drop_time_minute = []\n",
        "\n",
        "  for time in df['drop_time']:\n",
        "    data = getGeneralDataFromDateTimeObj(time)\n",
        "    df_drop_time_month.append(data[0])\n",
        "    df_drop_time_day.append(data[1])\n",
        "    df_drop_time_hour.append(data[2])\n",
        "    df_drop_time_minute.append(data[3])\n",
        "\n",
        "  df['drop_time_month'] = df_drop_time_month\n",
        "  df['df_drop_time_day'] = df_drop_time_day\n",
        "  df['df_drop_time_hour'] = df_drop_time_hour\n",
        "  df['df_drop_time_minute'] = df_drop_time_minute"
      ],
      "execution_count": 0,
      "outputs": []
    },
    {
      "cell_type": "code",
      "metadata": {
        "id": "p5G1NTkl9saL",
        "colab_type": "code",
        "colab": {}
      },
      "source": [
        "def generate_pickup_time(df):\n",
        "  df_pickup_time_month = []\n",
        "  df_pickup_time_day = []\n",
        "  df_pickup_time_hour = []\n",
        "  df_pickup_time_minute = []\n",
        "\n",
        "  for time in df['pickup_time']:\n",
        "    data = getGeneralDataFromDateTimeObj(time)\n",
        "    df_pickup_time_month.append(data[0])\n",
        "    df_pickup_time_day.append(data[1])\n",
        "    df_pickup_time_hour.append(data[2])\n",
        "    df_pickup_time_minute.append(data[3])\n",
        "\n",
        "  df['df_pickup_time_month'] = df_pickup_time_month\n",
        "  df['df_pickup_time_day'] = df_pickup_time_day\n",
        "  df['df_pickup_time_hour'] = df_pickup_time_hour\n",
        "  df['df_pickup_time_minute'] = df_pickup_time_minute"
      ],
      "execution_count": 0,
      "outputs": []
    },
    {
      "cell_type": "markdown",
      "metadata": {
        "id": "aPIH2Qdr2eX6",
        "colab_type": "text"
      },
      "source": [
        "### Functions"
      ]
    },
    {
      "cell_type": "code",
      "metadata": {
        "id": "JLaDghXtguuj",
        "colab_type": "code",
        "colab": {}
      },
      "source": [
        "def calculate_fare_per_km(df):\n",
        "  fare_per_km = []\n",
        "\n",
        "  for i in range (len(df['fare'])):\n",
        "    calculate_fare_per_km_value = df['fare'][i] / df['distance'][i]\n",
        "    fare_per_km.append(calculate_fare_per_km_value)\n",
        "\n",
        "  df['fare_per_km'] = fare_per_km"
      ],
      "execution_count": 0,
      "outputs": []
    },
    {
      "cell_type": "code",
      "metadata": {
        "id": "dtLm2WN7j5uq",
        "colab_type": "code",
        "colab": {}
      },
      "source": [
        "def calculate_fare_per_min(df):\n",
        "  fare_per_second = []\n",
        "\n",
        "  for i in range (len(df['fare'])):\n",
        "    fare_per_second_value =  60 * df['fare'][i] / df['duration'][i]\n",
        "    fare_per_second.append(fare_per_second_value)\n",
        "\n",
        "  df['fare_per_min'] = fare_per_second"
      ],
      "execution_count": 0,
      "outputs": []
    },
    {
      "cell_type": "code",
      "metadata": {
        "id": "j-5kmd-rjEN2",
        "colab_type": "code",
        "colab": {}
      },
      "source": [
        "def calculate_speed(df):\n",
        "  speed = []\n",
        "\n",
        "  for i in range (len(df['fare'])):\n",
        "    speed_value =  3600 * df['distance'][i] / (df['duration'][i] - df['meter_waiting'][i])\n",
        "    speed.append(speed_value)\n",
        "\n",
        "  df['speed'] = speed"
      ],
      "execution_count": 0,
      "outputs": []
    },
    {
      "cell_type": "code",
      "metadata": {
        "id": "2DOo_SOLn6LD",
        "colab_type": "code",
        "colab": {}
      },
      "source": [
        "# (Duration-meter_waiting)/fare\n",
        "\n",
        "def calculate_real_duration_per_fare(df):\n",
        "  real_duration_per_fare = []\n",
        "\n",
        "  for i in range (len(df['fare'])):\n",
        "    real_duration_per_fare_value =   (df['duration'][i] - df['meter_waiting'][i]) / df['fare'][i]\n",
        "    real_duration_per_fare.append(real_duration_per_fare_value)\n",
        "\n",
        "  df['real_duration_per_fare'] = real_duration_per_fare"
      ],
      "execution_count": 0,
      "outputs": []
    },
    {
      "cell_type": "code",
      "metadata": {
        "id": "l-t64Rqr26Es",
        "colab_type": "code",
        "colab": {}
      },
      "source": [
        "def calculate_additional_fare_as_a_factor(df):\n",
        "  additional_fare_as_a_factor = []\n",
        "\n",
        "  for i in range (len(df['fare'])):\n",
        "    additional_fare_as_a_factor_value =  df['additional_fare'][i] / df['fare'][i]\n",
        "    additional_fare_as_a_factor.append(additional_fare_as_a_factor_value)\n",
        "\n",
        "  df['additional_fare_as_a_factor'] = additional_fare_as_a_factor"
      ],
      "execution_count": 0,
      "outputs": []
    },
    {
      "cell_type": "code",
      "metadata": {
        "id": "EGjhIbbuPVk6",
        "colab_type": "code",
        "colab": {}
      },
      "source": [
        "def calculate_meter_waiting_fare_per_sec(df):\n",
        "  meter_waiting_fare_per_sec = []\n",
        "\n",
        "  for i in range (len(df['meter_waiting_fare'])):\n",
        "    meter_waiting_fare_per_sec_value =  df['meter_waiting_fare'][i] / df['meter_waiting'][i]\n",
        "    meter_waiting_fare_per_sec.append(meter_waiting_fare_per_sec_value)\n",
        "\n",
        "  df['meter_waiting_fare_per_sec'] = meter_waiting_fare_per_sec"
      ],
      "execution_count": 0,
      "outputs": []
    },
    {
      "cell_type": "code",
      "metadata": {
        "id": "IKOnFHUKFlPC",
        "colab_type": "code",
        "colab": {}
      },
      "source": [
        "#under construction !!!\n",
        "def calculate_additional_fare_weight(df):\n",
        "  additional_fare_weight = []\n",
        "  additional_fare_sorted = np.sort(df['additional_fare'].unique())\n",
        "  additional_fare = df['additional_fare'].values.tolist()\n",
        "  grp = df.groupby(['additional_fare'])['label'].value_counts(normalize=True)\n",
        "\n",
        "  for i in df['additional_fare']:\n",
        "    index_additional_fare_sorted = np.where(additional_fare_sorted == i)\n",
        "    print(grp[index_additional_fare_sorted][1])\n",
        "    # additional_fare_weight.append(grp[index_additional_fare_sorted][1])\n",
        "\n",
        "  # df['additional_fare_weight'] = additional_fare_weight"
      ],
      "execution_count": 0,
      "outputs": []
    },
    {
      "cell_type": "code",
      "metadata": {
        "id": "r7Pa3eFNH1I9",
        "colab_type": "code",
        "colab": {}
      },
      "source": [
        "import numpy as np\n",
        "from sklearn.impute import SimpleImputer\n",
        "\n",
        "def naImputation(Features, column_names):\n",
        "  # df.replace(np.NaN,np.NaN,inplace=True)\n",
        "  imp=SimpleImputer(missing_values=np.NaN)\n",
        "  idf=pd.DataFrame(imp.fit_transform(Features))\n",
        "  idf.columns=Features.columns\n",
        "  idf.index=Features.index\n",
        "\n",
        "  for column_name in column_names:\n",
        "    idf[column_name].isna().sum()\n",
        "\n",
        "  \n",
        "  return idf"
      ],
      "execution_count": 0,
      "outputs": []
    },
    {
      "cell_type": "code",
      "metadata": {
        "id": "swVafQvTR6JT",
        "colab_type": "code",
        "colab": {}
      },
      "source": [
        "import geopy.distance\n",
        "\n",
        "#function to calculte distance from lat and longs\n",
        "def calculateDistance(pick_lat,pick_lon, drop_lat, drop_lon):\n",
        "      coords_1 = (pick_lat, pick_lon)\n",
        "      coords_2 = (drop_lat, drop_lon)\n",
        "      return geopy.distance.vincenty(coords_1, coords_2).km\n",
        "\n",
        "def calculateDistanceDf(pick_lat_frame,pick_lon_frame, drop_lat_frame, drop_lon_frame):\n",
        "  distanceList = []\n",
        "  for i in range(len(drop_lon_frame)):\n",
        "    pick_lat = pick_lat_frame[i]\n",
        "    pick_lon = pick_lon_frame[i]\n",
        "    drop_lat = drop_lat_frame[i]\n",
        "    drop_lon = drop_lon_frame[i]\n",
        "\n",
        "    try:\n",
        "      distance = calculateDistance(pick_lat,pick_lon, drop_lat, drop_lon)\n",
        "    except:\n",
        "      print(\"Error occured! , at\", i)\n",
        "\n",
        "    distanceList.append(distance)\n",
        "  return distanceList"
      ],
      "execution_count": 0,
      "outputs": []
    },
    {
      "cell_type": "code",
      "metadata": {
        "id": "tuEm1JyXSAxi",
        "colab_type": "code",
        "colab": {}
      },
      "source": [
        "def preprocess(df, features):\n",
        "  features_loc = features\n",
        "  generate_pickup_time(df)\n",
        "  generate_drop_time(df)\n",
        "\n",
        "  df['distance'] = calculateDistanceDf(df['pick_lat'], df['pick_lon'], df['drop_lat'], df['drop_lon'])\n",
        "\n",
        "\n",
        "  calculate_fare_per_km(df)\n",
        "  calculate_real_duration_per_fare(df)\n",
        "  calculate_speed(df)\n",
        "  calculate_additional_fare_as_a_factor(df)\n",
        "\n",
        "  calculate_meter_waiting_fare_per_sec(df)\n",
        "\n",
        "  calculate_fare_per_min(df)\n",
        "  features_loc += ['meter_waiting_fare_per_sec', 'fare_per_min', 'additional_fare_as_a_factor', 'speed', 'real_duration_per_fare', 'distance', 'df_pickup_time_month', 'df_pickup_time_day', 'df_pickup_time_hour', 'df_pickup_time_minute', 'drop_time_month', 'df_drop_time_day', 'df_drop_time_hour', 'df_drop_time_minute']\n",
        "\n",
        "  Features = df[features_loc]\n",
        "  # Features = naImputation(Features,features) fare_per_km\n",
        "  print(features)\n",
        "  \n",
        "  return Features"
      ],
      "execution_count": 0,
      "outputs": []
    },
    {
      "cell_type": "markdown",
      "metadata": {
        "id": "sHdmOCKu2h0Y",
        "colab_type": "text"
      },
      "source": [
        "### Load train and test data"
      ]
    },
    {
      "cell_type": "code",
      "metadata": {
        "id": "EyJ-Q-EkSGrJ",
        "colab_type": "code",
        "outputId": "54db4e3a-5e33-4dfd-b998-d1014268395d",
        "colab": {
          "base_uri": "https://localhost:8080/",
          "height": 590
        }
      },
      "source": [
        "df = pd.read_csv('/content/drive/My Drive/Semester 7/ML/Project/Data/train.csv')\n",
        "df['label'].replace(to_replace=['correct','incorrect'], value=[1,0],inplace=True)\n",
        "features = ['additional_fare','duration', 'meter_waiting', 'meter_waiting_fare', 'meter_waiting_till_pickup', 'fare']\n",
        "df"
      ],
      "execution_count": 17,
      "outputs": [
        {
          "output_type": "execute_result",
          "data": {
            "text/html": [
              "<div>\n",
              "<style scoped>\n",
              "    .dataframe tbody tr th:only-of-type {\n",
              "        vertical-align: middle;\n",
              "    }\n",
              "\n",
              "    .dataframe tbody tr th {\n",
              "        vertical-align: top;\n",
              "    }\n",
              "\n",
              "    .dataframe thead th {\n",
              "        text-align: right;\n",
              "    }\n",
              "</style>\n",
              "<table border=\"1\" class=\"dataframe\">\n",
              "  <thead>\n",
              "    <tr style=\"text-align: right;\">\n",
              "      <th></th>\n",
              "      <th>tripid</th>\n",
              "      <th>additional_fare</th>\n",
              "      <th>duration</th>\n",
              "      <th>meter_waiting</th>\n",
              "      <th>meter_waiting_fare</th>\n",
              "      <th>meter_waiting_till_pickup</th>\n",
              "      <th>pickup_time</th>\n",
              "      <th>drop_time</th>\n",
              "      <th>pick_lat</th>\n",
              "      <th>pick_lon</th>\n",
              "      <th>drop_lat</th>\n",
              "      <th>drop_lon</th>\n",
              "      <th>fare</th>\n",
              "      <th>label</th>\n",
              "    </tr>\n",
              "  </thead>\n",
              "  <tbody>\n",
              "    <tr>\n",
              "      <th>0</th>\n",
              "      <td>189123628</td>\n",
              "      <td>10.5</td>\n",
              "      <td>834.0</td>\n",
              "      <td>56.0</td>\n",
              "      <td>0.0000</td>\n",
              "      <td>64.0</td>\n",
              "      <td>11/1/2019 0:20</td>\n",
              "      <td>11/1/2019 0:34</td>\n",
              "      <td>6.86252</td>\n",
              "      <td>79.8993</td>\n",
              "      <td>6.90330</td>\n",
              "      <td>79.8783</td>\n",
              "      <td>270.32</td>\n",
              "      <td>1</td>\n",
              "    </tr>\n",
              "    <tr>\n",
              "      <th>1</th>\n",
              "      <td>189125358</td>\n",
              "      <td>10.5</td>\n",
              "      <td>791.0</td>\n",
              "      <td>47.0</td>\n",
              "      <td>0.0000</td>\n",
              "      <td>134.0</td>\n",
              "      <td>11/1/2019 0:56</td>\n",
              "      <td>11/1/2019 1:09</td>\n",
              "      <td>6.88589</td>\n",
              "      <td>79.8984</td>\n",
              "      <td>6.91373</td>\n",
              "      <td>79.8923</td>\n",
              "      <td>197.85</td>\n",
              "      <td>1</td>\n",
              "    </tr>\n",
              "    <tr>\n",
              "      <th>2</th>\n",
              "      <td>189125719</td>\n",
              "      <td>10.5</td>\n",
              "      <td>1087.0</td>\n",
              "      <td>80.0</td>\n",
              "      <td>0.0000</td>\n",
              "      <td>61.0</td>\n",
              "      <td>11/1/2019 1:08</td>\n",
              "      <td>11/1/2019 1:26</td>\n",
              "      <td>6.90839</td>\n",
              "      <td>79.8651</td>\n",
              "      <td>6.93669</td>\n",
              "      <td>79.9146</td>\n",
              "      <td>301.64</td>\n",
              "      <td>1</td>\n",
              "    </tr>\n",
              "    <tr>\n",
              "      <th>3</th>\n",
              "      <td>189127273</td>\n",
              "      <td>10.5</td>\n",
              "      <td>598.0</td>\n",
              "      <td>271.0</td>\n",
              "      <td>15.6638</td>\n",
              "      <td>68.0</td>\n",
              "      <td>11/1/2019 2:27</td>\n",
              "      <td>11/1/2019 2:37</td>\n",
              "      <td>6.92570</td>\n",
              "      <td>79.8895</td>\n",
              "      <td>6.92748</td>\n",
              "      <td>79.8971</td>\n",
              "      <td>82.30</td>\n",
              "      <td>1</td>\n",
              "    </tr>\n",
              "    <tr>\n",
              "      <th>4</th>\n",
              "      <td>189128020</td>\n",
              "      <td>NaN</td>\n",
              "      <td>NaN</td>\n",
              "      <td>NaN</td>\n",
              "      <td>NaN</td>\n",
              "      <td>NaN</td>\n",
              "      <td>11/1/2019 3:34</td>\n",
              "      <td>11/1/2019 3:51</td>\n",
              "      <td>6.87441</td>\n",
              "      <td>79.8615</td>\n",
              "      <td>6.84478</td>\n",
              "      <td>79.9290</td>\n",
              "      <td>358.39</td>\n",
              "      <td>1</td>\n",
              "    </tr>\n",
              "    <tr>\n",
              "      <th>...</th>\n",
              "      <td>...</td>\n",
              "      <td>...</td>\n",
              "      <td>...</td>\n",
              "      <td>...</td>\n",
              "      <td>...</td>\n",
              "      <td>...</td>\n",
              "      <td>...</td>\n",
              "      <td>...</td>\n",
              "      <td>...</td>\n",
              "      <td>...</td>\n",
              "      <td>...</td>\n",
              "      <td>...</td>\n",
              "      <td>...</td>\n",
              "      <td>...</td>\n",
              "    </tr>\n",
              "    <tr>\n",
              "      <th>17171</th>\n",
              "      <td>213803193</td>\n",
              "      <td>10.5</td>\n",
              "      <td>838.0</td>\n",
              "      <td>93.0</td>\n",
              "      <td>5.4219</td>\n",
              "      <td>451.0</td>\n",
              "      <td>1/31/2020 22:07</td>\n",
              "      <td>1/31/2020 22:21</td>\n",
              "      <td>7.29073</td>\n",
              "      <td>80.6367</td>\n",
              "      <td>7.28891</td>\n",
              "      <td>80.6557</td>\n",
              "      <td>198.26</td>\n",
              "      <td>1</td>\n",
              "    </tr>\n",
              "    <tr>\n",
              "      <th>17172</th>\n",
              "      <td>213812756</td>\n",
              "      <td>10.5</td>\n",
              "      <td>2151.0</td>\n",
              "      <td>428.0</td>\n",
              "      <td>0.0000</td>\n",
              "      <td>39.0</td>\n",
              "      <td>1/31/2020 23:07</td>\n",
              "      <td>1/31/2020 23:43</td>\n",
              "      <td>6.90569</td>\n",
              "      <td>79.8516</td>\n",
              "      <td>6.95089</td>\n",
              "      <td>79.9389</td>\n",
              "      <td>581.23</td>\n",
              "      <td>1</td>\n",
              "    </tr>\n",
              "    <tr>\n",
              "      <th>17173</th>\n",
              "      <td>213813930</td>\n",
              "      <td>10.5</td>\n",
              "      <td>263.0</td>\n",
              "      <td>9.0</td>\n",
              "      <td>0.0000</td>\n",
              "      <td>110.0</td>\n",
              "      <td>1/31/2020 23:21</td>\n",
              "      <td>1/31/2020 23:25</td>\n",
              "      <td>7.09210</td>\n",
              "      <td>79.9000</td>\n",
              "      <td>7.10135</td>\n",
              "      <td>79.9017</td>\n",
              "      <td>76.20</td>\n",
              "      <td>1</td>\n",
              "    </tr>\n",
              "    <tr>\n",
              "      <th>17174</th>\n",
              "      <td>213815405</td>\n",
              "      <td>10.5</td>\n",
              "      <td>858.0</td>\n",
              "      <td>115.0</td>\n",
              "      <td>0.0000</td>\n",
              "      <td>317.0</td>\n",
              "      <td>1/31/2020 23:39</td>\n",
              "      <td>1/31/2020 23:53</td>\n",
              "      <td>6.94540</td>\n",
              "      <td>79.8768</td>\n",
              "      <td>6.93574</td>\n",
              "      <td>79.9010</td>\n",
              "      <td>133.31</td>\n",
              "      <td>1</td>\n",
              "    </tr>\n",
              "    <tr>\n",
              "      <th>17175</th>\n",
              "      <td>213817296</td>\n",
              "      <td>10.5</td>\n",
              "      <td>262.0</td>\n",
              "      <td>21.0</td>\n",
              "      <td>1.2243</td>\n",
              "      <td>23.0</td>\n",
              "      <td>1/31/2020 23:49</td>\n",
              "      <td>1/31/2020 23:53</td>\n",
              "      <td>6.90257</td>\n",
              "      <td>79.9557</td>\n",
              "      <td>6.90823</td>\n",
              "      <td>79.9374</td>\n",
              "      <td>98.57</td>\n",
              "      <td>1</td>\n",
              "    </tr>\n",
              "  </tbody>\n",
              "</table>\n",
              "<p>17176 rows × 14 columns</p>\n",
              "</div>"
            ],
            "text/plain": [
              "          tripid  additional_fare  duration  ...  drop_lon    fare  label\n",
              "0      189123628             10.5     834.0  ...   79.8783  270.32      1\n",
              "1      189125358             10.5     791.0  ...   79.8923  197.85      1\n",
              "2      189125719             10.5    1087.0  ...   79.9146  301.64      1\n",
              "3      189127273             10.5     598.0  ...   79.8971   82.30      1\n",
              "4      189128020              NaN       NaN  ...   79.9290  358.39      1\n",
              "...          ...              ...       ...  ...       ...     ...    ...\n",
              "17171  213803193             10.5     838.0  ...   80.6557  198.26      1\n",
              "17172  213812756             10.5    2151.0  ...   79.9389  581.23      1\n",
              "17173  213813930             10.5     263.0  ...   79.9017   76.20      1\n",
              "17174  213815405             10.5     858.0  ...   79.9010  133.31      1\n",
              "17175  213817296             10.5     262.0  ...   79.9374   98.57      1\n",
              "\n",
              "[17176 rows x 14 columns]"
            ]
          },
          "metadata": {
            "tags": []
          },
          "execution_count": 17
        }
      ]
    },
    {
      "cell_type": "code",
      "metadata": {
        "id": "YCCs_0B8H2mS",
        "colab_type": "code",
        "outputId": "e810d921-4751-407e-d58e-d1637c416c43",
        "colab": {
          "base_uri": "https://localhost:8080/",
          "height": 374
        }
      },
      "source": [
        "Features = preprocess(df, features)\n",
        "X = Features.to_numpy()\n",
        "y = df['label'].values\n",
        "Features.head()"
      ],
      "execution_count": 18,
      "outputs": [
        {
          "output_type": "stream",
          "text": [
            "/usr/local/lib/python3.6/dist-packages/ipykernel_launcher.py:5: RuntimeWarning: divide by zero encountered in double_scalars\n",
            "  \"\"\"\n",
            "/usr/local/lib/python3.6/dist-packages/ipykernel_launcher.py:7: RuntimeWarning: divide by zero encountered in double_scalars\n",
            "  import sys\n",
            "/usr/local/lib/python3.6/dist-packages/ipykernel_launcher.py:7: RuntimeWarning: invalid value encountered in double_scalars\n",
            "  import sys\n",
            "/usr/local/lib/python3.6/dist-packages/ipykernel_launcher.py:5: RuntimeWarning: invalid value encountered in double_scalars\n",
            "  \"\"\"\n"
          ],
          "name": "stderr"
        },
        {
          "output_type": "stream",
          "text": [
            "['additional_fare', 'duration', 'meter_waiting', 'meter_waiting_fare', 'meter_waiting_till_pickup', 'fare', 'meter_waiting_fare_per_sec', 'fare_per_min', 'additional_fare_as_a_factor', 'speed', 'real_duration_per_fare', 'distance', 'df_pickup_time_month', 'df_pickup_time_day', 'df_pickup_time_hour', 'df_pickup_time_minute', 'drop_time_month', 'df_drop_time_day', 'df_drop_time_hour', 'df_drop_time_minute']\n"
          ],
          "name": "stdout"
        },
        {
          "output_type": "execute_result",
          "data": {
            "text/html": [
              "<div>\n",
              "<style scoped>\n",
              "    .dataframe tbody tr th:only-of-type {\n",
              "        vertical-align: middle;\n",
              "    }\n",
              "\n",
              "    .dataframe tbody tr th {\n",
              "        vertical-align: top;\n",
              "    }\n",
              "\n",
              "    .dataframe thead th {\n",
              "        text-align: right;\n",
              "    }\n",
              "</style>\n",
              "<table border=\"1\" class=\"dataframe\">\n",
              "  <thead>\n",
              "    <tr style=\"text-align: right;\">\n",
              "      <th></th>\n",
              "      <th>additional_fare</th>\n",
              "      <th>duration</th>\n",
              "      <th>meter_waiting</th>\n",
              "      <th>meter_waiting_fare</th>\n",
              "      <th>meter_waiting_till_pickup</th>\n",
              "      <th>fare</th>\n",
              "      <th>meter_waiting_fare_per_sec</th>\n",
              "      <th>fare_per_min</th>\n",
              "      <th>additional_fare_as_a_factor</th>\n",
              "      <th>speed</th>\n",
              "      <th>real_duration_per_fare</th>\n",
              "      <th>distance</th>\n",
              "      <th>df_pickup_time_month</th>\n",
              "      <th>df_pickup_time_day</th>\n",
              "      <th>df_pickup_time_hour</th>\n",
              "      <th>df_pickup_time_minute</th>\n",
              "      <th>drop_time_month</th>\n",
              "      <th>df_drop_time_day</th>\n",
              "      <th>df_drop_time_hour</th>\n",
              "      <th>df_drop_time_minute</th>\n",
              "    </tr>\n",
              "  </thead>\n",
              "  <tbody>\n",
              "    <tr>\n",
              "      <th>0</th>\n",
              "      <td>10.5</td>\n",
              "      <td>834.0</td>\n",
              "      <td>56.0</td>\n",
              "      <td>0.0000</td>\n",
              "      <td>64.0</td>\n",
              "      <td>270.32</td>\n",
              "      <td>0.0000</td>\n",
              "      <td>19.447482</td>\n",
              "      <td>0.038843</td>\n",
              "      <td>23.469707</td>\n",
              "      <td>2.878070</td>\n",
              "      <td>5.072065</td>\n",
              "      <td>11.0</td>\n",
              "      <td>1.0</td>\n",
              "      <td>0.0</td>\n",
              "      <td>20.0</td>\n",
              "      <td>11.0</td>\n",
              "      <td>1.0</td>\n",
              "      <td>0.0</td>\n",
              "      <td>34.0</td>\n",
              "    </tr>\n",
              "    <tr>\n",
              "      <th>1</th>\n",
              "      <td>10.5</td>\n",
              "      <td>791.0</td>\n",
              "      <td>47.0</td>\n",
              "      <td>0.0000</td>\n",
              "      <td>134.0</td>\n",
              "      <td>197.85</td>\n",
              "      <td>0.0000</td>\n",
              "      <td>15.007585</td>\n",
              "      <td>0.053071</td>\n",
              "      <td>15.250547</td>\n",
              "      <td>3.760425</td>\n",
              "      <td>3.151780</td>\n",
              "      <td>11.0</td>\n",
              "      <td>1.0</td>\n",
              "      <td>0.0</td>\n",
              "      <td>56.0</td>\n",
              "      <td>11.0</td>\n",
              "      <td>1.0</td>\n",
              "      <td>1.0</td>\n",
              "      <td>9.0</td>\n",
              "    </tr>\n",
              "    <tr>\n",
              "      <th>2</th>\n",
              "      <td>10.5</td>\n",
              "      <td>1087.0</td>\n",
              "      <td>80.0</td>\n",
              "      <td>0.0000</td>\n",
              "      <td>61.0</td>\n",
              "      <td>301.64</td>\n",
              "      <td>0.0000</td>\n",
              "      <td>16.649862</td>\n",
              "      <td>0.034810</td>\n",
              "      <td>22.530986</td>\n",
              "      <td>3.338417</td>\n",
              "      <td>6.302418</td>\n",
              "      <td>11.0</td>\n",
              "      <td>1.0</td>\n",
              "      <td>1.0</td>\n",
              "      <td>8.0</td>\n",
              "      <td>11.0</td>\n",
              "      <td>1.0</td>\n",
              "      <td>1.0</td>\n",
              "      <td>26.0</td>\n",
              "    </tr>\n",
              "    <tr>\n",
              "      <th>3</th>\n",
              "      <td>10.5</td>\n",
              "      <td>598.0</td>\n",
              "      <td>271.0</td>\n",
              "      <td>15.6638</td>\n",
              "      <td>68.0</td>\n",
              "      <td>82.30</td>\n",
              "      <td>0.0578</td>\n",
              "      <td>8.257525</td>\n",
              "      <td>0.127582</td>\n",
              "      <td>9.497113</td>\n",
              "      <td>3.973269</td>\n",
              "      <td>0.862654</td>\n",
              "      <td>11.0</td>\n",
              "      <td>1.0</td>\n",
              "      <td>2.0</td>\n",
              "      <td>27.0</td>\n",
              "      <td>11.0</td>\n",
              "      <td>1.0</td>\n",
              "      <td>2.0</td>\n",
              "      <td>37.0</td>\n",
              "    </tr>\n",
              "    <tr>\n",
              "      <th>4</th>\n",
              "      <td>NaN</td>\n",
              "      <td>NaN</td>\n",
              "      <td>NaN</td>\n",
              "      <td>NaN</td>\n",
              "      <td>NaN</td>\n",
              "      <td>358.39</td>\n",
              "      <td>NaN</td>\n",
              "      <td>NaN</td>\n",
              "      <td>NaN</td>\n",
              "      <td>NaN</td>\n",
              "      <td>NaN</td>\n",
              "      <td>8.148521</td>\n",
              "      <td>11.0</td>\n",
              "      <td>1.0</td>\n",
              "      <td>3.0</td>\n",
              "      <td>34.0</td>\n",
              "      <td>11.0</td>\n",
              "      <td>1.0</td>\n",
              "      <td>3.0</td>\n",
              "      <td>51.0</td>\n",
              "    </tr>\n",
              "  </tbody>\n",
              "</table>\n",
              "</div>"
            ],
            "text/plain": [
              "   additional_fare  duration  ...  df_drop_time_hour  df_drop_time_minute\n",
              "0             10.5     834.0  ...                0.0                 34.0\n",
              "1             10.5     791.0  ...                1.0                  9.0\n",
              "2             10.5    1087.0  ...                1.0                 26.0\n",
              "3             10.5     598.0  ...                2.0                 37.0\n",
              "4              NaN       NaN  ...                3.0                 51.0\n",
              "\n",
              "[5 rows x 20 columns]"
            ]
          },
          "metadata": {
            "tags": []
          },
          "execution_count": 18
        }
      ]
    },
    {
      "cell_type": "code",
      "metadata": {
        "id": "aB5BReWePkoe",
        "colab_type": "code",
        "outputId": "30709786-8f67-4ef5-b510-98d4e9ac95f2",
        "colab": {
          "base_uri": "https://localhost:8080/",
          "height": 374
        }
      },
      "source": [
        "df_test = pd.read_csv('/content/drive/My Drive/Semester 7/ML/Project/Data/test.csv')\n",
        "features_test = ['additional_fare','duration', 'meter_waiting', 'meter_waiting_fare', 'meter_waiting_till_pickup', 'fare']\n",
        "\n",
        "Features_for_test = preprocess(df_test, features_test)\n",
        "X_pred = Features_for_test.to_numpy()\n",
        "Features_for_test.head()"
      ],
      "execution_count": 19,
      "outputs": [
        {
          "output_type": "stream",
          "text": [
            "/usr/local/lib/python3.6/dist-packages/ipykernel_launcher.py:5: RuntimeWarning: divide by zero encountered in double_scalars\n",
            "  \"\"\"\n",
            "/usr/local/lib/python3.6/dist-packages/ipykernel_launcher.py:7: RuntimeWarning: invalid value encountered in true_divide\n",
            "  import sys\n",
            "/usr/local/lib/python3.6/dist-packages/ipykernel_launcher.py:7: RuntimeWarning: divide by zero encountered in true_divide\n",
            "  import sys\n",
            "/usr/local/lib/python3.6/dist-packages/ipykernel_launcher.py:5: RuntimeWarning: invalid value encountered in double_scalars\n",
            "  \"\"\"\n"
          ],
          "name": "stderr"
        },
        {
          "output_type": "stream",
          "text": [
            "['additional_fare', 'duration', 'meter_waiting', 'meter_waiting_fare', 'meter_waiting_till_pickup', 'fare', 'meter_waiting_fare_per_sec', 'fare_per_min', 'additional_fare_as_a_factor', 'speed', 'real_duration_per_fare', 'distance', 'df_pickup_time_month', 'df_pickup_time_day', 'df_pickup_time_hour', 'df_pickup_time_minute', 'drop_time_month', 'df_drop_time_day', 'df_drop_time_hour', 'df_drop_time_minute']\n"
          ],
          "name": "stdout"
        },
        {
          "output_type": "execute_result",
          "data": {
            "text/html": [
              "<div>\n",
              "<style scoped>\n",
              "    .dataframe tbody tr th:only-of-type {\n",
              "        vertical-align: middle;\n",
              "    }\n",
              "\n",
              "    .dataframe tbody tr th {\n",
              "        vertical-align: top;\n",
              "    }\n",
              "\n",
              "    .dataframe thead th {\n",
              "        text-align: right;\n",
              "    }\n",
              "</style>\n",
              "<table border=\"1\" class=\"dataframe\">\n",
              "  <thead>\n",
              "    <tr style=\"text-align: right;\">\n",
              "      <th></th>\n",
              "      <th>additional_fare</th>\n",
              "      <th>duration</th>\n",
              "      <th>meter_waiting</th>\n",
              "      <th>meter_waiting_fare</th>\n",
              "      <th>meter_waiting_till_pickup</th>\n",
              "      <th>fare</th>\n",
              "      <th>meter_waiting_fare_per_sec</th>\n",
              "      <th>fare_per_min</th>\n",
              "      <th>additional_fare_as_a_factor</th>\n",
              "      <th>speed</th>\n",
              "      <th>real_duration_per_fare</th>\n",
              "      <th>distance</th>\n",
              "      <th>df_pickup_time_month</th>\n",
              "      <th>df_pickup_time_day</th>\n",
              "      <th>df_pickup_time_hour</th>\n",
              "      <th>df_pickup_time_minute</th>\n",
              "      <th>drop_time_month</th>\n",
              "      <th>df_drop_time_day</th>\n",
              "      <th>df_drop_time_hour</th>\n",
              "      <th>df_drop_time_minute</th>\n",
              "    </tr>\n",
              "  </thead>\n",
              "  <tbody>\n",
              "    <tr>\n",
              "      <th>0</th>\n",
              "      <td>10.5</td>\n",
              "      <td>924</td>\n",
              "      <td>42</td>\n",
              "      <td>2.4486</td>\n",
              "      <td>148</td>\n",
              "      <td>289.27</td>\n",
              "      <td>0.058300</td>\n",
              "      <td>18.783766</td>\n",
              "      <td>0.036298</td>\n",
              "      <td>27.225263</td>\n",
              "      <td>3.049055</td>\n",
              "      <td>6.670189</td>\n",
              "      <td>2.0</td>\n",
              "      <td>1.0</td>\n",
              "      <td>0.0</td>\n",
              "      <td>38.0</td>\n",
              "      <td>2.0</td>\n",
              "      <td>1.0</td>\n",
              "      <td>0.0</td>\n",
              "      <td>53.0</td>\n",
              "    </tr>\n",
              "    <tr>\n",
              "      <th>1</th>\n",
              "      <td>10.5</td>\n",
              "      <td>4249</td>\n",
              "      <td>20</td>\n",
              "      <td>0.0000</td>\n",
              "      <td>91</td>\n",
              "      <td>1912.70</td>\n",
              "      <td>0.000000</td>\n",
              "      <td>27.009179</td>\n",
              "      <td>0.005490</td>\n",
              "      <td>35.200708</td>\n",
              "      <td>2.211011</td>\n",
              "      <td>41.351053</td>\n",
              "      <td>2.0</td>\n",
              "      <td>1.0</td>\n",
              "      <td>1.0</td>\n",
              "      <td>2.0</td>\n",
              "      <td>2.0</td>\n",
              "      <td>1.0</td>\n",
              "      <td>2.0</td>\n",
              "      <td>13.0</td>\n",
              "    </tr>\n",
              "    <tr>\n",
              "      <th>2</th>\n",
              "      <td>10.5</td>\n",
              "      <td>1552</td>\n",
              "      <td>255</td>\n",
              "      <td>2.6588</td>\n",
              "      <td>23</td>\n",
              "      <td>394.00</td>\n",
              "      <td>0.010427</td>\n",
              "      <td>15.231959</td>\n",
              "      <td>0.026650</td>\n",
              "      <td>16.431887</td>\n",
              "      <td>3.291878</td>\n",
              "      <td>5.920044</td>\n",
              "      <td>2.0</td>\n",
              "      <td>1.0</td>\n",
              "      <td>5.0</td>\n",
              "      <td>2.0</td>\n",
              "      <td>2.0</td>\n",
              "      <td>1.0</td>\n",
              "      <td>5.0</td>\n",
              "      <td>28.0</td>\n",
              "    </tr>\n",
              "    <tr>\n",
              "      <th>3</th>\n",
              "      <td>10.5</td>\n",
              "      <td>462</td>\n",
              "      <td>16</td>\n",
              "      <td>0.0000</td>\n",
              "      <td>198</td>\n",
              "      <td>154.32</td>\n",
              "      <td>0.000000</td>\n",
              "      <td>20.041558</td>\n",
              "      <td>0.068040</td>\n",
              "      <td>26.506110</td>\n",
              "      <td>2.890098</td>\n",
              "      <td>3.283813</td>\n",
              "      <td>2.0</td>\n",
              "      <td>1.0</td>\n",
              "      <td>5.0</td>\n",
              "      <td>30.0</td>\n",
              "      <td>2.0</td>\n",
              "      <td>1.0</td>\n",
              "      <td>5.0</td>\n",
              "      <td>38.0</td>\n",
              "    </tr>\n",
              "    <tr>\n",
              "      <th>4</th>\n",
              "      <td>10.5</td>\n",
              "      <td>814</td>\n",
              "      <td>392</td>\n",
              "      <td>12.3692</td>\n",
              "      <td>69</td>\n",
              "      <td>147.47</td>\n",
              "      <td>0.031554</td>\n",
              "      <td>10.870025</td>\n",
              "      <td>0.071201</td>\n",
              "      <td>22.086104</td>\n",
              "      <td>2.861599</td>\n",
              "      <td>2.588982</td>\n",
              "      <td>2.0</td>\n",
              "      <td>1.0</td>\n",
              "      <td>7.0</td>\n",
              "      <td>0.0</td>\n",
              "      <td>2.0</td>\n",
              "      <td>1.0</td>\n",
              "      <td>7.0</td>\n",
              "      <td>14.0</td>\n",
              "    </tr>\n",
              "  </tbody>\n",
              "</table>\n",
              "</div>"
            ],
            "text/plain": [
              "   additional_fare  duration  ...  df_drop_time_hour  df_drop_time_minute\n",
              "0             10.5       924  ...                0.0                 53.0\n",
              "1             10.5      4249  ...                2.0                 13.0\n",
              "2             10.5      1552  ...                5.0                 28.0\n",
              "3             10.5       462  ...                5.0                 38.0\n",
              "4             10.5       814  ...                7.0                 14.0\n",
              "\n",
              "[5 rows x 20 columns]"
            ]
          },
          "metadata": {
            "tags": []
          },
          "execution_count": 19
        }
      ]
    },
    {
      "cell_type": "code",
      "metadata": {
        "id": "iCNIsIC9P5dP",
        "colab_type": "code",
        "colab": {}
      },
      "source": [
        "from sklearn.model_selection import train_test_split\n",
        "X_train, X_test, y_train, y_test = train_test_split(X, y, test_size=0.2)"
      ],
      "execution_count": 0,
      "outputs": []
    },
    {
      "cell_type": "code",
      "metadata": {
        "id": "Hvy9xdS7eBJ2",
        "colab_type": "code",
        "colab": {}
      },
      "source": [
        "## Hyperparameter optimization using RandomizedSearchCV\n",
        "from sklearn.model_selection import RandomizedSearchCV, GridSearchCV\n",
        "import xgboost"
      ],
      "execution_count": 0,
      "outputs": []
    },
    {
      "cell_type": "markdown",
      "metadata": {
        "id": "6VbpaiEsdwgS",
        "colab_type": "text"
      },
      "source": [
        "### Random search"
      ]
    },
    {
      "cell_type": "markdown",
      "metadata": {
        "id": "SQi3lomH9u7R",
        "colab_type": "text"
      },
      "source": [
        "def xgboost.XGBClassifier(max_depth=3, learning_rate=0.1, n_estimators=100, verbosity=1, silent=None, objective='binary:logistic', booster='gbtree', n_jobs=1, nthread=None, gamma=0, min_child_weight=1, max_delta_step=0, subsample=1, colsample_bytree=1, colsample_bylevel=1, colsample_bynode=1, reg_alpha=0, reg_lambda=1, scale_pos_weight=1, base_score=0.5, random_state=0, seed=None, missing=None, **kwargs)"
      ]
    },
    {
      "cell_type": "code",
      "metadata": {
        "id": "EhXMKBo15cLZ",
        "colab_type": "code",
        "colab": {}
      },
      "source": [
        "## Hyper Parameter Optimization\n",
        "\n",
        "params={\n",
        " \"learning_rate\"    : [0.05, 0.10, 0.15, 0.20, 0.25, 0.30, 0.4, 0.5, 0.6,0.7, 0.8, 0.9] ,\n",
        " \"max_depth\"        : [ 3, 4, 5, 6, 8, 10, 12, 15],\n",
        " \"min_child_weight\" : [ 1, 3, 5, 7 ],\n",
        " \"gamma\"            : [ 0.0, 0.1, 0.2 , 0.3, 0.4 ],\n",
        " \"colsample_bytree\" : [ 0.3, 0.4, 0.5 , 0.7 ],\n",
        " \"subsamples\" : [0.8, 0.81, 0.82, 0.83, 0.84, 0.85, 0.86, 0.87, 0.88, 0.89,  0.9, 0.91, 0.92, 0.93, 0.94, 0.95, 0.96, 0.97, 0.98, 0.99]\n",
        "    \n",
        "}"
      ],
      "execution_count": 0,
      "outputs": []
    },
    {
      "cell_type": "code",
      "metadata": {
        "id": "xmJhZcPN5gwO",
        "colab_type": "code",
        "colab": {}
      },
      "source": [
        "def timer(start_time=None):\n",
        "    if not start_time:\n",
        "        start_time = datetime.now()\n",
        "        return start_time\n",
        "    elif start_time:\n",
        "        thour, temp_sec = divmod((datetime.now() - start_time).total_seconds(), 3600)\n",
        "        tmin, tsec = divmod(temp_sec, 60)\n",
        "        print('\\n Time taken: %i hours %i minutes and %s seconds.' % (thour, tmin, round(tsec, 2)))"
      ],
      "execution_count": 0,
      "outputs": []
    },
    {
      "cell_type": "code",
      "metadata": {
        "id": "2BaV4--z5jYu",
        "colab_type": "code",
        "colab": {}
      },
      "source": [
        "classifier=xgboost.XGBClassifier()\n",
        "\n",
        "random_search=RandomizedSearchCV(classifier,param_distributions=params,n_iter=5,scoring='roc_auc',n_jobs=-1,cv=5,verbose=3, )"
      ],
      "execution_count": 0,
      "outputs": []
    },
    {
      "cell_type": "code",
      "metadata": {
        "id": "mJ4cvbCV5ouY",
        "colab_type": "code",
        "outputId": "5572ce23-dc30-4c53-8824-ab0c633e3e95",
        "colab": {
          "base_uri": "https://localhost:8080/",
          "height": 104
        }
      },
      "source": [
        "from datetime import datetime\n",
        "# Here we go\n",
        "start_time = timer(None) # timing starts from this point for \"start_time\" variable\n",
        "random_search.fit(X,y)\n",
        "timer(start_time) # timing ends here for \"start_time\" variable"
      ],
      "execution_count": 0,
      "outputs": [
        {
          "output_type": "stream",
          "text": [
            "Fitting 5 folds for each of 5 candidates, totalling 25 fits\n"
          ],
          "name": "stdout"
        },
        {
          "output_type": "stream",
          "text": [
            "[Parallel(n_jobs=-1)]: Using backend LokyBackend with 2 concurrent workers.\n",
            "[Parallel(n_jobs=-1)]: Done  25 out of  25 | elapsed:   52.4s finished\n"
          ],
          "name": "stderr"
        },
        {
          "output_type": "stream",
          "text": [
            "\n",
            " Time taken: 0 hours 0 minutes and 54.49 seconds.\n"
          ],
          "name": "stdout"
        }
      ]
    },
    {
      "cell_type": "code",
      "metadata": {
        "id": "sBlUcxsG5rm7",
        "colab_type": "code",
        "outputId": "dcc83772-bac9-46ea-a635-08f5a4b593ca",
        "colab": {
          "base_uri": "https://localhost:8080/",
          "height": 139
        }
      },
      "source": [
        "random_search.best_estimator_"
      ],
      "execution_count": 0,
      "outputs": [
        {
          "output_type": "execute_result",
          "data": {
            "text/plain": [
              "XGBClassifier(base_score=0.5, booster='gbtree', colsample_bylevel=1,\n",
              "              colsample_bynode=1, colsample_bytree=0.4, gamma=0.4,\n",
              "              learning_rate=0.1, max_delta_step=0, max_depth=5,\n",
              "              min_child_weight=7, missing=None, n_estimators=100, n_jobs=1,\n",
              "              nthread=None, objective='binary:logistic', random_state=0,\n",
              "              reg_alpha=0, reg_lambda=1, scale_pos_weight=1, seed=None,\n",
              "              silent=None, subsample=1, subsamples=0.99, verbosity=1)"
            ]
          },
          "metadata": {
            "tags": []
          },
          "execution_count": 28
        }
      ]
    },
    {
      "cell_type": "code",
      "metadata": {
        "id": "D7P4Ocb_5tLX",
        "colab_type": "code",
        "outputId": "130b1480-20fb-4292-881b-f37c9294f118",
        "colab": {
          "base_uri": "https://localhost:8080/",
          "height": 121
        }
      },
      "source": [
        "random_search.best_params_"
      ],
      "execution_count": 0,
      "outputs": [
        {
          "output_type": "execute_result",
          "data": {
            "text/plain": [
              "{'colsample_bytree': 0.4,\n",
              " 'gamma': 0.4,\n",
              " 'learning_rate': 0.1,\n",
              " 'max_depth': 5,\n",
              " 'min_child_weight': 7,\n",
              " 'subsamples': 0.99}"
            ]
          },
          "metadata": {
            "tags": []
          },
          "execution_count": 29
        }
      ]
    },
    {
      "cell_type": "markdown",
      "metadata": {
        "id": "2vpYkilkuF0q",
        "colab_type": "text"
      },
      "source": [
        "### Grid search"
      ]
    },
    {
      "cell_type": "code",
      "metadata": {
        "id": "rzT-ZVa57nLZ",
        "colab_type": "code",
        "colab": {}
      },
      "source": [
        "parameters = {\n",
        "    'learning_rate' : [0.65, 0.66, 0.67, 0.68, 0.69, 0.70, 0.71, 0.72, 0.73, 0.74, 0.75],\n",
        "    'subsamples' : [0.8, 0.81, 0.82, 0.83, 0.84, 0.85, 0.86, 0.87, 0.88, 0.89,  0.9, 0.91, 0.92, 0.93, 0.94, 0.95, 0.96, 0.97, 0.98, 0.99, 1.0],\n",
        "    'max_depth' : [1,2,3,4,5,6],\n",
        "    'colsample_bytrees' : [ 0.1, 0.2, 0.3, 0.4, 0.5 , 0.7, 0.8, 0.9, 1],\n",
        "    'min_child_weight' : [ 1, 3, 5, 7 ],\n",
        "    'gammas':[ 0.0, 0.1, 0.2 , 0.3, 0.4 ],\n",
        "}"
      ],
      "execution_count": 0,
      "outputs": []
    },
    {
      "cell_type": "code",
      "metadata": {
        "id": "Tsc4sQ_c1-Mj",
        "colab_type": "code",
        "outputId": "9762e201-c30f-4090-9ef1-09273907b720",
        "colab": {
          "base_uri": "https://localhost:8080/",
          "height": 393
        }
      },
      "source": [
        "xgb_model = xgboost.XGBClassifier()\n",
        "\n",
        "clf = GridSearchCV(xgb_model, parameters, n_jobs=10, \n",
        "                   scoring='f1_micro',\n",
        "                   verbose=2, refit=True)\n",
        "\n",
        "clf.fit(X_train, y_train)"
      ],
      "execution_count": 0,
      "outputs": [
        {
          "output_type": "stream",
          "text": [
            "Fitting 5 folds for each of 249480 candidates, totalling 1247400 fits\n"
          ],
          "name": "stdout"
        },
        {
          "output_type": "stream",
          "text": [
            "[Parallel(n_jobs=10)]: Using backend LokyBackend with 10 concurrent workers.\n",
            "[Parallel(n_jobs=10)]: Done  21 tasks      | elapsed:   15.7s\n",
            "[Parallel(n_jobs=10)]: Done 142 tasks      | elapsed:   56.8s\n",
            "[Parallel(n_jobs=10)]: Done 345 tasks      | elapsed:  2.1min\n",
            "[Parallel(n_jobs=10)]: Done 628 tasks      | elapsed:  4.4min\n",
            "[Parallel(n_jobs=10)]: Done 993 tasks      | elapsed:  8.2min\n",
            "[Parallel(n_jobs=10)]: Done 1438 tasks      | elapsed: 14.4min\n",
            "[Parallel(n_jobs=10)]: Done 1965 tasks      | elapsed: 24.1min\n",
            "[Parallel(n_jobs=10)]: Done 2572 tasks      | elapsed: 37.0min\n",
            "[Parallel(n_jobs=10)]: Done 3261 tasks      | elapsed: 42.0min\n",
            "[Parallel(n_jobs=10)]: Done 4030 tasks      | elapsed: 52.2min\n",
            "[Parallel(n_jobs=10)]: Done 4881 tasks      | elapsed: 69.7min\n",
            "[Parallel(n_jobs=10)]: Done 5812 tasks      | elapsed: 78.8min\n",
            "[Parallel(n_jobs=10)]: Done 6825 tasks      | elapsed: 93.6min\n",
            "[Parallel(n_jobs=10)]: Done 7918 tasks      | elapsed: 111.8min\n",
            "[Parallel(n_jobs=10)]: Done 9093 tasks      | elapsed: 125.6min\n",
            "[Parallel(n_jobs=10)]: Done 10348 tasks      | elapsed: 147.8min\n",
            "[Parallel(n_jobs=10)]: Done 11685 tasks      | elapsed: 163.2min\n",
            "[Parallel(n_jobs=10)]: Done 13102 tasks      | elapsed: 185.9min\n",
            "[Parallel(n_jobs=10)]: Done 14601 tasks      | elapsed: 207.5min\n",
            "[Parallel(n_jobs=10)]: Done 16180 tasks      | elapsed: 228.1min\n"
          ],
          "name": "stderr"
        }
      ]
    },
    {
      "cell_type": "code",
      "metadata": {
        "id": "AfgoxqrJYxUd",
        "colab_type": "code",
        "colab": {}
      },
      "source": [
        "#trust your CV!\n",
        "best_parameters, score, _ = max(clf.grid_scores_, key=lambda x: x[1])\n",
        "print('Raw AUC score:', score)\n",
        "for param_name in sorted(best_parameters.keys()):\n",
        "    print(\"%s: %r\" % (param_name, best_parameters[param_name]))"
      ],
      "execution_count": 0,
      "outputs": []
    },
    {
      "cell_type": "markdown",
      "metadata": {
        "id": "EZFT3vZ229Er",
        "colab_type": "text"
      },
      "source": [
        "### bayesian-optimization"
      ]
    },
    {
      "cell_type": "code",
      "metadata": {
        "id": "YjK9peVS3BJv",
        "colab_type": "code",
        "outputId": "d7e27e7c-7d8e-4a24-f910-ae09bfc5292c",
        "colab": {
          "base_uri": "https://localhost:8080/",
          "height": 263
        }
      },
      "source": [
        "!pip install bayesian-optimization"
      ],
      "execution_count": 0,
      "outputs": [
        {
          "output_type": "stream",
          "text": [
            "Collecting bayesian-optimization\n",
            "  Downloading https://files.pythonhosted.org/packages/bb/7a/fd8059a3881d3ab37ac8f72f56b73937a14e8bb14a9733e68cc8b17dbe3c/bayesian-optimization-1.2.0.tar.gz\n",
            "Requirement already satisfied: numpy>=1.9.0 in /usr/local/lib/python3.6/dist-packages (from bayesian-optimization) (1.18.5)\n",
            "Requirement already satisfied: scipy>=0.14.0 in /usr/local/lib/python3.6/dist-packages (from bayesian-optimization) (1.4.1)\n",
            "Requirement already satisfied: scikit-learn>=0.18.0 in /usr/local/lib/python3.6/dist-packages (from bayesian-optimization) (0.22.2.post1)\n",
            "Requirement already satisfied: joblib>=0.11 in /usr/local/lib/python3.6/dist-packages (from scikit-learn>=0.18.0->bayesian-optimization) (0.15.1)\n",
            "Building wheels for collected packages: bayesian-optimization\n",
            "  Building wheel for bayesian-optimization (setup.py) ... \u001b[?25l\u001b[?25hdone\n",
            "  Created wheel for bayesian-optimization: filename=bayesian_optimization-1.2.0-cp36-none-any.whl size=11685 sha256=5a5269b3aa5fb4d6315b68c58d1d14b36239c85533b1f04404b767e2b160d278\n",
            "  Stored in directory: /root/.cache/pip/wheels/5a/56/ae/e0e3c1fc1954dc3ec712e2df547235ed072b448094d8f94aec\n",
            "Successfully built bayesian-optimization\n",
            "Installing collected packages: bayesian-optimization\n",
            "Successfully installed bayesian-optimization-1.2.0\n"
          ],
          "name": "stdout"
        }
      ]
    },
    {
      "cell_type": "code",
      "metadata": {
        "id": "xGwBadIe3YIn",
        "colab_type": "code",
        "colab": {}
      },
      "source": [
        "xgb_model = xgboost.XGBClassifier()\n",
        "xgb_model.fit(X_train, y_train)\n",
        "y_pred = xgb_model.predict(X_test)"
      ],
      "execution_count": 0,
      "outputs": []
    },
    {
      "cell_type": "code",
      "metadata": {
        "id": "LzPQyD-P3p4D",
        "colab_type": "code",
        "outputId": "bd109956-d875-4b8b-e072-711180a36293",
        "colab": {
          "base_uri": "https://localhost:8080/",
          "height": 173
        }
      },
      "source": [
        "#Printing the classification report\n",
        "from sklearn.metrics import classification_report, confusion_matrix\n",
        "print(classification_report(y_pred, y_test))"
      ],
      "execution_count": 0,
      "outputs": [
        {
          "output_type": "stream",
          "text": [
            "              precision    recall  f1-score   support\n",
            "\n",
            "           0       0.65      0.85      0.74       255\n",
            "           1       0.99      0.96      0.98      3181\n",
            "\n",
            "    accuracy                           0.95      3436\n",
            "   macro avg       0.82      0.91      0.86      3436\n",
            "weighted avg       0.96      0.95      0.96      3436\n",
            "\n"
          ],
          "name": "stdout"
        }
      ]
    },
    {
      "cell_type": "code",
      "metadata": {
        "id": "gRnyC8I_47ND",
        "colab_type": "code",
        "outputId": "99cad8fd-ecaa-47a5-86a3-315214627d9f",
        "colab": {
          "base_uri": "https://localhost:8080/",
          "height": 35
        }
      },
      "source": [
        "#Accuracy obtained on the training set\n",
        "cm = confusion_matrix(y_pred, y_test)\n",
        "acc = cm.diagonal().sum()/cm.sum()\n",
        "print(acc)"
      ],
      "execution_count": 0,
      "outputs": [
        {
          "output_type": "stream",
          "text": [
            "0.9548894062863795\n"
          ],
          "name": "stdout"
        }
      ]
    },
    {
      "cell_type": "code",
      "metadata": {
        "id": "3wUKANi55N4Q",
        "colab_type": "code",
        "outputId": "22c38023-d69a-41d9-c413-14ec9fdc2d1b",
        "colab": {
          "base_uri": "https://localhost:8080/",
          "height": 295
        }
      },
      "source": [
        "#Importing necessary libraries\n",
        "from bayes_opt import BayesianOptimization\n",
        "import xgboost as xgb\n",
        "from sklearn.metrics import mean_squared_error\n",
        "\n",
        "#Converting the dataframe into XGBoost’s Dmatrix object\n",
        "dtrain = xgb.DMatrix(X_train, y_train)\n",
        "\n",
        "#Bayesian Optimization function for xgboost\n",
        "#specify the parameters you want to tune as keyword arguments\n",
        "def bo_tune_xgb(max_depth, gamma, n_estimators ,learning_rate, colsample_bytree):\n",
        "    params = {'max_depth': int(max_depth),\n",
        "              'gamma': gamma,\n",
        "              'n_estimators': int(n_estimators),\n",
        "              'learning_rate':learning_rate,\n",
        "              'subsample': 0.8,\n",
        "              'eta': 0.1,\n",
        "              'colsample_bytree' : colsample_bytree,\n",
        "              'eval_metric': 'rmse'}\n",
        "    #Cross validating with the specified parameters in 5 folds and 70 iterations\n",
        "    cv_result = xgb.cv(params, dtrain, num_boost_round=70, nfold=5)\n",
        "    #Return the negative RMSE\n",
        "    return -1.0 * cv_result['test-rmse-mean'].iloc[-1]\n",
        "\n",
        "#Invoking the Bayesian Optimizer with the specified parameters to tune\n",
        "xgb_bo = BayesianOptimization(bo_tune_xgb, {'max_depth': (3, 10),\n",
        "                                             'gamma': (0, 1),\n",
        "                                             'learning_rate':(0,1),\n",
        "                                             'n_estimators':(100,1000),\n",
        "                                            'colsample_bytree': (0,1)\n",
        "                                            })\n",
        "\n",
        "#performing Bayesian optimization for 5 iterations with 8 steps of random exploration with an #acquisition function of expected improvement\n",
        "xgb_bo.maximize(n_iter=5, init_points=8, acq='ei')"
      ],
      "execution_count": 0,
      "outputs": [
        {
          "output_type": "stream",
          "text": [
            "|   iter    |  target   | colsam... |   gamma   | learni... | max_depth | n_esti... |\n",
            "-------------------------------------------------------------------------------------\n",
            "| \u001b[0m 1       \u001b[0m | \u001b[0m-0.2093  \u001b[0m | \u001b[0m 0.1306  \u001b[0m | \u001b[0m 0.4224  \u001b[0m | \u001b[0m 0.3805  \u001b[0m | \u001b[0m 7.261   \u001b[0m | \u001b[0m 319.7   \u001b[0m |\n",
            "| \u001b[95m 2       \u001b[0m | \u001b[95m-0.2061  \u001b[0m | \u001b[95m 0.6959  \u001b[0m | \u001b[95m 0.3061  \u001b[0m | \u001b[95m 0.7437  \u001b[0m | \u001b[95m 3.305   \u001b[0m | \u001b[95m 487.9   \u001b[0m |\n",
            "| \u001b[0m 3       \u001b[0m | \u001b[0m-0.2354  \u001b[0m | \u001b[0m 0.3696  \u001b[0m | \u001b[0m 0.05066 \u001b[0m | \u001b[0m 0.7884  \u001b[0m | \u001b[0m 9.805   \u001b[0m | \u001b[0m 618.4   \u001b[0m |\n",
            "| \u001b[95m 4       \u001b[0m | \u001b[95m-0.197   \u001b[0m | \u001b[95m 0.3712  \u001b[0m | \u001b[95m 0.01791 \u001b[0m | \u001b[95m 0.3969  \u001b[0m | \u001b[95m 4.062   \u001b[0m | \u001b[95m 342.4   \u001b[0m |\n",
            "| \u001b[95m 5       \u001b[0m | \u001b[95m-0.1966  \u001b[0m | \u001b[95m 0.2842  \u001b[0m | \u001b[95m 0.6432  \u001b[0m | \u001b[95m 0.3156  \u001b[0m | \u001b[95m 4.784   \u001b[0m | \u001b[95m 578.2   \u001b[0m |\n",
            "| \u001b[95m 6       \u001b[0m | \u001b[95m-0.1951  \u001b[0m | \u001b[95m 0.8283  \u001b[0m | \u001b[95m 0.82    \u001b[0m | \u001b[95m 0.4809  \u001b[0m | \u001b[95m 4.049   \u001b[0m | \u001b[95m 817.5   \u001b[0m |\n",
            "| \u001b[0m 7       \u001b[0m | \u001b[0m-0.2218  \u001b[0m | \u001b[0m 0.02195 \u001b[0m | \u001b[0m 0.9701  \u001b[0m | \u001b[0m 0.8775  \u001b[0m | \u001b[0m 7.182   \u001b[0m | \u001b[0m 468.0   \u001b[0m |\n",
            "| \u001b[0m 8       \u001b[0m | \u001b[0m-0.1992  \u001b[0m | \u001b[0m 0.7108  \u001b[0m | \u001b[0m 0.4855  \u001b[0m | \u001b[0m 0.5908  \u001b[0m | \u001b[0m 4.984   \u001b[0m | \u001b[0m 540.3   \u001b[0m |\n",
            "| \u001b[0m 9       \u001b[0m | \u001b[0m-0.5     \u001b[0m | \u001b[0m 1.0     \u001b[0m | \u001b[0m 0.06412 \u001b[0m | \u001b[0m 0.0     \u001b[0m | \u001b[0m 3.0     \u001b[0m | \u001b[0m 1e+03   \u001b[0m |\n",
            "| \u001b[0m 10      \u001b[0m | \u001b[0m-0.1977  \u001b[0m | \u001b[0m 0.8862  \u001b[0m | \u001b[0m 0.7693  \u001b[0m | \u001b[0m 0.6122  \u001b[0m | \u001b[0m 3.355   \u001b[0m | \u001b[0m 100.0   \u001b[0m |\n",
            "| \u001b[0m 11      \u001b[0m | \u001b[0m-0.2152  \u001b[0m | \u001b[0m 0.8666  \u001b[0m | \u001b[0m 0.04484 \u001b[0m | \u001b[0m 0.938   \u001b[0m | \u001b[0m 3.892   \u001b[0m | \u001b[0m 820.0   \u001b[0m |\n",
            "| \u001b[0m 12      \u001b[0m | \u001b[0m-0.5     \u001b[0m | \u001b[0m 0.0     \u001b[0m | \u001b[0m 1.0     \u001b[0m | \u001b[0m 0.0     \u001b[0m | \u001b[0m 3.0     \u001b[0m | \u001b[0m 751.0   \u001b[0m |\n",
            "| \u001b[0m 13      \u001b[0m | \u001b[0m-0.2104  \u001b[0m | \u001b[0m 0.6682  \u001b[0m | \u001b[0m 0.1553  \u001b[0m | \u001b[0m 0.7418  \u001b[0m | \u001b[0m 3.01    \u001b[0m | \u001b[0m 189.9   \u001b[0m |\n",
            "=====================================================================================\n"
          ],
          "name": "stdout"
        }
      ]
    },
    {
      "cell_type": "code",
      "metadata": {
        "id": "OXF_Leb46fzY",
        "colab_type": "code",
        "outputId": "8b7f1129-6ea5-40cc-fb9b-8ef2b0b961d3",
        "colab": {
          "base_uri": "https://localhost:8080/",
          "height": 211
        }
      },
      "source": [
        "#Extracting the best parameters\n",
        "params = xgb_bo.max['params']\n",
        "print(params)\n",
        "\n",
        "#Converting the max_depth and n_estimator values from float to int\n",
        "params['max_depth']= int(params['max_depth'])\n",
        "params['n_estimators']= int(params['n_estimators'])\n",
        "\n",
        "#Initialize an XGBClassifier with the tuned parameters and fit the training data\n",
        "from xgboost import XGBClassifier\n",
        "classifier2 = XGBClassifier(**params).fit(X_train, y_train)\n",
        "\n",
        "#predicting for training set\n",
        "train_p2 = classifier2.predict(X_test)\n",
        "\n",
        "#Looking at the classification report\n",
        "print(classification_report(train_p2, y_test))"
      ],
      "execution_count": 0,
      "outputs": [
        {
          "output_type": "stream",
          "text": [
            "{'colsample_bytree': 0.8282929969331484, 'gamma': 0.8199636219552069, 'learning_rate': 0.48091390696028224, 'max_depth': 4.048675186171301, 'n_estimators': 817.5419478441623}\n",
            "              precision    recall  f1-score   support\n",
            "\n",
            "           0       0.68      0.82      0.74       273\n",
            "           1       0.98      0.97      0.98      3163\n",
            "\n",
            "    accuracy                           0.95      3436\n",
            "   macro avg       0.83      0.90      0.86      3436\n",
            "weighted avg       0.96      0.95      0.96      3436\n",
            "\n"
          ],
          "name": "stdout"
        }
      ]
    },
    {
      "cell_type": "code",
      "metadata": {
        "id": "WEWu1A2z6tt0",
        "colab_type": "code",
        "outputId": "c91e2a9f-3904-4690-d7df-07bb39215c26",
        "colab": {
          "base_uri": "https://localhost:8080/",
          "height": 35
        }
      },
      "source": [
        "#Attained prediction accuracy on the training set\n",
        "cm = confusion_matrix(train_p2, y_test)\n",
        "acc = cm.diagonal().sum()/cm.sum()\n",
        "print(acc)"
      ],
      "execution_count": 0,
      "outputs": [
        {
          "output_type": "stream",
          "text": [
            "0.9548894062863795\n"
          ],
          "name": "stdout"
        }
      ]
    },
    {
      "cell_type": "markdown",
      "metadata": {
        "id": "PtQxvPTtd63T",
        "colab_type": "text"
      },
      "source": [
        "### Train and predict"
      ]
    },
    {
      "cell_type": "code",
      "metadata": {
        "id": "6B-Ja5vEP_a8",
        "colab_type": "code",
        "outputId": "9c09b0fe-a37d-4ebb-a8c0-8a05343ca22c",
        "colab": {
          "base_uri": "https://localhost:8080/",
          "height": 35
        }
      },
      "source": [
        "xgb_model = xgboost.XGBClassifier(colsample_bytree = 0.8282929969331484, gamma=0.8199636219552069, learning_rate= 0.48091390696028224, max_depth=4, n_estimators=817)\n",
        "# xgb_model = xgboost.XGBClassifier()\n",
        "# xgb_model.fit(X_train, y_train)\n",
        "xgb_model.fit(X_train, y_train)\n",
        "\n",
        "y_pred = xgb_model.predict(X_test)\n",
        "print(f1_score(y_test, y_pred, average='macro'))"
      ],
      "execution_count": 0,
      "outputs": [
        {
          "output_type": "stream",
          "text": [
            "0.8595344629549773\n"
          ],
          "name": "stdout"
        }
      ]
    },
    {
      "cell_type": "markdown",
      "metadata": {
        "id": "btwG_mymF-59",
        "colab_type": "text"
      },
      "source": [
        "### Hyper param tuning"
      ]
    },
    {
      "cell_type": "code",
      "metadata": {
        "id": "JEhJ5vKCD4Oo",
        "colab_type": "code",
        "outputId": "d49c102d-95f2-4e1a-80a5-ff16d37ea78f",
        "colab": {
          "base_uri": "https://localhost:8080/",
          "height": 1000
        }
      },
      "source": [
        "eval_set = [(X_train, y_train), (X_test, y_test)]\n",
        "eval_metric = [\"error\"]\n",
        "%time xgb_model.fit(X_train, y_train, eval_metric=eval_metric, eval_set=eval_set, verbose=True)"
      ],
      "execution_count": 0,
      "outputs": [
        {
          "output_type": "stream",
          "text": [
            "[0]\tvalidation_0-error:0.048617\tvalidation_1-error:0.051222\n",
            "[1]\tvalidation_0-error:0.047525\tvalidation_1-error:0.048894\n",
            "[2]\tvalidation_0-error:0.044396\tvalidation_1-error:0.047439\n",
            "[3]\tvalidation_0-error:0.043814\tvalidation_1-error:0.048603\n",
            "[4]\tvalidation_0-error:0.042576\tvalidation_1-error:0.045984\n",
            "[5]\tvalidation_0-error:0.040975\tvalidation_1-error:0.04482\n",
            "[6]\tvalidation_0-error:0.040902\tvalidation_1-error:0.045402\n",
            "[7]\tvalidation_0-error:0.039811\tvalidation_1-error:0.043946\n",
            "[8]\tvalidation_0-error:0.038865\tvalidation_1-error:0.043655\n",
            "[9]\tvalidation_0-error:0.038282\tvalidation_1-error:0.044529\n",
            "[10]\tvalidation_0-error:0.038282\tvalidation_1-error:0.044237\n",
            "[11]\tvalidation_0-error:0.037409\tvalidation_1-error:0.045111\n",
            "[12]\tvalidation_0-error:0.035662\tvalidation_1-error:0.04482\n",
            "[13]\tvalidation_0-error:0.035371\tvalidation_1-error:0.04482\n",
            "[14]\tvalidation_0-error:0.034789\tvalidation_1-error:0.042782\n",
            "[15]\tvalidation_0-error:0.033916\tvalidation_1-error:0.043073\n",
            "[16]\tvalidation_0-error:0.033624\tvalidation_1-error:0.043655\n",
            "[17]\tvalidation_0-error:0.033624\tvalidation_1-error:0.043655\n",
            "[18]\tvalidation_0-error:0.032606\tvalidation_1-error:0.044529\n",
            "[19]\tvalidation_0-error:0.03246\tvalidation_1-error:0.04482\n",
            "[20]\tvalidation_0-error:0.032606\tvalidation_1-error:0.043364\n",
            "[21]\tvalidation_0-error:0.031878\tvalidation_1-error:0.044237\n",
            "[22]\tvalidation_0-error:0.031732\tvalidation_1-error:0.043073\n",
            "[23]\tvalidation_0-error:0.031223\tvalidation_1-error:0.042782\n",
            "[24]\tvalidation_0-error:0.030859\tvalidation_1-error:0.042491\n",
            "[25]\tvalidation_0-error:0.030422\tvalidation_1-error:0.042782\n",
            "[26]\tvalidation_0-error:0.030349\tvalidation_1-error:0.042782\n",
            "[27]\tvalidation_0-error:0.029549\tvalidation_1-error:0.041618\n",
            "[28]\tvalidation_0-error:0.029185\tvalidation_1-error:0.042491\n",
            "[29]\tvalidation_0-error:0.028457\tvalidation_1-error:0.043655\n",
            "[30]\tvalidation_0-error:0.028166\tvalidation_1-error:0.042782\n",
            "[31]\tvalidation_0-error:0.027584\tvalidation_1-error:0.043073\n",
            "[32]\tvalidation_0-error:0.027293\tvalidation_1-error:0.043655\n",
            "[33]\tvalidation_0-error:0.027074\tvalidation_1-error:0.043364\n",
            "[34]\tvalidation_0-error:0.026565\tvalidation_1-error:0.043364\n",
            "[35]\tvalidation_0-error:0.026128\tvalidation_1-error:0.043073\n",
            "[36]\tvalidation_0-error:0.026128\tvalidation_1-error:0.043655\n",
            "[37]\tvalidation_0-error:0.026055\tvalidation_1-error:0.043364\n",
            "[38]\tvalidation_0-error:0.025473\tvalidation_1-error:0.043364\n",
            "[39]\tvalidation_0-error:0.024964\tvalidation_1-error:0.043655\n",
            "[40]\tvalidation_0-error:0.0246\tvalidation_1-error:0.043364\n",
            "[41]\tvalidation_0-error:0.0246\tvalidation_1-error:0.043073\n",
            "[42]\tvalidation_0-error:0.024454\tvalidation_1-error:0.042782\n",
            "[43]\tvalidation_0-error:0.023654\tvalidation_1-error:0.043364\n",
            "[44]\tvalidation_0-error:0.023508\tvalidation_1-error:0.043655\n",
            "[45]\tvalidation_0-error:0.023362\tvalidation_1-error:0.043073\n",
            "[46]\tvalidation_0-error:0.023217\tvalidation_1-error:0.043364\n",
            "[47]\tvalidation_0-error:0.022562\tvalidation_1-error:0.044529\n",
            "[48]\tvalidation_0-error:0.022198\tvalidation_1-error:0.043364\n",
            "[49]\tvalidation_0-error:0.02198\tvalidation_1-error:0.043364\n",
            "[50]\tvalidation_0-error:0.021761\tvalidation_1-error:0.043364\n",
            "[51]\tvalidation_0-error:0.021761\tvalidation_1-error:0.043655\n",
            "[52]\tvalidation_0-error:0.021397\tvalidation_1-error:0.044237\n",
            "[53]\tvalidation_0-error:0.021325\tvalidation_1-error:0.043946\n",
            "[54]\tvalidation_0-error:0.021252\tvalidation_1-error:0.043655\n",
            "[55]\tvalidation_0-error:0.021033\tvalidation_1-error:0.043073\n",
            "[56]\tvalidation_0-error:0.020961\tvalidation_1-error:0.043073\n",
            "[57]\tvalidation_0-error:0.020742\tvalidation_1-error:0.043073\n",
            "[58]\tvalidation_0-error:0.020306\tvalidation_1-error:0.043073\n",
            "[59]\tvalidation_0-error:0.020087\tvalidation_1-error:0.043655\n",
            "[60]\tvalidation_0-error:0.019796\tvalidation_1-error:0.043364\n",
            "[61]\tvalidation_0-error:0.019141\tvalidation_1-error:0.043946\n",
            "[62]\tvalidation_0-error:0.01885\tvalidation_1-error:0.043946\n",
            "[63]\tvalidation_0-error:0.01885\tvalidation_1-error:0.043946\n",
            "[64]\tvalidation_0-error:0.01885\tvalidation_1-error:0.043946\n",
            "[65]\tvalidation_0-error:0.018705\tvalidation_1-error:0.043946\n",
            "[66]\tvalidation_0-error:0.018632\tvalidation_1-error:0.043946\n",
            "[67]\tvalidation_0-error:0.018632\tvalidation_1-error:0.043946\n",
            "[68]\tvalidation_0-error:0.018122\tvalidation_1-error:0.043946\n",
            "[69]\tvalidation_0-error:0.017394\tvalidation_1-error:0.044237\n",
            "[70]\tvalidation_0-error:0.017176\tvalidation_1-error:0.044529\n",
            "[71]\tvalidation_0-error:0.017103\tvalidation_1-error:0.043655\n",
            "[72]\tvalidation_0-error:0.016958\tvalidation_1-error:0.043946\n",
            "[73]\tvalidation_0-error:0.016958\tvalidation_1-error:0.043946\n",
            "[74]\tvalidation_0-error:0.016739\tvalidation_1-error:0.043655\n",
            "[75]\tvalidation_0-error:0.016812\tvalidation_1-error:0.043946\n",
            "[76]\tvalidation_0-error:0.016303\tvalidation_1-error:0.044237\n",
            "[77]\tvalidation_0-error:0.016157\tvalidation_1-error:0.044529\n",
            "[78]\tvalidation_0-error:0.016012\tvalidation_1-error:0.043946\n",
            "[79]\tvalidation_0-error:0.015648\tvalidation_1-error:0.04482\n",
            "[80]\tvalidation_0-error:0.015502\tvalidation_1-error:0.044529\n",
            "[81]\tvalidation_0-error:0.015211\tvalidation_1-error:0.045111\n",
            "[82]\tvalidation_0-error:0.015138\tvalidation_1-error:0.045111\n",
            "[83]\tvalidation_0-error:0.015284\tvalidation_1-error:0.045111\n",
            "[84]\tvalidation_0-error:0.015284\tvalidation_1-error:0.043946\n",
            "[85]\tvalidation_0-error:0.015066\tvalidation_1-error:0.043946\n",
            "[86]\tvalidation_0-error:0.014847\tvalidation_1-error:0.04482\n",
            "[87]\tvalidation_0-error:0.014847\tvalidation_1-error:0.04482\n",
            "[88]\tvalidation_0-error:0.014702\tvalidation_1-error:0.044237\n",
            "[89]\tvalidation_0-error:0.014483\tvalidation_1-error:0.044529\n",
            "[90]\tvalidation_0-error:0.014265\tvalidation_1-error:0.043946\n",
            "[91]\tvalidation_0-error:0.014119\tvalidation_1-error:0.044237\n",
            "[92]\tvalidation_0-error:0.014047\tvalidation_1-error:0.044237\n",
            "[93]\tvalidation_0-error:0.013974\tvalidation_1-error:0.044529\n",
            "[94]\tvalidation_0-error:0.013537\tvalidation_1-error:0.044529\n",
            "[95]\tvalidation_0-error:0.013537\tvalidation_1-error:0.045111\n",
            "[96]\tvalidation_0-error:0.013537\tvalidation_1-error:0.045402\n",
            "[97]\tvalidation_0-error:0.013319\tvalidation_1-error:0.045111\n",
            "[98]\tvalidation_0-error:0.013173\tvalidation_1-error:0.045111\n",
            "[99]\tvalidation_0-error:0.012955\tvalidation_1-error:0.045402\n",
            "[100]\tvalidation_0-error:0.012809\tvalidation_1-error:0.045111\n",
            "[101]\tvalidation_0-error:0.012809\tvalidation_1-error:0.04482\n",
            "[102]\tvalidation_0-error:0.012591\tvalidation_1-error:0.045111\n",
            "[103]\tvalidation_0-error:0.012664\tvalidation_1-error:0.045402\n",
            "[104]\tvalidation_0-error:0.012373\tvalidation_1-error:0.04482\n",
            "[105]\tvalidation_0-error:0.012227\tvalidation_1-error:0.045402\n",
            "[106]\tvalidation_0-error:0.011863\tvalidation_1-error:0.04482\n",
            "[107]\tvalidation_0-error:0.011645\tvalidation_1-error:0.04482\n",
            "[108]\tvalidation_0-error:0.011499\tvalidation_1-error:0.04482\n",
            "[109]\tvalidation_0-error:0.011426\tvalidation_1-error:0.044529\n",
            "[110]\tvalidation_0-error:0.011135\tvalidation_1-error:0.045111\n",
            "[111]\tvalidation_0-error:0.011063\tvalidation_1-error:0.04482\n",
            "[112]\tvalidation_0-error:0.010844\tvalidation_1-error:0.045111\n",
            "[113]\tvalidation_0-error:0.010844\tvalidation_1-error:0.045402\n",
            "[114]\tvalidation_0-error:0.010626\tvalidation_1-error:0.045111\n",
            "[115]\tvalidation_0-error:0.010335\tvalidation_1-error:0.044237\n",
            "[116]\tvalidation_0-error:0.010262\tvalidation_1-error:0.043655\n",
            "[117]\tvalidation_0-error:0.010116\tvalidation_1-error:0.043946\n",
            "[118]\tvalidation_0-error:0.009971\tvalidation_1-error:0.044237\n",
            "[119]\tvalidation_0-error:0.009825\tvalidation_1-error:0.043946\n",
            "[120]\tvalidation_0-error:0.00968\tvalidation_1-error:0.044237\n",
            "[121]\tvalidation_0-error:0.009971\tvalidation_1-error:0.043946\n",
            "[122]\tvalidation_0-error:0.009607\tvalidation_1-error:0.044237\n",
            "[123]\tvalidation_0-error:0.009098\tvalidation_1-error:0.04482\n",
            "[124]\tvalidation_0-error:0.009098\tvalidation_1-error:0.04482\n",
            "[125]\tvalidation_0-error:0.009098\tvalidation_1-error:0.04482\n",
            "[126]\tvalidation_0-error:0.008952\tvalidation_1-error:0.044529\n",
            "[127]\tvalidation_0-error:0.009025\tvalidation_1-error:0.044529\n",
            "[128]\tvalidation_0-error:0.009025\tvalidation_1-error:0.044529\n",
            "[129]\tvalidation_0-error:0.008515\tvalidation_1-error:0.044529\n",
            "[130]\tvalidation_0-error:0.008661\tvalidation_1-error:0.045693\n",
            "[131]\tvalidation_0-error:0.008297\tvalidation_1-error:0.045402\n",
            "[132]\tvalidation_0-error:0.00837\tvalidation_1-error:0.045402\n",
            "[133]\tvalidation_0-error:0.008297\tvalidation_1-error:0.045402\n",
            "[134]\tvalidation_0-error:0.008079\tvalidation_1-error:0.045111\n",
            "[135]\tvalidation_0-error:0.008079\tvalidation_1-error:0.045402\n",
            "[136]\tvalidation_0-error:0.007787\tvalidation_1-error:0.045984\n",
            "[137]\tvalidation_0-error:0.007496\tvalidation_1-error:0.045402\n",
            "[138]\tvalidation_0-error:0.007569\tvalidation_1-error:0.043946\n",
            "[139]\tvalidation_0-error:0.007351\tvalidation_1-error:0.04482\n",
            "[140]\tvalidation_0-error:0.007278\tvalidation_1-error:0.044237\n",
            "[141]\tvalidation_0-error:0.007351\tvalidation_1-error:0.043946\n",
            "[142]\tvalidation_0-error:0.007132\tvalidation_1-error:0.044237\n",
            "[143]\tvalidation_0-error:0.00706\tvalidation_1-error:0.043364\n",
            "[144]\tvalidation_0-error:0.006769\tvalidation_1-error:0.043073\n",
            "[145]\tvalidation_0-error:0.006623\tvalidation_1-error:0.042782\n",
            "[146]\tvalidation_0-error:0.006623\tvalidation_1-error:0.042782\n",
            "[147]\tvalidation_0-error:0.00655\tvalidation_1-error:0.042782\n",
            "[148]\tvalidation_0-error:0.006477\tvalidation_1-error:0.043073\n",
            "[149]\tvalidation_0-error:0.006477\tvalidation_1-error:0.043364\n",
            "[150]\tvalidation_0-error:0.006332\tvalidation_1-error:0.043655\n",
            "[151]\tvalidation_0-error:0.006186\tvalidation_1-error:0.044529\n",
            "[152]\tvalidation_0-error:0.005459\tvalidation_1-error:0.043364\n",
            "[153]\tvalidation_0-error:0.005459\tvalidation_1-error:0.043364\n",
            "[154]\tvalidation_0-error:0.005531\tvalidation_1-error:0.044237\n",
            "[155]\tvalidation_0-error:0.005531\tvalidation_1-error:0.043364\n",
            "[156]\tvalidation_0-error:0.00524\tvalidation_1-error:0.043364\n",
            "[157]\tvalidation_0-error:0.005167\tvalidation_1-error:0.043364\n",
            "[158]\tvalidation_0-error:0.005095\tvalidation_1-error:0.043073\n",
            "[159]\tvalidation_0-error:0.004876\tvalidation_1-error:0.043364\n",
            "[160]\tvalidation_0-error:0.004731\tvalidation_1-error:0.043364\n",
            "[161]\tvalidation_0-error:0.004731\tvalidation_1-error:0.043946\n",
            "[162]\tvalidation_0-error:0.004949\tvalidation_1-error:0.043946\n",
            "[163]\tvalidation_0-error:0.005022\tvalidation_1-error:0.043946\n",
            "[164]\tvalidation_0-error:0.005095\tvalidation_1-error:0.044237\n",
            "[165]\tvalidation_0-error:0.004876\tvalidation_1-error:0.044237\n",
            "[166]\tvalidation_0-error:0.004731\tvalidation_1-error:0.044237\n",
            "[167]\tvalidation_0-error:0.00444\tvalidation_1-error:0.043655\n",
            "[168]\tvalidation_0-error:0.00444\tvalidation_1-error:0.043655\n",
            "[169]\tvalidation_0-error:0.00444\tvalidation_1-error:0.043655\n",
            "[170]\tvalidation_0-error:0.00444\tvalidation_1-error:0.043655\n",
            "[171]\tvalidation_0-error:0.004221\tvalidation_1-error:0.043946\n",
            "[172]\tvalidation_0-error:0.004221\tvalidation_1-error:0.043946\n",
            "[173]\tvalidation_0-error:0.004221\tvalidation_1-error:0.043946\n",
            "[174]\tvalidation_0-error:0.004221\tvalidation_1-error:0.043946\n",
            "[175]\tvalidation_0-error:0.004148\tvalidation_1-error:0.043946\n",
            "[176]\tvalidation_0-error:0.004148\tvalidation_1-error:0.043946\n",
            "[177]\tvalidation_0-error:0.004148\tvalidation_1-error:0.043946\n",
            "[178]\tvalidation_0-error:0.004148\tvalidation_1-error:0.043946\n",
            "[179]\tvalidation_0-error:0.004148\tvalidation_1-error:0.043946\n",
            "[180]\tvalidation_0-error:0.004148\tvalidation_1-error:0.044237\n",
            "[181]\tvalidation_0-error:0.004076\tvalidation_1-error:0.044237\n",
            "[182]\tvalidation_0-error:0.004148\tvalidation_1-error:0.043655\n",
            "[183]\tvalidation_0-error:0.004003\tvalidation_1-error:0.043364\n",
            "[184]\tvalidation_0-error:0.003639\tvalidation_1-error:0.044237\n",
            "[185]\tvalidation_0-error:0.003639\tvalidation_1-error:0.044237\n",
            "[186]\tvalidation_0-error:0.003639\tvalidation_1-error:0.044237\n",
            "[187]\tvalidation_0-error:0.003639\tvalidation_1-error:0.044237\n",
            "[188]\tvalidation_0-error:0.003639\tvalidation_1-error:0.044237\n",
            "[189]\tvalidation_0-error:0.003566\tvalidation_1-error:0.044237\n",
            "[190]\tvalidation_0-error:0.003639\tvalidation_1-error:0.044237\n",
            "[191]\tvalidation_0-error:0.003639\tvalidation_1-error:0.044237\n",
            "[192]\tvalidation_0-error:0.003639\tvalidation_1-error:0.044237\n",
            "[193]\tvalidation_0-error:0.003348\tvalidation_1-error:0.044237\n",
            "[194]\tvalidation_0-error:0.003421\tvalidation_1-error:0.044237\n",
            "[195]\tvalidation_0-error:0.003348\tvalidation_1-error:0.044529\n",
            "[196]\tvalidation_0-error:0.003275\tvalidation_1-error:0.044237\n",
            "[197]\tvalidation_0-error:0.003202\tvalidation_1-error:0.043946\n",
            "[198]\tvalidation_0-error:0.003202\tvalidation_1-error:0.043946\n",
            "[199]\tvalidation_0-error:0.003202\tvalidation_1-error:0.043946\n",
            "[200]\tvalidation_0-error:0.003057\tvalidation_1-error:0.043655\n",
            "[201]\tvalidation_0-error:0.002838\tvalidation_1-error:0.043655\n",
            "[202]\tvalidation_0-error:0.002838\tvalidation_1-error:0.044237\n",
            "[203]\tvalidation_0-error:0.002838\tvalidation_1-error:0.044237\n",
            "[204]\tvalidation_0-error:0.002911\tvalidation_1-error:0.044237\n",
            "[205]\tvalidation_0-error:0.002838\tvalidation_1-error:0.044237\n",
            "[206]\tvalidation_0-error:0.00262\tvalidation_1-error:0.044529\n",
            "[207]\tvalidation_0-error:0.002547\tvalidation_1-error:0.04482\n",
            "[208]\tvalidation_0-error:0.002475\tvalidation_1-error:0.044237\n",
            "[209]\tvalidation_0-error:0.002475\tvalidation_1-error:0.044237\n",
            "[210]\tvalidation_0-error:0.002475\tvalidation_1-error:0.044237\n",
            "[211]\tvalidation_0-error:0.002475\tvalidation_1-error:0.044237\n",
            "[212]\tvalidation_0-error:0.002475\tvalidation_1-error:0.044237\n",
            "[213]\tvalidation_0-error:0.002475\tvalidation_1-error:0.044237\n",
            "[214]\tvalidation_0-error:0.002475\tvalidation_1-error:0.044237\n",
            "[215]\tvalidation_0-error:0.002475\tvalidation_1-error:0.044237\n",
            "[216]\tvalidation_0-error:0.002475\tvalidation_1-error:0.044237\n",
            "[217]\tvalidation_0-error:0.002475\tvalidation_1-error:0.044237\n",
            "[218]\tvalidation_0-error:0.002475\tvalidation_1-error:0.044237\n",
            "[219]\tvalidation_0-error:0.002475\tvalidation_1-error:0.044237\n",
            "[220]\tvalidation_0-error:0.002475\tvalidation_1-error:0.044237\n",
            "[221]\tvalidation_0-error:0.002475\tvalidation_1-error:0.044237\n",
            "[222]\tvalidation_0-error:0.002475\tvalidation_1-error:0.044237\n",
            "[223]\tvalidation_0-error:0.002475\tvalidation_1-error:0.044237\n",
            "[224]\tvalidation_0-error:0.002475\tvalidation_1-error:0.044237\n",
            "[225]\tvalidation_0-error:0.002475\tvalidation_1-error:0.044237\n",
            "[226]\tvalidation_0-error:0.002475\tvalidation_1-error:0.044237\n",
            "[227]\tvalidation_0-error:0.002475\tvalidation_1-error:0.044237\n",
            "[228]\tvalidation_0-error:0.002475\tvalidation_1-error:0.044237\n",
            "[229]\tvalidation_0-error:0.002475\tvalidation_1-error:0.044237\n",
            "[230]\tvalidation_0-error:0.002475\tvalidation_1-error:0.044237\n",
            "[231]\tvalidation_0-error:0.002475\tvalidation_1-error:0.044237\n",
            "[232]\tvalidation_0-error:0.002475\tvalidation_1-error:0.044237\n",
            "[233]\tvalidation_0-error:0.002475\tvalidation_1-error:0.044237\n",
            "[234]\tvalidation_0-error:0.002475\tvalidation_1-error:0.044237\n",
            "[235]\tvalidation_0-error:0.002475\tvalidation_1-error:0.044237\n",
            "[236]\tvalidation_0-error:0.002475\tvalidation_1-error:0.044237\n",
            "[237]\tvalidation_0-error:0.002475\tvalidation_1-error:0.044237\n",
            "[238]\tvalidation_0-error:0.002475\tvalidation_1-error:0.044237\n",
            "[239]\tvalidation_0-error:0.002329\tvalidation_1-error:0.043946\n",
            "[240]\tvalidation_0-error:0.002329\tvalidation_1-error:0.044237\n",
            "[241]\tvalidation_0-error:0.002329\tvalidation_1-error:0.044237\n",
            "[242]\tvalidation_0-error:0.002402\tvalidation_1-error:0.043946\n",
            "[243]\tvalidation_0-error:0.002038\tvalidation_1-error:0.043946\n",
            "[244]\tvalidation_0-error:0.002038\tvalidation_1-error:0.043946\n",
            "[245]\tvalidation_0-error:0.002038\tvalidation_1-error:0.043946\n",
            "[246]\tvalidation_0-error:0.002038\tvalidation_1-error:0.043946\n",
            "[247]\tvalidation_0-error:0.002038\tvalidation_1-error:0.043946\n",
            "[248]\tvalidation_0-error:0.002038\tvalidation_1-error:0.043946\n",
            "[249]\tvalidation_0-error:0.002038\tvalidation_1-error:0.043946\n",
            "[250]\tvalidation_0-error:0.002038\tvalidation_1-error:0.043946\n",
            "[251]\tvalidation_0-error:0.002038\tvalidation_1-error:0.043946\n",
            "[252]\tvalidation_0-error:0.002038\tvalidation_1-error:0.043946\n",
            "[253]\tvalidation_0-error:0.002038\tvalidation_1-error:0.043946\n",
            "[254]\tvalidation_0-error:0.002038\tvalidation_1-error:0.043946\n",
            "[255]\tvalidation_0-error:0.002038\tvalidation_1-error:0.043946\n",
            "[256]\tvalidation_0-error:0.002038\tvalidation_1-error:0.043946\n",
            "[257]\tvalidation_0-error:0.002038\tvalidation_1-error:0.043946\n",
            "[258]\tvalidation_0-error:0.002038\tvalidation_1-error:0.043946\n",
            "[259]\tvalidation_0-error:0.002038\tvalidation_1-error:0.043946\n",
            "[260]\tvalidation_0-error:0.002038\tvalidation_1-error:0.043946\n",
            "[261]\tvalidation_0-error:0.002038\tvalidation_1-error:0.043946\n",
            "[262]\tvalidation_0-error:0.002038\tvalidation_1-error:0.043946\n",
            "[263]\tvalidation_0-error:0.002038\tvalidation_1-error:0.043946\n",
            "[264]\tvalidation_0-error:0.002038\tvalidation_1-error:0.043946\n",
            "[265]\tvalidation_0-error:0.002038\tvalidation_1-error:0.043946\n",
            "[266]\tvalidation_0-error:0.002038\tvalidation_1-error:0.043946\n",
            "[267]\tvalidation_0-error:0.002038\tvalidation_1-error:0.043946\n",
            "[268]\tvalidation_0-error:0.002038\tvalidation_1-error:0.043946\n",
            "[269]\tvalidation_0-error:0.002038\tvalidation_1-error:0.043946\n",
            "[270]\tvalidation_0-error:0.002038\tvalidation_1-error:0.043946\n",
            "[271]\tvalidation_0-error:0.002038\tvalidation_1-error:0.043946\n",
            "[272]\tvalidation_0-error:0.002038\tvalidation_1-error:0.043946\n",
            "[273]\tvalidation_0-error:0.002038\tvalidation_1-error:0.043946\n",
            "[274]\tvalidation_0-error:0.002038\tvalidation_1-error:0.043946\n",
            "[275]\tvalidation_0-error:0.002038\tvalidation_1-error:0.043946\n",
            "[276]\tvalidation_0-error:0.002038\tvalidation_1-error:0.043946\n",
            "[277]\tvalidation_0-error:0.002038\tvalidation_1-error:0.043946\n",
            "[278]\tvalidation_0-error:0.002038\tvalidation_1-error:0.043946\n",
            "[279]\tvalidation_0-error:0.002038\tvalidation_1-error:0.043946\n",
            "[280]\tvalidation_0-error:0.002038\tvalidation_1-error:0.043946\n",
            "[281]\tvalidation_0-error:0.002038\tvalidation_1-error:0.043946\n",
            "[282]\tvalidation_0-error:0.002038\tvalidation_1-error:0.043946\n",
            "[283]\tvalidation_0-error:0.002038\tvalidation_1-error:0.043946\n",
            "[284]\tvalidation_0-error:0.002038\tvalidation_1-error:0.043946\n",
            "[285]\tvalidation_0-error:0.002038\tvalidation_1-error:0.043946\n",
            "[286]\tvalidation_0-error:0.002038\tvalidation_1-error:0.043946\n",
            "[287]\tvalidation_0-error:0.002038\tvalidation_1-error:0.043946\n",
            "[288]\tvalidation_0-error:0.002038\tvalidation_1-error:0.043946\n",
            "[289]\tvalidation_0-error:0.002038\tvalidation_1-error:0.043946\n",
            "[290]\tvalidation_0-error:0.002038\tvalidation_1-error:0.043946\n",
            "[291]\tvalidation_0-error:0.002038\tvalidation_1-error:0.043946\n",
            "[292]\tvalidation_0-error:0.002038\tvalidation_1-error:0.043946\n",
            "[293]\tvalidation_0-error:0.002038\tvalidation_1-error:0.043946\n",
            "[294]\tvalidation_0-error:0.002038\tvalidation_1-error:0.043946\n",
            "[295]\tvalidation_0-error:0.002038\tvalidation_1-error:0.043946\n",
            "[296]\tvalidation_0-error:0.002038\tvalidation_1-error:0.043946\n",
            "[297]\tvalidation_0-error:0.002038\tvalidation_1-error:0.043946\n",
            "[298]\tvalidation_0-error:0.002038\tvalidation_1-error:0.043946\n",
            "[299]\tvalidation_0-error:0.002038\tvalidation_1-error:0.043946\n",
            "[300]\tvalidation_0-error:0.002038\tvalidation_1-error:0.043946\n",
            "[301]\tvalidation_0-error:0.002038\tvalidation_1-error:0.043946\n",
            "[302]\tvalidation_0-error:0.002038\tvalidation_1-error:0.043946\n",
            "[303]\tvalidation_0-error:0.002038\tvalidation_1-error:0.043946\n",
            "[304]\tvalidation_0-error:0.002038\tvalidation_1-error:0.043946\n",
            "[305]\tvalidation_0-error:0.002038\tvalidation_1-error:0.043946\n",
            "[306]\tvalidation_0-error:0.002038\tvalidation_1-error:0.043946\n",
            "[307]\tvalidation_0-error:0.002038\tvalidation_1-error:0.043946\n",
            "[308]\tvalidation_0-error:0.002038\tvalidation_1-error:0.043946\n",
            "[309]\tvalidation_0-error:0.002038\tvalidation_1-error:0.043946\n",
            "[310]\tvalidation_0-error:0.002038\tvalidation_1-error:0.043946\n",
            "[311]\tvalidation_0-error:0.002038\tvalidation_1-error:0.043946\n",
            "[312]\tvalidation_0-error:0.002038\tvalidation_1-error:0.043946\n",
            "[313]\tvalidation_0-error:0.002038\tvalidation_1-error:0.043946\n",
            "[314]\tvalidation_0-error:0.002038\tvalidation_1-error:0.043946\n",
            "[315]\tvalidation_0-error:0.002038\tvalidation_1-error:0.043946\n",
            "[316]\tvalidation_0-error:0.002038\tvalidation_1-error:0.043946\n",
            "[317]\tvalidation_0-error:0.002038\tvalidation_1-error:0.043946\n",
            "[318]\tvalidation_0-error:0.002038\tvalidation_1-error:0.043946\n",
            "[319]\tvalidation_0-error:0.002038\tvalidation_1-error:0.043946\n",
            "[320]\tvalidation_0-error:0.002038\tvalidation_1-error:0.043946\n",
            "[321]\tvalidation_0-error:0.002038\tvalidation_1-error:0.043946\n",
            "[322]\tvalidation_0-error:0.002038\tvalidation_1-error:0.043946\n",
            "[323]\tvalidation_0-error:0.002038\tvalidation_1-error:0.043946\n",
            "[324]\tvalidation_0-error:0.002038\tvalidation_1-error:0.043946\n",
            "[325]\tvalidation_0-error:0.002038\tvalidation_1-error:0.043946\n",
            "[326]\tvalidation_0-error:0.002038\tvalidation_1-error:0.043946\n",
            "[327]\tvalidation_0-error:0.002038\tvalidation_1-error:0.043946\n",
            "[328]\tvalidation_0-error:0.002038\tvalidation_1-error:0.043946\n",
            "[329]\tvalidation_0-error:0.002038\tvalidation_1-error:0.043946\n",
            "[330]\tvalidation_0-error:0.002038\tvalidation_1-error:0.043946\n",
            "[331]\tvalidation_0-error:0.002038\tvalidation_1-error:0.043946\n",
            "[332]\tvalidation_0-error:0.002038\tvalidation_1-error:0.043946\n",
            "[333]\tvalidation_0-error:0.002038\tvalidation_1-error:0.043946\n",
            "[334]\tvalidation_0-error:0.002038\tvalidation_1-error:0.043946\n",
            "[335]\tvalidation_0-error:0.002038\tvalidation_1-error:0.043946\n",
            "[336]\tvalidation_0-error:0.002038\tvalidation_1-error:0.043946\n",
            "[337]\tvalidation_0-error:0.002038\tvalidation_1-error:0.043946\n",
            "[338]\tvalidation_0-error:0.002038\tvalidation_1-error:0.043946\n",
            "[339]\tvalidation_0-error:0.002038\tvalidation_1-error:0.043946\n",
            "[340]\tvalidation_0-error:0.002038\tvalidation_1-error:0.043946\n",
            "[341]\tvalidation_0-error:0.002038\tvalidation_1-error:0.043946\n",
            "[342]\tvalidation_0-error:0.002038\tvalidation_1-error:0.043946\n",
            "[343]\tvalidation_0-error:0.002038\tvalidation_1-error:0.043946\n",
            "[344]\tvalidation_0-error:0.002038\tvalidation_1-error:0.043946\n",
            "[345]\tvalidation_0-error:0.002038\tvalidation_1-error:0.043946\n",
            "[346]\tvalidation_0-error:0.002038\tvalidation_1-error:0.043946\n",
            "[347]\tvalidation_0-error:0.002038\tvalidation_1-error:0.043946\n",
            "[348]\tvalidation_0-error:0.002038\tvalidation_1-error:0.043946\n",
            "[349]\tvalidation_0-error:0.002038\tvalidation_1-error:0.043946\n",
            "[350]\tvalidation_0-error:0.002038\tvalidation_1-error:0.043946\n",
            "[351]\tvalidation_0-error:0.002038\tvalidation_1-error:0.043946\n",
            "[352]\tvalidation_0-error:0.002038\tvalidation_1-error:0.043946\n",
            "[353]\tvalidation_0-error:0.002038\tvalidation_1-error:0.043946\n",
            "[354]\tvalidation_0-error:0.002038\tvalidation_1-error:0.043946\n",
            "[355]\tvalidation_0-error:0.002038\tvalidation_1-error:0.043946\n",
            "[356]\tvalidation_0-error:0.002038\tvalidation_1-error:0.043946\n",
            "[357]\tvalidation_0-error:0.002038\tvalidation_1-error:0.043946\n",
            "[358]\tvalidation_0-error:0.002038\tvalidation_1-error:0.043946\n",
            "[359]\tvalidation_0-error:0.002038\tvalidation_1-error:0.043946\n",
            "[360]\tvalidation_0-error:0.002038\tvalidation_1-error:0.043946\n",
            "[361]\tvalidation_0-error:0.002038\tvalidation_1-error:0.043946\n",
            "[362]\tvalidation_0-error:0.002038\tvalidation_1-error:0.043946\n",
            "[363]\tvalidation_0-error:0.002038\tvalidation_1-error:0.043946\n",
            "[364]\tvalidation_0-error:0.002038\tvalidation_1-error:0.043946\n",
            "[365]\tvalidation_0-error:0.002038\tvalidation_1-error:0.043946\n",
            "[366]\tvalidation_0-error:0.002038\tvalidation_1-error:0.043946\n",
            "[367]\tvalidation_0-error:0.002038\tvalidation_1-error:0.043946\n",
            "[368]\tvalidation_0-error:0.002038\tvalidation_1-error:0.043946\n",
            "[369]\tvalidation_0-error:0.002038\tvalidation_1-error:0.043946\n",
            "[370]\tvalidation_0-error:0.002038\tvalidation_1-error:0.043946\n",
            "[371]\tvalidation_0-error:0.002038\tvalidation_1-error:0.043946\n",
            "[372]\tvalidation_0-error:0.002038\tvalidation_1-error:0.043946\n",
            "[373]\tvalidation_0-error:0.002038\tvalidation_1-error:0.043946\n",
            "[374]\tvalidation_0-error:0.002038\tvalidation_1-error:0.043946\n",
            "[375]\tvalidation_0-error:0.002038\tvalidation_1-error:0.043946\n",
            "[376]\tvalidation_0-error:0.002038\tvalidation_1-error:0.043946\n",
            "[377]\tvalidation_0-error:0.002038\tvalidation_1-error:0.043946\n",
            "[378]\tvalidation_0-error:0.002038\tvalidation_1-error:0.043946\n",
            "[379]\tvalidation_0-error:0.002038\tvalidation_1-error:0.043946\n",
            "[380]\tvalidation_0-error:0.002038\tvalidation_1-error:0.043946\n",
            "[381]\tvalidation_0-error:0.002038\tvalidation_1-error:0.043946\n",
            "[382]\tvalidation_0-error:0.002038\tvalidation_1-error:0.043946\n",
            "[383]\tvalidation_0-error:0.002038\tvalidation_1-error:0.043946\n",
            "[384]\tvalidation_0-error:0.002038\tvalidation_1-error:0.043946\n",
            "[385]\tvalidation_0-error:0.002038\tvalidation_1-error:0.043946\n",
            "[386]\tvalidation_0-error:0.002038\tvalidation_1-error:0.043946\n",
            "[387]\tvalidation_0-error:0.002038\tvalidation_1-error:0.043946\n",
            "[388]\tvalidation_0-error:0.002038\tvalidation_1-error:0.043946\n",
            "[389]\tvalidation_0-error:0.002038\tvalidation_1-error:0.043946\n",
            "[390]\tvalidation_0-error:0.002038\tvalidation_1-error:0.043946\n",
            "[391]\tvalidation_0-error:0.002038\tvalidation_1-error:0.043946\n",
            "[392]\tvalidation_0-error:0.002038\tvalidation_1-error:0.043946\n",
            "[393]\tvalidation_0-error:0.002038\tvalidation_1-error:0.043946\n",
            "[394]\tvalidation_0-error:0.002038\tvalidation_1-error:0.043946\n",
            "[395]\tvalidation_0-error:0.002038\tvalidation_1-error:0.043946\n",
            "[396]\tvalidation_0-error:0.002038\tvalidation_1-error:0.043946\n",
            "[397]\tvalidation_0-error:0.002038\tvalidation_1-error:0.043946\n",
            "[398]\tvalidation_0-error:0.002038\tvalidation_1-error:0.043946\n",
            "[399]\tvalidation_0-error:0.002038\tvalidation_1-error:0.043946\n",
            "[400]\tvalidation_0-error:0.002038\tvalidation_1-error:0.043946\n",
            "[401]\tvalidation_0-error:0.002038\tvalidation_1-error:0.043946\n",
            "[402]\tvalidation_0-error:0.002038\tvalidation_1-error:0.043946\n",
            "[403]\tvalidation_0-error:0.002038\tvalidation_1-error:0.043946\n",
            "[404]\tvalidation_0-error:0.002038\tvalidation_1-error:0.043946\n",
            "[405]\tvalidation_0-error:0.002038\tvalidation_1-error:0.043946\n",
            "[406]\tvalidation_0-error:0.002038\tvalidation_1-error:0.043946\n",
            "[407]\tvalidation_0-error:0.002038\tvalidation_1-error:0.043946\n",
            "[408]\tvalidation_0-error:0.002038\tvalidation_1-error:0.043946\n",
            "[409]\tvalidation_0-error:0.002038\tvalidation_1-error:0.043946\n",
            "[410]\tvalidation_0-error:0.002038\tvalidation_1-error:0.043946\n",
            "[411]\tvalidation_0-error:0.002038\tvalidation_1-error:0.043946\n",
            "[412]\tvalidation_0-error:0.002038\tvalidation_1-error:0.043946\n",
            "[413]\tvalidation_0-error:0.002038\tvalidation_1-error:0.043946\n",
            "[414]\tvalidation_0-error:0.002038\tvalidation_1-error:0.043946\n",
            "[415]\tvalidation_0-error:0.002038\tvalidation_1-error:0.043946\n",
            "[416]\tvalidation_0-error:0.002038\tvalidation_1-error:0.043946\n",
            "[417]\tvalidation_0-error:0.002038\tvalidation_1-error:0.043946\n",
            "[418]\tvalidation_0-error:0.002038\tvalidation_1-error:0.043946\n",
            "[419]\tvalidation_0-error:0.002038\tvalidation_1-error:0.043946\n",
            "[420]\tvalidation_0-error:0.002038\tvalidation_1-error:0.043946\n",
            "[421]\tvalidation_0-error:0.002038\tvalidation_1-error:0.043946\n",
            "[422]\tvalidation_0-error:0.002038\tvalidation_1-error:0.043946\n",
            "[423]\tvalidation_0-error:0.002038\tvalidation_1-error:0.043946\n",
            "[424]\tvalidation_0-error:0.002038\tvalidation_1-error:0.043946\n",
            "[425]\tvalidation_0-error:0.002038\tvalidation_1-error:0.043946\n",
            "[426]\tvalidation_0-error:0.002038\tvalidation_1-error:0.043946\n",
            "[427]\tvalidation_0-error:0.002038\tvalidation_1-error:0.043946\n",
            "[428]\tvalidation_0-error:0.002038\tvalidation_1-error:0.043946\n",
            "[429]\tvalidation_0-error:0.002038\tvalidation_1-error:0.043946\n",
            "[430]\tvalidation_0-error:0.002038\tvalidation_1-error:0.043946\n",
            "[431]\tvalidation_0-error:0.002038\tvalidation_1-error:0.043946\n",
            "[432]\tvalidation_0-error:0.002038\tvalidation_1-error:0.043946\n",
            "[433]\tvalidation_0-error:0.002038\tvalidation_1-error:0.043946\n",
            "[434]\tvalidation_0-error:0.002038\tvalidation_1-error:0.043946\n",
            "[435]\tvalidation_0-error:0.002038\tvalidation_1-error:0.043946\n",
            "[436]\tvalidation_0-error:0.002038\tvalidation_1-error:0.043946\n",
            "[437]\tvalidation_0-error:0.002038\tvalidation_1-error:0.043946\n",
            "[438]\tvalidation_0-error:0.002038\tvalidation_1-error:0.043946\n",
            "[439]\tvalidation_0-error:0.002038\tvalidation_1-error:0.043946\n",
            "[440]\tvalidation_0-error:0.002038\tvalidation_1-error:0.043946\n",
            "[441]\tvalidation_0-error:0.002038\tvalidation_1-error:0.043946\n",
            "[442]\tvalidation_0-error:0.002038\tvalidation_1-error:0.043946\n",
            "[443]\tvalidation_0-error:0.002038\tvalidation_1-error:0.043946\n",
            "[444]\tvalidation_0-error:0.002038\tvalidation_1-error:0.043946\n",
            "[445]\tvalidation_0-error:0.002038\tvalidation_1-error:0.043946\n",
            "[446]\tvalidation_0-error:0.002038\tvalidation_1-error:0.043946\n",
            "[447]\tvalidation_0-error:0.002038\tvalidation_1-error:0.043946\n",
            "[448]\tvalidation_0-error:0.002038\tvalidation_1-error:0.043946\n",
            "[449]\tvalidation_0-error:0.002038\tvalidation_1-error:0.043946\n",
            "[450]\tvalidation_0-error:0.002038\tvalidation_1-error:0.043946\n",
            "[451]\tvalidation_0-error:0.002038\tvalidation_1-error:0.043946\n",
            "[452]\tvalidation_0-error:0.002038\tvalidation_1-error:0.043946\n",
            "[453]\tvalidation_0-error:0.002038\tvalidation_1-error:0.043946\n",
            "[454]\tvalidation_0-error:0.002038\tvalidation_1-error:0.043946\n",
            "[455]\tvalidation_0-error:0.002038\tvalidation_1-error:0.043946\n",
            "[456]\tvalidation_0-error:0.002038\tvalidation_1-error:0.043946\n",
            "[457]\tvalidation_0-error:0.002038\tvalidation_1-error:0.043946\n",
            "[458]\tvalidation_0-error:0.002038\tvalidation_1-error:0.043946\n",
            "[459]\tvalidation_0-error:0.002038\tvalidation_1-error:0.043946\n",
            "[460]\tvalidation_0-error:0.002038\tvalidation_1-error:0.043946\n",
            "[461]\tvalidation_0-error:0.002038\tvalidation_1-error:0.043946\n",
            "[462]\tvalidation_0-error:0.002038\tvalidation_1-error:0.043946\n",
            "[463]\tvalidation_0-error:0.002038\tvalidation_1-error:0.043946\n",
            "[464]\tvalidation_0-error:0.002038\tvalidation_1-error:0.043946\n",
            "[465]\tvalidation_0-error:0.002038\tvalidation_1-error:0.043946\n",
            "[466]\tvalidation_0-error:0.002038\tvalidation_1-error:0.043946\n",
            "[467]\tvalidation_0-error:0.002038\tvalidation_1-error:0.043946\n",
            "[468]\tvalidation_0-error:0.002038\tvalidation_1-error:0.043946\n",
            "[469]\tvalidation_0-error:0.002038\tvalidation_1-error:0.043946\n",
            "[470]\tvalidation_0-error:0.002038\tvalidation_1-error:0.043946\n",
            "[471]\tvalidation_0-error:0.002038\tvalidation_1-error:0.043946\n",
            "[472]\tvalidation_0-error:0.002038\tvalidation_1-error:0.043946\n",
            "[473]\tvalidation_0-error:0.002038\tvalidation_1-error:0.043946\n",
            "[474]\tvalidation_0-error:0.002038\tvalidation_1-error:0.043946\n",
            "[475]\tvalidation_0-error:0.002038\tvalidation_1-error:0.043946\n",
            "[476]\tvalidation_0-error:0.002038\tvalidation_1-error:0.043946\n",
            "[477]\tvalidation_0-error:0.002038\tvalidation_1-error:0.043946\n",
            "[478]\tvalidation_0-error:0.002038\tvalidation_1-error:0.043946\n",
            "[479]\tvalidation_0-error:0.002038\tvalidation_1-error:0.043946\n",
            "[480]\tvalidation_0-error:0.002038\tvalidation_1-error:0.043946\n",
            "[481]\tvalidation_0-error:0.002038\tvalidation_1-error:0.043946\n",
            "[482]\tvalidation_0-error:0.002038\tvalidation_1-error:0.043946\n",
            "[483]\tvalidation_0-error:0.002038\tvalidation_1-error:0.043946\n",
            "[484]\tvalidation_0-error:0.002038\tvalidation_1-error:0.043946\n",
            "[485]\tvalidation_0-error:0.002038\tvalidation_1-error:0.043946\n",
            "[486]\tvalidation_0-error:0.002038\tvalidation_1-error:0.043946\n",
            "[487]\tvalidation_0-error:0.002038\tvalidation_1-error:0.043946\n",
            "[488]\tvalidation_0-error:0.002038\tvalidation_1-error:0.043946\n",
            "[489]\tvalidation_0-error:0.002038\tvalidation_1-error:0.043946\n",
            "[490]\tvalidation_0-error:0.002038\tvalidation_1-error:0.043946\n",
            "[491]\tvalidation_0-error:0.002038\tvalidation_1-error:0.043946\n",
            "[492]\tvalidation_0-error:0.002038\tvalidation_1-error:0.043946\n",
            "[493]\tvalidation_0-error:0.002038\tvalidation_1-error:0.043946\n",
            "[494]\tvalidation_0-error:0.002038\tvalidation_1-error:0.043946\n",
            "[495]\tvalidation_0-error:0.002038\tvalidation_1-error:0.043946\n",
            "[496]\tvalidation_0-error:0.002038\tvalidation_1-error:0.043946\n",
            "[497]\tvalidation_0-error:0.002038\tvalidation_1-error:0.043946\n",
            "[498]\tvalidation_0-error:0.002038\tvalidation_1-error:0.043946\n",
            "[499]\tvalidation_0-error:0.002038\tvalidation_1-error:0.043946\n",
            "[500]\tvalidation_0-error:0.002038\tvalidation_1-error:0.043946\n",
            "[501]\tvalidation_0-error:0.002038\tvalidation_1-error:0.043946\n",
            "[502]\tvalidation_0-error:0.002038\tvalidation_1-error:0.043946\n",
            "[503]\tvalidation_0-error:0.002038\tvalidation_1-error:0.043946\n",
            "[504]\tvalidation_0-error:0.002038\tvalidation_1-error:0.043946\n",
            "[505]\tvalidation_0-error:0.002038\tvalidation_1-error:0.043946\n",
            "[506]\tvalidation_0-error:0.002038\tvalidation_1-error:0.043946\n",
            "[507]\tvalidation_0-error:0.002038\tvalidation_1-error:0.043946\n",
            "[508]\tvalidation_0-error:0.002038\tvalidation_1-error:0.043946\n",
            "[509]\tvalidation_0-error:0.002038\tvalidation_1-error:0.043946\n",
            "[510]\tvalidation_0-error:0.002038\tvalidation_1-error:0.043946\n",
            "[511]\tvalidation_0-error:0.002038\tvalidation_1-error:0.043946\n",
            "[512]\tvalidation_0-error:0.002038\tvalidation_1-error:0.043946\n",
            "[513]\tvalidation_0-error:0.002038\tvalidation_1-error:0.043946\n",
            "[514]\tvalidation_0-error:0.002038\tvalidation_1-error:0.043946\n",
            "[515]\tvalidation_0-error:0.002038\tvalidation_1-error:0.043946\n",
            "[516]\tvalidation_0-error:0.002038\tvalidation_1-error:0.043946\n",
            "[517]\tvalidation_0-error:0.002038\tvalidation_1-error:0.043946\n",
            "[518]\tvalidation_0-error:0.002038\tvalidation_1-error:0.043946\n",
            "[519]\tvalidation_0-error:0.002038\tvalidation_1-error:0.043946\n",
            "[520]\tvalidation_0-error:0.002038\tvalidation_1-error:0.043946\n",
            "[521]\tvalidation_0-error:0.002038\tvalidation_1-error:0.043946\n",
            "[522]\tvalidation_0-error:0.002038\tvalidation_1-error:0.043946\n",
            "[523]\tvalidation_0-error:0.002038\tvalidation_1-error:0.043946\n",
            "[524]\tvalidation_0-error:0.002038\tvalidation_1-error:0.043946\n",
            "[525]\tvalidation_0-error:0.002038\tvalidation_1-error:0.043946\n",
            "[526]\tvalidation_0-error:0.002038\tvalidation_1-error:0.043946\n",
            "[527]\tvalidation_0-error:0.002038\tvalidation_1-error:0.043946\n",
            "[528]\tvalidation_0-error:0.002038\tvalidation_1-error:0.043946\n",
            "[529]\tvalidation_0-error:0.002038\tvalidation_1-error:0.043946\n",
            "[530]\tvalidation_0-error:0.002038\tvalidation_1-error:0.043946\n",
            "[531]\tvalidation_0-error:0.002038\tvalidation_1-error:0.043946\n",
            "[532]\tvalidation_0-error:0.002038\tvalidation_1-error:0.043946\n",
            "[533]\tvalidation_0-error:0.002038\tvalidation_1-error:0.043946\n",
            "[534]\tvalidation_0-error:0.002038\tvalidation_1-error:0.043946\n",
            "[535]\tvalidation_0-error:0.002038\tvalidation_1-error:0.043946\n",
            "[536]\tvalidation_0-error:0.002038\tvalidation_1-error:0.043946\n",
            "[537]\tvalidation_0-error:0.002038\tvalidation_1-error:0.043946\n",
            "[538]\tvalidation_0-error:0.002038\tvalidation_1-error:0.043946\n",
            "[539]\tvalidation_0-error:0.002038\tvalidation_1-error:0.043946\n",
            "[540]\tvalidation_0-error:0.002038\tvalidation_1-error:0.043946\n",
            "[541]\tvalidation_0-error:0.002038\tvalidation_1-error:0.043946\n",
            "[542]\tvalidation_0-error:0.002038\tvalidation_1-error:0.043946\n",
            "[543]\tvalidation_0-error:0.002038\tvalidation_1-error:0.043946\n",
            "[544]\tvalidation_0-error:0.002038\tvalidation_1-error:0.043946\n",
            "[545]\tvalidation_0-error:0.002038\tvalidation_1-error:0.043946\n",
            "[546]\tvalidation_0-error:0.002038\tvalidation_1-error:0.043946\n",
            "[547]\tvalidation_0-error:0.002038\tvalidation_1-error:0.043946\n",
            "[548]\tvalidation_0-error:0.002038\tvalidation_1-error:0.043946\n",
            "[549]\tvalidation_0-error:0.002038\tvalidation_1-error:0.043946\n",
            "[550]\tvalidation_0-error:0.002038\tvalidation_1-error:0.043946\n",
            "[551]\tvalidation_0-error:0.002038\tvalidation_1-error:0.043946\n",
            "[552]\tvalidation_0-error:0.002038\tvalidation_1-error:0.043946\n",
            "[553]\tvalidation_0-error:0.002038\tvalidation_1-error:0.043946\n",
            "[554]\tvalidation_0-error:0.002038\tvalidation_1-error:0.043946\n",
            "[555]\tvalidation_0-error:0.002038\tvalidation_1-error:0.043946\n",
            "[556]\tvalidation_0-error:0.002038\tvalidation_1-error:0.043946\n",
            "[557]\tvalidation_0-error:0.002038\tvalidation_1-error:0.043946\n",
            "[558]\tvalidation_0-error:0.002038\tvalidation_1-error:0.043946\n",
            "[559]\tvalidation_0-error:0.002038\tvalidation_1-error:0.043946\n",
            "[560]\tvalidation_0-error:0.002038\tvalidation_1-error:0.043946\n",
            "[561]\tvalidation_0-error:0.002038\tvalidation_1-error:0.043946\n",
            "[562]\tvalidation_0-error:0.002038\tvalidation_1-error:0.043946\n",
            "[563]\tvalidation_0-error:0.002038\tvalidation_1-error:0.043946\n",
            "[564]\tvalidation_0-error:0.002038\tvalidation_1-error:0.043946\n",
            "[565]\tvalidation_0-error:0.002038\tvalidation_1-error:0.043946\n",
            "[566]\tvalidation_0-error:0.002038\tvalidation_1-error:0.043946\n",
            "[567]\tvalidation_0-error:0.002038\tvalidation_1-error:0.043946\n",
            "[568]\tvalidation_0-error:0.002038\tvalidation_1-error:0.043946\n",
            "[569]\tvalidation_0-error:0.002038\tvalidation_1-error:0.043946\n",
            "[570]\tvalidation_0-error:0.002038\tvalidation_1-error:0.043946\n",
            "[571]\tvalidation_0-error:0.002038\tvalidation_1-error:0.043946\n",
            "[572]\tvalidation_0-error:0.002038\tvalidation_1-error:0.043946\n",
            "[573]\tvalidation_0-error:0.002038\tvalidation_1-error:0.043946\n",
            "[574]\tvalidation_0-error:0.002038\tvalidation_1-error:0.043946\n",
            "[575]\tvalidation_0-error:0.002038\tvalidation_1-error:0.043946\n",
            "[576]\tvalidation_0-error:0.002038\tvalidation_1-error:0.043946\n",
            "[577]\tvalidation_0-error:0.002038\tvalidation_1-error:0.043946\n",
            "[578]\tvalidation_0-error:0.002038\tvalidation_1-error:0.043946\n",
            "[579]\tvalidation_0-error:0.002038\tvalidation_1-error:0.043946\n",
            "[580]\tvalidation_0-error:0.002038\tvalidation_1-error:0.043946\n",
            "[581]\tvalidation_0-error:0.002038\tvalidation_1-error:0.043946\n",
            "[582]\tvalidation_0-error:0.002038\tvalidation_1-error:0.043946\n",
            "[583]\tvalidation_0-error:0.002038\tvalidation_1-error:0.043946\n",
            "[584]\tvalidation_0-error:0.002038\tvalidation_1-error:0.043946\n",
            "[585]\tvalidation_0-error:0.002038\tvalidation_1-error:0.043946\n",
            "[586]\tvalidation_0-error:0.002038\tvalidation_1-error:0.043946\n",
            "[587]\tvalidation_0-error:0.002038\tvalidation_1-error:0.043946\n",
            "[588]\tvalidation_0-error:0.002038\tvalidation_1-error:0.043946\n",
            "[589]\tvalidation_0-error:0.002038\tvalidation_1-error:0.043946\n",
            "[590]\tvalidation_0-error:0.002038\tvalidation_1-error:0.043946\n",
            "[591]\tvalidation_0-error:0.002038\tvalidation_1-error:0.043946\n",
            "[592]\tvalidation_0-error:0.002038\tvalidation_1-error:0.043946\n",
            "[593]\tvalidation_0-error:0.002038\tvalidation_1-error:0.043946\n",
            "[594]\tvalidation_0-error:0.002038\tvalidation_1-error:0.043946\n",
            "[595]\tvalidation_0-error:0.002038\tvalidation_1-error:0.043946\n",
            "[596]\tvalidation_0-error:0.002038\tvalidation_1-error:0.043946\n",
            "[597]\tvalidation_0-error:0.002038\tvalidation_1-error:0.043946\n",
            "[598]\tvalidation_0-error:0.002038\tvalidation_1-error:0.043946\n",
            "[599]\tvalidation_0-error:0.002038\tvalidation_1-error:0.043946\n",
            "[600]\tvalidation_0-error:0.002038\tvalidation_1-error:0.043946\n",
            "[601]\tvalidation_0-error:0.002038\tvalidation_1-error:0.043946\n",
            "[602]\tvalidation_0-error:0.002038\tvalidation_1-error:0.043946\n",
            "[603]\tvalidation_0-error:0.002038\tvalidation_1-error:0.043946\n",
            "[604]\tvalidation_0-error:0.002038\tvalidation_1-error:0.043946\n",
            "[605]\tvalidation_0-error:0.002038\tvalidation_1-error:0.043946\n",
            "[606]\tvalidation_0-error:0.002038\tvalidation_1-error:0.043946\n",
            "[607]\tvalidation_0-error:0.002038\tvalidation_1-error:0.043946\n",
            "[608]\tvalidation_0-error:0.002038\tvalidation_1-error:0.043946\n",
            "[609]\tvalidation_0-error:0.002038\tvalidation_1-error:0.043946\n",
            "[610]\tvalidation_0-error:0.002038\tvalidation_1-error:0.043946\n",
            "[611]\tvalidation_0-error:0.002038\tvalidation_1-error:0.043946\n",
            "[612]\tvalidation_0-error:0.002038\tvalidation_1-error:0.043946\n",
            "[613]\tvalidation_0-error:0.002038\tvalidation_1-error:0.043946\n",
            "[614]\tvalidation_0-error:0.002038\tvalidation_1-error:0.043946\n",
            "[615]\tvalidation_0-error:0.002038\tvalidation_1-error:0.043946\n",
            "[616]\tvalidation_0-error:0.002038\tvalidation_1-error:0.043946\n",
            "[617]\tvalidation_0-error:0.002038\tvalidation_1-error:0.043946\n",
            "[618]\tvalidation_0-error:0.002038\tvalidation_1-error:0.043946\n",
            "[619]\tvalidation_0-error:0.002038\tvalidation_1-error:0.043946\n",
            "[620]\tvalidation_0-error:0.002038\tvalidation_1-error:0.043946\n",
            "[621]\tvalidation_0-error:0.002038\tvalidation_1-error:0.043946\n",
            "[622]\tvalidation_0-error:0.002038\tvalidation_1-error:0.043946\n",
            "[623]\tvalidation_0-error:0.002038\tvalidation_1-error:0.043946\n",
            "[624]\tvalidation_0-error:0.002038\tvalidation_1-error:0.043946\n",
            "[625]\tvalidation_0-error:0.00182\tvalidation_1-error:0.04482\n",
            "[626]\tvalidation_0-error:0.00182\tvalidation_1-error:0.04482\n",
            "[627]\tvalidation_0-error:0.00182\tvalidation_1-error:0.04482\n",
            "[628]\tvalidation_0-error:0.00182\tvalidation_1-error:0.04482\n",
            "[629]\tvalidation_0-error:0.00182\tvalidation_1-error:0.04482\n",
            "[630]\tvalidation_0-error:0.00182\tvalidation_1-error:0.04482\n",
            "[631]\tvalidation_0-error:0.00182\tvalidation_1-error:0.04482\n",
            "[632]\tvalidation_0-error:0.00182\tvalidation_1-error:0.04482\n",
            "[633]\tvalidation_0-error:0.00182\tvalidation_1-error:0.04482\n",
            "[634]\tvalidation_0-error:0.00182\tvalidation_1-error:0.04482\n",
            "[635]\tvalidation_0-error:0.00182\tvalidation_1-error:0.04482\n",
            "[636]\tvalidation_0-error:0.00182\tvalidation_1-error:0.04482\n",
            "[637]\tvalidation_0-error:0.00182\tvalidation_1-error:0.04482\n",
            "[638]\tvalidation_0-error:0.00182\tvalidation_1-error:0.04482\n",
            "[639]\tvalidation_0-error:0.00182\tvalidation_1-error:0.04482\n",
            "[640]\tvalidation_0-error:0.00182\tvalidation_1-error:0.04482\n",
            "[641]\tvalidation_0-error:0.00182\tvalidation_1-error:0.04482\n",
            "[642]\tvalidation_0-error:0.00182\tvalidation_1-error:0.04482\n",
            "[643]\tvalidation_0-error:0.00182\tvalidation_1-error:0.04482\n",
            "[644]\tvalidation_0-error:0.00182\tvalidation_1-error:0.04482\n",
            "[645]\tvalidation_0-error:0.00182\tvalidation_1-error:0.04482\n",
            "[646]\tvalidation_0-error:0.00182\tvalidation_1-error:0.04482\n",
            "[647]\tvalidation_0-error:0.00182\tvalidation_1-error:0.04482\n",
            "[648]\tvalidation_0-error:0.00182\tvalidation_1-error:0.04482\n",
            "[649]\tvalidation_0-error:0.00182\tvalidation_1-error:0.04482\n",
            "[650]\tvalidation_0-error:0.00182\tvalidation_1-error:0.04482\n",
            "[651]\tvalidation_0-error:0.00182\tvalidation_1-error:0.04482\n",
            "[652]\tvalidation_0-error:0.001965\tvalidation_1-error:0.04482\n",
            "[653]\tvalidation_0-error:0.001965\tvalidation_1-error:0.04482\n",
            "[654]\tvalidation_0-error:0.001965\tvalidation_1-error:0.04482\n",
            "[655]\tvalidation_0-error:0.001674\tvalidation_1-error:0.045111\n",
            "[656]\tvalidation_0-error:0.001674\tvalidation_1-error:0.045111\n",
            "[657]\tvalidation_0-error:0.001674\tvalidation_1-error:0.045111\n",
            "[658]\tvalidation_0-error:0.001674\tvalidation_1-error:0.045111\n",
            "[659]\tvalidation_0-error:0.001674\tvalidation_1-error:0.045111\n",
            "[660]\tvalidation_0-error:0.001674\tvalidation_1-error:0.045111\n",
            "[661]\tvalidation_0-error:0.001674\tvalidation_1-error:0.045111\n",
            "[662]\tvalidation_0-error:0.001674\tvalidation_1-error:0.045111\n",
            "[663]\tvalidation_0-error:0.001674\tvalidation_1-error:0.045111\n",
            "[664]\tvalidation_0-error:0.001674\tvalidation_1-error:0.045111\n",
            "[665]\tvalidation_0-error:0.001674\tvalidation_1-error:0.045111\n",
            "[666]\tvalidation_0-error:0.001674\tvalidation_1-error:0.045111\n",
            "[667]\tvalidation_0-error:0.001674\tvalidation_1-error:0.045111\n",
            "[668]\tvalidation_0-error:0.001674\tvalidation_1-error:0.045111\n",
            "[669]\tvalidation_0-error:0.001674\tvalidation_1-error:0.045111\n",
            "[670]\tvalidation_0-error:0.001674\tvalidation_1-error:0.045111\n",
            "[671]\tvalidation_0-error:0.001674\tvalidation_1-error:0.045111\n",
            "[672]\tvalidation_0-error:0.001674\tvalidation_1-error:0.045111\n",
            "[673]\tvalidation_0-error:0.001674\tvalidation_1-error:0.045111\n",
            "[674]\tvalidation_0-error:0.001674\tvalidation_1-error:0.045111\n",
            "[675]\tvalidation_0-error:0.001674\tvalidation_1-error:0.045111\n",
            "[676]\tvalidation_0-error:0.001674\tvalidation_1-error:0.045111\n",
            "[677]\tvalidation_0-error:0.001674\tvalidation_1-error:0.045111\n",
            "[678]\tvalidation_0-error:0.001674\tvalidation_1-error:0.045111\n",
            "[679]\tvalidation_0-error:0.001674\tvalidation_1-error:0.045111\n",
            "[680]\tvalidation_0-error:0.001674\tvalidation_1-error:0.045111\n",
            "[681]\tvalidation_0-error:0.001674\tvalidation_1-error:0.045111\n",
            "[682]\tvalidation_0-error:0.001674\tvalidation_1-error:0.045111\n",
            "[683]\tvalidation_0-error:0.001674\tvalidation_1-error:0.045111\n",
            "[684]\tvalidation_0-error:0.001674\tvalidation_1-error:0.045111\n",
            "[685]\tvalidation_0-error:0.001674\tvalidation_1-error:0.045111\n",
            "[686]\tvalidation_0-error:0.001674\tvalidation_1-error:0.045111\n",
            "[687]\tvalidation_0-error:0.001674\tvalidation_1-error:0.045111\n",
            "[688]\tvalidation_0-error:0.001674\tvalidation_1-error:0.045111\n",
            "[689]\tvalidation_0-error:0.001674\tvalidation_1-error:0.045111\n",
            "[690]\tvalidation_0-error:0.001674\tvalidation_1-error:0.045111\n",
            "[691]\tvalidation_0-error:0.001674\tvalidation_1-error:0.045111\n",
            "[692]\tvalidation_0-error:0.001674\tvalidation_1-error:0.045111\n",
            "[693]\tvalidation_0-error:0.001674\tvalidation_1-error:0.045111\n",
            "[694]\tvalidation_0-error:0.001674\tvalidation_1-error:0.045111\n",
            "[695]\tvalidation_0-error:0.001674\tvalidation_1-error:0.045111\n",
            "[696]\tvalidation_0-error:0.001674\tvalidation_1-error:0.045111\n",
            "[697]\tvalidation_0-error:0.001674\tvalidation_1-error:0.045111\n",
            "[698]\tvalidation_0-error:0.001674\tvalidation_1-error:0.045111\n",
            "[699]\tvalidation_0-error:0.001674\tvalidation_1-error:0.045111\n",
            "[700]\tvalidation_0-error:0.001674\tvalidation_1-error:0.045111\n",
            "[701]\tvalidation_0-error:0.001674\tvalidation_1-error:0.045111\n",
            "[702]\tvalidation_0-error:0.001674\tvalidation_1-error:0.045111\n",
            "[703]\tvalidation_0-error:0.001674\tvalidation_1-error:0.045111\n",
            "[704]\tvalidation_0-error:0.001674\tvalidation_1-error:0.045111\n",
            "[705]\tvalidation_0-error:0.001674\tvalidation_1-error:0.045111\n",
            "[706]\tvalidation_0-error:0.001674\tvalidation_1-error:0.045111\n",
            "[707]\tvalidation_0-error:0.001674\tvalidation_1-error:0.045111\n",
            "[708]\tvalidation_0-error:0.001674\tvalidation_1-error:0.045111\n",
            "[709]\tvalidation_0-error:0.001674\tvalidation_1-error:0.045111\n",
            "[710]\tvalidation_0-error:0.001674\tvalidation_1-error:0.045111\n",
            "[711]\tvalidation_0-error:0.001674\tvalidation_1-error:0.045111\n",
            "[712]\tvalidation_0-error:0.001674\tvalidation_1-error:0.045111\n",
            "[713]\tvalidation_0-error:0.001674\tvalidation_1-error:0.045111\n",
            "[714]\tvalidation_0-error:0.001674\tvalidation_1-error:0.045111\n",
            "[715]\tvalidation_0-error:0.001674\tvalidation_1-error:0.045111\n",
            "[716]\tvalidation_0-error:0.001674\tvalidation_1-error:0.045111\n",
            "[717]\tvalidation_0-error:0.001674\tvalidation_1-error:0.045111\n",
            "[718]\tvalidation_0-error:0.001674\tvalidation_1-error:0.045111\n",
            "[719]\tvalidation_0-error:0.001674\tvalidation_1-error:0.045111\n",
            "[720]\tvalidation_0-error:0.001674\tvalidation_1-error:0.045111\n",
            "[721]\tvalidation_0-error:0.001674\tvalidation_1-error:0.045111\n",
            "[722]\tvalidation_0-error:0.001674\tvalidation_1-error:0.045111\n",
            "[723]\tvalidation_0-error:0.001674\tvalidation_1-error:0.045111\n",
            "[724]\tvalidation_0-error:0.001674\tvalidation_1-error:0.045111\n",
            "[725]\tvalidation_0-error:0.001674\tvalidation_1-error:0.045111\n",
            "[726]\tvalidation_0-error:0.001674\tvalidation_1-error:0.045111\n",
            "[727]\tvalidation_0-error:0.001674\tvalidation_1-error:0.045111\n",
            "[728]\tvalidation_0-error:0.001674\tvalidation_1-error:0.045111\n",
            "[729]\tvalidation_0-error:0.001674\tvalidation_1-error:0.045111\n",
            "[730]\tvalidation_0-error:0.001674\tvalidation_1-error:0.045111\n",
            "[731]\tvalidation_0-error:0.001674\tvalidation_1-error:0.045111\n",
            "[732]\tvalidation_0-error:0.001674\tvalidation_1-error:0.045111\n",
            "[733]\tvalidation_0-error:0.001674\tvalidation_1-error:0.045111\n",
            "[734]\tvalidation_0-error:0.001674\tvalidation_1-error:0.045111\n",
            "[735]\tvalidation_0-error:0.001674\tvalidation_1-error:0.045111\n",
            "[736]\tvalidation_0-error:0.001674\tvalidation_1-error:0.045111\n",
            "[737]\tvalidation_0-error:0.001674\tvalidation_1-error:0.045111\n",
            "[738]\tvalidation_0-error:0.001674\tvalidation_1-error:0.045111\n",
            "[739]\tvalidation_0-error:0.001674\tvalidation_1-error:0.045111\n",
            "[740]\tvalidation_0-error:0.001674\tvalidation_1-error:0.045111\n",
            "[741]\tvalidation_0-error:0.001674\tvalidation_1-error:0.045111\n",
            "[742]\tvalidation_0-error:0.001674\tvalidation_1-error:0.045111\n",
            "[743]\tvalidation_0-error:0.001674\tvalidation_1-error:0.045111\n",
            "[744]\tvalidation_0-error:0.001674\tvalidation_1-error:0.045111\n",
            "[745]\tvalidation_0-error:0.001674\tvalidation_1-error:0.045111\n",
            "[746]\tvalidation_0-error:0.001674\tvalidation_1-error:0.045111\n",
            "[747]\tvalidation_0-error:0.001674\tvalidation_1-error:0.045111\n",
            "[748]\tvalidation_0-error:0.001674\tvalidation_1-error:0.045111\n",
            "[749]\tvalidation_0-error:0.001674\tvalidation_1-error:0.045111\n",
            "[750]\tvalidation_0-error:0.001674\tvalidation_1-error:0.045111\n",
            "[751]\tvalidation_0-error:0.001674\tvalidation_1-error:0.045111\n",
            "[752]\tvalidation_0-error:0.001674\tvalidation_1-error:0.045111\n",
            "[753]\tvalidation_0-error:0.001674\tvalidation_1-error:0.045111\n",
            "[754]\tvalidation_0-error:0.001674\tvalidation_1-error:0.045111\n",
            "[755]\tvalidation_0-error:0.001674\tvalidation_1-error:0.045111\n",
            "[756]\tvalidation_0-error:0.001674\tvalidation_1-error:0.045111\n",
            "[757]\tvalidation_0-error:0.001674\tvalidation_1-error:0.045111\n",
            "[758]\tvalidation_0-error:0.001674\tvalidation_1-error:0.045111\n",
            "[759]\tvalidation_0-error:0.001674\tvalidation_1-error:0.045111\n",
            "[760]\tvalidation_0-error:0.001674\tvalidation_1-error:0.045111\n",
            "[761]\tvalidation_0-error:0.001674\tvalidation_1-error:0.045111\n",
            "[762]\tvalidation_0-error:0.001674\tvalidation_1-error:0.045111\n",
            "[763]\tvalidation_0-error:0.001674\tvalidation_1-error:0.045111\n",
            "[764]\tvalidation_0-error:0.001674\tvalidation_1-error:0.045111\n",
            "[765]\tvalidation_0-error:0.001674\tvalidation_1-error:0.045111\n",
            "[766]\tvalidation_0-error:0.001674\tvalidation_1-error:0.045111\n",
            "[767]\tvalidation_0-error:0.001674\tvalidation_1-error:0.045111\n",
            "[768]\tvalidation_0-error:0.001674\tvalidation_1-error:0.045111\n",
            "[769]\tvalidation_0-error:0.001674\tvalidation_1-error:0.045111\n",
            "[770]\tvalidation_0-error:0.001674\tvalidation_1-error:0.045111\n",
            "[771]\tvalidation_0-error:0.001674\tvalidation_1-error:0.045111\n",
            "[772]\tvalidation_0-error:0.001674\tvalidation_1-error:0.045111\n",
            "[773]\tvalidation_0-error:0.001674\tvalidation_1-error:0.045111\n",
            "[774]\tvalidation_0-error:0.001674\tvalidation_1-error:0.045111\n",
            "[775]\tvalidation_0-error:0.001674\tvalidation_1-error:0.045111\n",
            "[776]\tvalidation_0-error:0.001674\tvalidation_1-error:0.045111\n",
            "[777]\tvalidation_0-error:0.001674\tvalidation_1-error:0.045111\n",
            "[778]\tvalidation_0-error:0.001674\tvalidation_1-error:0.045111\n",
            "[779]\tvalidation_0-error:0.001674\tvalidation_1-error:0.045111\n",
            "[780]\tvalidation_0-error:0.001674\tvalidation_1-error:0.045111\n",
            "[781]\tvalidation_0-error:0.001674\tvalidation_1-error:0.045111\n",
            "[782]\tvalidation_0-error:0.001674\tvalidation_1-error:0.045111\n",
            "[783]\tvalidation_0-error:0.001674\tvalidation_1-error:0.045111\n",
            "[784]\tvalidation_0-error:0.001674\tvalidation_1-error:0.045111\n",
            "[785]\tvalidation_0-error:0.001674\tvalidation_1-error:0.045111\n",
            "[786]\tvalidation_0-error:0.001674\tvalidation_1-error:0.045111\n",
            "[787]\tvalidation_0-error:0.001674\tvalidation_1-error:0.045111\n",
            "[788]\tvalidation_0-error:0.001674\tvalidation_1-error:0.045111\n",
            "[789]\tvalidation_0-error:0.001674\tvalidation_1-error:0.045111\n",
            "[790]\tvalidation_0-error:0.001674\tvalidation_1-error:0.045111\n",
            "[791]\tvalidation_0-error:0.001674\tvalidation_1-error:0.045111\n",
            "[792]\tvalidation_0-error:0.001674\tvalidation_1-error:0.045111\n",
            "[793]\tvalidation_0-error:0.001674\tvalidation_1-error:0.045111\n",
            "[794]\tvalidation_0-error:0.001674\tvalidation_1-error:0.045111\n",
            "[795]\tvalidation_0-error:0.001674\tvalidation_1-error:0.045111\n",
            "[796]\tvalidation_0-error:0.001674\tvalidation_1-error:0.045111\n",
            "[797]\tvalidation_0-error:0.001674\tvalidation_1-error:0.045111\n",
            "[798]\tvalidation_0-error:0.001674\tvalidation_1-error:0.045111\n",
            "[799]\tvalidation_0-error:0.001674\tvalidation_1-error:0.045111\n",
            "[800]\tvalidation_0-error:0.001674\tvalidation_1-error:0.045111\n",
            "[801]\tvalidation_0-error:0.001674\tvalidation_1-error:0.045111\n",
            "[802]\tvalidation_0-error:0.001674\tvalidation_1-error:0.045111\n",
            "[803]\tvalidation_0-error:0.001674\tvalidation_1-error:0.045111\n",
            "[804]\tvalidation_0-error:0.001674\tvalidation_1-error:0.045111\n",
            "[805]\tvalidation_0-error:0.001674\tvalidation_1-error:0.045111\n",
            "[806]\tvalidation_0-error:0.001674\tvalidation_1-error:0.045111\n",
            "[807]\tvalidation_0-error:0.001674\tvalidation_1-error:0.045111\n",
            "[808]\tvalidation_0-error:0.001674\tvalidation_1-error:0.045111\n",
            "[809]\tvalidation_0-error:0.001674\tvalidation_1-error:0.045111\n",
            "[810]\tvalidation_0-error:0.001674\tvalidation_1-error:0.045111\n",
            "[811]\tvalidation_0-error:0.001674\tvalidation_1-error:0.045111\n",
            "[812]\tvalidation_0-error:0.001674\tvalidation_1-error:0.045111\n",
            "[813]\tvalidation_0-error:0.001674\tvalidation_1-error:0.045111\n",
            "[814]\tvalidation_0-error:0.001674\tvalidation_1-error:0.045111\n",
            "[815]\tvalidation_0-error:0.001674\tvalidation_1-error:0.045111\n",
            "[816]\tvalidation_0-error:0.001674\tvalidation_1-error:0.045111\n",
            "CPU times: user 21.2 s, sys: 242 ms, total: 21.4 s\n",
            "Wall time: 21.3 s\n"
          ],
          "name": "stdout"
        },
        {
          "output_type": "execute_result",
          "data": {
            "text/plain": [
              "XGBClassifier(base_score=0.5, booster='gbtree', colsample_bylevel=1,\n",
              "              colsample_bynode=1, colsample_bytree=0.8282929969331484,\n",
              "              gamma=0.8199636219552069, learning_rate=0.48091390696028224,\n",
              "              max_delta_step=0, max_depth=4, min_child_weight=1, missing=None,\n",
              "              n_estimators=817, n_jobs=1, nthread=None,\n",
              "              objective='binary:logistic', random_state=0, reg_alpha=0,\n",
              "              reg_lambda=1, scale_pos_weight=1, seed=None, silent=None,\n",
              "              subsample=1, verbosity=1)"
            ]
          },
          "metadata": {
            "tags": []
          },
          "execution_count": 44
        }
      ]
    },
    {
      "cell_type": "code",
      "metadata": {
        "id": "IW0HZfbaETHB",
        "colab_type": "code",
        "colab": {}
      },
      "source": [
        "model = xgboost.XGBClassifier(silent=False, \n",
        "                      scale_pos_weight=1,\n",
        "                      learning_rate=0.7,  \n",
        "                      colsample_bytree = 0.8,\n",
        "                      subsample = 0.8,\n",
        "                      objective='binary:logistic', \n",
        "                      n_estimators=1000, \n",
        "                      reg_alpha = 0.3,\n",
        "                      max_depth=6, \n",
        "                      gamma=10)"
      ],
      "execution_count": 0,
      "outputs": []
    },
    {
      "cell_type": "code",
      "metadata": {
        "id": "bSDBT-duwFqe",
        "colab_type": "code",
        "colab": {}
      },
      "source": [
        "model = xgboost.XGBClassifier(base_score=0.5, booster='gbtree', colsample_bylevel=1,\n",
        "              colsample_bynode=1, colsample_bytree=0.8282929969331484,\n",
        "              gamma=0.8199636219552069, learning_rate=0.48091390696028224,\n",
        "              max_delta_step=0, max_depth=4, min_child_weight=1, missing=None,\n",
        "              n_estimators=817, n_jobs=1, nthread=None,\n",
        "              objective='binary:logistic', random_state=0, reg_alpha=0,\n",
        "              reg_lambda=1, scale_pos_weight=1, seed=None, silent=None,\n",
        "              subsample=1, verbosity=1)"
      ],
      "execution_count": 0,
      "outputs": []
    },
    {
      "cell_type": "code",
      "metadata": {
        "id": "3LmdLy61Eilt",
        "colab_type": "code",
        "outputId": "6aae7915-9207-46a1-acc9-530600d04fe7",
        "colab": {
          "base_uri": "https://localhost:8080/",
          "height": 35
        }
      },
      "source": [
        "model.fit(X_train, y_train)\n",
        "y_pred = model.predict(X_test)\n",
        "print(f1_score(y_test, y_pred, average='macro'))"
      ],
      "execution_count": 0,
      "outputs": [
        {
          "output_type": "stream",
          "text": [
            "0.8595344629549773\n"
          ],
          "name": "stdout"
        }
      ]
    },
    {
      "cell_type": "markdown",
      "metadata": {
        "id": "6rRpHdlXGCsK",
        "colab_type": "text"
      },
      "source": [
        "### Prediction"
      ]
    },
    {
      "cell_type": "code",
      "metadata": {
        "id": "Ggq3J5HvnFra",
        "colab_type": "code",
        "outputId": "70f9bd88-a766-4217-8962-fc24455934f3",
        "colab": {
          "base_uri": "https://localhost:8080/",
          "height": 52
        }
      },
      "source": [
        "# xgb_model = xgboost.XGBClassifier(learning_rate=0.14)\n",
        "xgb_model = xgboost.XGBClassifier(learning_rate=0.23)\n",
        "\n",
        "xgb_model.fit(X, y)\n",
        "y_pred = xgb_model.predict(X)\n",
        "print(f1_score(y, y_pred, average='macro'))\n",
        "\n",
        "# xgb_model.fit(X_train, y_train)\n",
        "# y_pred = xgb_model.predict(X_test)\n",
        "# print(f1_score(y_test, y_pred, average='macro'))\n",
        "\n",
        "y_pred_for_test = xgb_model.predict(X_pred)\n",
        "y_pred_for_test"
      ],
      "execution_count": 37,
      "outputs": [
        {
          "output_type": "stream",
          "text": [
            "0.8994391678342184\n"
          ],
          "name": "stdout"
        },
        {
          "output_type": "execute_result",
          "data": {
            "text/plain": [
              "array([1, 1, 1, ..., 1, 1, 1])"
            ]
          },
          "metadata": {
            "tags": []
          },
          "execution_count": 37
        }
      ]
    },
    {
      "cell_type": "markdown",
      "metadata": {
        "id": "RXDhxD_UdGIs",
        "colab_type": "text"
      },
      "source": [
        "### submission"
      ]
    },
    {
      "cell_type": "code",
      "metadata": {
        "id": "R8uiVAGeQQs7",
        "colab_type": "code",
        "outputId": "5ecfc367-aadd-4a01-9fe2-e82c24aa42a8",
        "colab": {
          "base_uri": "https://localhost:8080/",
          "height": 34
        }
      },
      "source": [
        "import csv\n",
        "\n",
        "file_name = \"submission_xgboost_all_new_features_06_11_lr022\"\n",
        "\n",
        "with open('/content/drive/My Drive/Semester 7/ML/Project/'+ file_name +'.csv', mode='w') as fare_file:\n",
        "    writer = csv.writer(fare_file, delimiter=',', quotechar='\"', quoting=csv.QUOTE_MINIMAL)\n",
        "    writer.writerow(['tripid','prediction'])\n",
        "    for i in range(len(y_pred_for_test)):\n",
        "      writer.writerow([df_test['tripid'][i],y_pred_for_test[i]])\n",
        "\n",
        "count = 0\n",
        "with open('/content/drive/My Drive/Semester 7/ML/Project/'+ file_name +'.csv','rt')as f:\n",
        "  data = csv.reader(f)\n",
        "  for row in data:\n",
        "        if row[1] == '0':\n",
        "          count+=1\n",
        "count"
      ],
      "execution_count": 38,
      "outputs": [
        {
          "output_type": "execute_result",
          "data": {
            "text/plain": [
              "413"
            ]
          },
          "metadata": {
            "tags": []
          },
          "execution_count": 38
        }
      ]
    },
    {
      "cell_type": "markdown",
      "metadata": {
        "id": "fh9TZ5gs1bxC",
        "colab_type": "text"
      },
      "source": [
        "0.97847  364 "
      ]
    },
    {
      "cell_type": "code",
      "metadata": {
        "id": "0idQ8G4MfZuf",
        "colab_type": "code",
        "outputId": "e39ce446-4c2d-454f-916c-c81f9c47f3e8",
        "colab": {
          "base_uri": "https://localhost:8080/",
          "height": 34
        }
      },
      "source": [
        "import csv\n",
        "count = 0\n",
        "with open('/content/drive/My Drive/Semester 7/ML/Project/submission_xgboost_all_new_features_06_11_lr023.csv','rt')as f:\n",
        "  data = csv.reader(f)\n",
        "  for row in data:\n",
        "        if row[1] == '0':\n",
        "          count+=1\n",
        "count"
      ],
      "execution_count": 26,
      "outputs": [
        {
          "output_type": "execute_result",
          "data": {
            "text/plain": [
              "413"
            ]
          },
          "metadata": {
            "tags": []
          },
          "execution_count": 26
        }
      ]
    },
    {
      "cell_type": "markdown",
      "metadata": {
        "id": "CVhRZT2W1jea",
        "colab_type": "text"
      },
      "source": [
        "0.98076 413  0.8994391678342184\n",
        "\n",
        "0.98045  409 0.8969432237851324\n",
        "\n",
        "0.98 394  0.8762147404118195\n",
        "\n",
        "0.98015 405 0.8774816129408761\n",
        "\n",
        "0.97865 377\n",
        "\n",
        "0.97938 403  0.8784483323006262\n",
        "\n",
        "0.97954 401 0.880807910755937"
      ]
    }
  ]
}