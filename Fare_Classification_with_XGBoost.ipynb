{
  "nbformat": 4,
  "nbformat_minor": 0,
  "metadata": {
    "colab": {
      "name": "Fare Classification - with XGBoost.ipynb",
      "provenance": [],
      "collapsed_sections": [],
      "authorship_tag": "ABX9TyM1tDKalxvfOQknUGWJqlin",
      "include_colab_link": true
    },
    "kernelspec": {
      "name": "python3",
      "display_name": "Python 3"
    }
  },
  "cells": [
    {
      "cell_type": "markdown",
      "metadata": {
        "id": "view-in-github",
        "colab_type": "text"
      },
      "source": [
        "<a href=\"https://colab.research.google.com/github/bhanukad610/Fare-Classification/blob/master/Fare_Classification_with_XGBoost.ipynb\" target=\"_parent\"><img src=\"https://colab.research.google.com/assets/colab-badge.svg\" alt=\"Open In Colab\"/></a>"
      ]
    },
    {
      "cell_type": "code",
      "metadata": {
        "id": "RXFc1Ul9Gjhy",
        "colab_type": "code",
        "outputId": "7a3eed21-99ec-4c32-b045-48c820f90e0f",
        "colab": {
          "base_uri": "https://localhost:8080/",
          "height": 35
        }
      },
      "source": [
        "from google.colab import drive\n",
        "drive.mount('/content/drive')"
      ],
      "execution_count": 1,
      "outputs": [
        {
          "output_type": "stream",
          "text": [
            "Drive already mounted at /content/drive; to attempt to forcibly remount, call drive.mount(\"/content/drive\", force_remount=True).\n"
          ],
          "name": "stdout"
        }
      ]
    },
    {
      "cell_type": "markdown",
      "metadata": {
        "id": "efB2iJQM2Wxm",
        "colab_type": "text"
      },
      "source": [
        "### Import Libraries"
      ]
    },
    {
      "cell_type": "code",
      "metadata": {
        "id": "ZdG7onyjG8YX",
        "colab_type": "code",
        "outputId": "8be0a3ae-aede-420f-aef9-4ff56280f9cd",
        "colab": {
          "base_uri": "https://localhost:8080/",
          "height": 72
        }
      },
      "source": [
        "import numpy as np\n",
        "import pandas as pd\n",
        "import matplotlib.pyplot as plt\n",
        "from matplotlib import style\n",
        "import seaborn as sns\n",
        "sns.set_style('whitegrid')\n",
        "import tensorflow as tf\n",
        "from sklearn.model_selection import train_test_split, cross_val_predict\n",
        "from sklearn.svm import SVC\n",
        "from sklearn.ensemble import RandomForestClassifier\n",
        "from sklearn.linear_model import SGDClassifier\n",
        "from sklearn.neighbors import KNeighborsClassifier\n",
        "from sklearn.naive_bayes import GaussianNB\n",
        "from sklearn.decomposition import PCA\n",
        "from xgboost import XGBClassifier\n",
        "from sklearn.preprocessing import LabelEncoder, MinMaxScaler\n",
        "from sklearn.metrics import confusion_matrix, precision_score, recall_score, f1_score\n",
        "import time\n",
        "import warnings\n",
        "warnings.filterwarnings(\"ignore\", category=DeprecationWarning)\n",
        "%matplotlib inline\n",
        "\n",
        "SMALL_SIZE = 10\n",
        "MEDIUM_SIZE = 12\n",
        "\n",
        "plt.rc('font', size=SMALL_SIZE)\n",
        "plt.rc('axes', titlesize=MEDIUM_SIZE)\n",
        "plt.rc('axes', labelsize=MEDIUM_SIZE)\n",
        "plt.rcParams['figure.dpi']=150"
      ],
      "execution_count": 3,
      "outputs": [
        {
          "output_type": "stream",
          "text": [
            "/usr/local/lib/python3.6/dist-packages/statsmodels/tools/_testing.py:19: FutureWarning: pandas.util.testing is deprecated. Use the functions in the public API at pandas.testing instead.\n",
            "  import pandas.util.testing as tm\n"
          ],
          "name": "stderr"
        }
      ]
    },
    {
      "cell_type": "markdown",
      "metadata": {
        "id": "YYg0rFqwqUC7",
        "colab_type": "text"
      },
      "source": [
        "### Data exploration"
      ]
    },
    {
      "cell_type": "code",
      "metadata": {
        "id": "jSPKg05ia4bp",
        "colab_type": "code",
        "colab": {}
      },
      "source": [
        "## Correlation\n",
        "import seaborn as sns\n",
        "import matplotlib.pyplot as plt\n",
        "#get correlations of each features in dataset\n",
        "df = pd.read_csv('/content/drive/My Drive/Semester 7/ML/Project/Data/train.csv')\n",
        "df['label'].replace(to_replace=['correct','incorrect'], value=[1,0],inplace=True)\n",
        "corrmat = df.corr()\n",
        "top_corr_features = corrmat.index\n",
        "plt.figure(figsize=(10,10))\n",
        "#plot heat map\n",
        "g=sns.heatmap(df[top_corr_features].corr(),annot=True,cmap=\"RdYlGn\")"
      ],
      "execution_count": 0,
      "outputs": []
    },
    {
      "cell_type": "markdown",
      "metadata": {
        "id": "FPNeVPaN-_R4",
        "colab_type": "text"
      },
      "source": [
        "### getGeneralDataFromDateTimeObj"
      ]
    },
    {
      "cell_type": "code",
      "metadata": {
        "id": "6N-EWUrU6KUX",
        "colab_type": "code",
        "colab": {}
      },
      "source": [
        "import datetime\n",
        "from datetime import timedelta\n",
        "\n",
        "def getGeneralDataFromDateTimeObj(time):\n",
        "  datetimeFormat = '%m/%d/%Y %H:%M'\n",
        "  dateTimeObj = datetime.datetime.strptime(time, datetimeFormat)\n",
        "  return [dateTimeObj.month, dateTimeObj.day, dateTimeObj.hour, dateTimeObj.minute, dateTimeObj.weekday()]"
      ],
      "execution_count": 0,
      "outputs": []
    },
    {
      "cell_type": "code",
      "metadata": {
        "id": "fvoP8YnW7C-M",
        "colab_type": "code",
        "colab": {}
      },
      "source": [
        "def generate_drop_time(df):\n",
        "  df_drop_time_month = []\n",
        "  df_drop_time_day = []\n",
        "  df_drop_time_hour = []\n",
        "  df_drop_time_minute = []\n",
        "\n",
        "  for time in df['drop_time']:\n",
        "    data = getGeneralDataFromDateTimeObj(time)\n",
        "    df_drop_time_month.append(data[0])\n",
        "    df_drop_time_day.append(data[1])\n",
        "    df_drop_time_hour.append(data[2])\n",
        "    df_drop_time_minute.append(data[3])\n",
        "\n",
        "  df['drop_time_month'] = df_drop_time_month\n",
        "  df['df_drop_time_day'] = df_drop_time_day\n",
        "  df['df_drop_time_hour'] = df_drop_time_hour\n",
        "  df['df_drop_time_minute'] = df_drop_time_minute"
      ],
      "execution_count": 0,
      "outputs": []
    },
    {
      "cell_type": "code",
      "metadata": {
        "id": "p5G1NTkl9saL",
        "colab_type": "code",
        "colab": {}
      },
      "source": [
        "def generate_pickup_time(df):\n",
        "  df_pickup_time_month = []\n",
        "  df_pickup_time_day = []\n",
        "  df_pickup_time_hour = []\n",
        "  df_pickup_time_minute = []\n",
        "\n",
        "  for time in df['pickup_time']:\n",
        "    data = getGeneralDataFromDateTimeObj(time)\n",
        "    df_pickup_time_month.append(data[0])\n",
        "    df_pickup_time_day.append(data[1])\n",
        "    df_pickup_time_hour.append(data[2])\n",
        "    df_pickup_time_minute.append(data[3])\n",
        "\n",
        "  df['df_pickup_time_month'] = df_pickup_time_month\n",
        "  df['df_pickup_time_day'] = df_pickup_time_day\n",
        "  df['df_pickup_time_hour'] = df_pickup_time_hour\n",
        "  df['df_pickup_time_minute'] = df_pickup_time_minute"
      ],
      "execution_count": 0,
      "outputs": []
    },
    {
      "cell_type": "markdown",
      "metadata": {
        "id": "2UUPfwld3M3F",
        "colab_type": "text"
      },
      "source": [
        "### Handle data and time"
      ]
    },
    {
      "cell_type": "code",
      "metadata": {
        "id": "v75navDw3QR8",
        "colab_type": "code",
        "colab": {}
      },
      "source": [
        "import datetime\n",
        "from datetime import timedelta\n",
        "\n",
        "#function to calculate duration in seconds\n",
        "def calculateDuration(pickup_time, drop_time):\n",
        "  datetimeFormat = '%m/%d/%Y %H:%M'\n",
        "  diff = datetime.datetime.strptime(drop_time, datetimeFormat)\\\n",
        "   - datetime.datetime.strptime(pickup_time, datetimeFormat)\n",
        "  return diff.seconds\n",
        "\n",
        "df_duration = df['tripid']\n",
        "\n",
        "def calculateDurationDf(pickup_time_frame, drop_time_frame):\n",
        "  \n",
        "  for i in range(len(pickup_time_frame)):\n",
        "\n",
        "    str_pickup_time = str(pickup_time_frame[i])\n",
        "    str_drop_time = str(drop_time_frame[i])\n",
        "\n",
        "    duration = calculateDuration(str_pickup_time, str_drop_time)\n",
        "    df_duration[i] = np.int64(duration)"
      ],
      "execution_count": 0,
      "outputs": []
    },
    {
      "cell_type": "markdown",
      "metadata": {
        "id": "aPIH2Qdr2eX6",
        "colab_type": "text"
      },
      "source": [
        "### Functions"
      ]
    },
    {
      "cell_type": "code",
      "metadata": {
        "id": "r7Pa3eFNH1I9",
        "colab_type": "code",
        "colab": {}
      },
      "source": [
        "import numpy as np\n",
        "from sklearn.impute import SimpleImputer\n",
        "\n",
        "def naImputation(Features, column_names):\n",
        "  # df.replace(np.NaN,np.NaN,inplace=True)\n",
        "  imp=SimpleImputer(missing_values=np.NaN)\n",
        "  idf=pd.DataFrame(imp.fit_transform(Features))\n",
        "  idf.columns=Features.columns\n",
        "  idf.index=Features.index\n",
        "\n",
        "  for column_name in column_names:\n",
        "    idf[column_name].isna().sum()\n",
        "\n",
        "  \n",
        "  return idf"
      ],
      "execution_count": 0,
      "outputs": []
    },
    {
      "cell_type": "code",
      "metadata": {
        "id": "swVafQvTR6JT",
        "colab_type": "code",
        "colab": {}
      },
      "source": [
        "from math import radians, sin, cos, acos\n",
        "\n",
        "#function to calculte distance from lat and longs\n",
        "def calculateDistance(pick_lat,pick_lon, drop_lat, drop_lon):\n",
        "      pick_lat = radians(float(pick_lat))\n",
        "      pick_lon = radians(float(pick_lon))\n",
        "      drop_lat = radians(float(drop_lat))\n",
        "      drop_lon = radians(float(drop_lon))\n",
        "\n",
        "      if (pick_lon == drop_lon and pick_lat == drop_lat):\n",
        "        distance = 0.0\n",
        "        return round(distance, 2)\n",
        "      else:\n",
        "        distance = 6371.01 * acos(sin(pick_lat)*sin(drop_lat) + cos(pick_lat)*cos(drop_lat)*cos(pick_lon - drop_lon))\n",
        "\n",
        "      # distance = 6371.01 * acos(sin(pick_lat)*sin(drop_lat) + cos(pick_lat)*cos(drop_lat)*cos(pick_lon - drop_lon))\n",
        "      return round(distance, 2)\n",
        "\n",
        "def calculateDistanceDf(pick_lat_frame,pick_lon_frame, drop_lat_frame, drop_lon_frame):\n",
        "  distanceList = []\n",
        "  for i in range(len(drop_lon_frame)):\n",
        "    pick_lat = pick_lat_frame[i]\n",
        "    pick_lon = pick_lon_frame[i]\n",
        "    drop_lat = drop_lat_frame[i]\n",
        "    drop_lon = drop_lon_frame[i]\n",
        "\n",
        "    try:\n",
        "      distance = calculateDistance(pick_lat,pick_lon, drop_lat, drop_lon)\n",
        "    except:\n",
        "      print(\"Error occured! , at\", i)\n",
        "\n",
        "    distanceList.append(distance)\n",
        "  return distanceList"
      ],
      "execution_count": 0,
      "outputs": []
    },
    {
      "cell_type": "code",
      "metadata": {
        "id": "tuEm1JyXSAxi",
        "colab_type": "code",
        "colab": {}
      },
      "source": [
        "def preprocess(df, features):\n",
        "  generate_pickup_time(df)\n",
        "  generate_drop_time(df)\n",
        "\n",
        "  df['distance'] = calculateDistanceDf(df['pick_lat'], df['pick_lon'], df['drop_lat'], df['drop_lon'])\n",
        "\n",
        "\n",
        "  \n",
        "  features += ['distance', 'df_pickup_time_month', 'df_pickup_time_day', 'df_pickup_time_hour', 'df_pickup_time_minute', 'drop_time_month', 'df_drop_time_day', 'df_drop_time_hour', 'df_drop_time_minute']\n",
        "  Features = df[features]\n",
        "  # Features = naImputation(Features,features)\n",
        "  print(features)\n",
        "  \n",
        "  return Features"
      ],
      "execution_count": 0,
      "outputs": []
    },
    {
      "cell_type": "code",
      "metadata": {
        "id": "afbmrFmAPTuM",
        "colab_type": "code",
        "colab": {}
      },
      "source": [
        "from sklearn import preprocessing\n",
        "def getX(Features):\n",
        "    X= preprocessing.StandardScaler().fit(Features).transform(Features)\n",
        "    return X"
      ],
      "execution_count": 0,
      "outputs": []
    },
    {
      "cell_type": "markdown",
      "metadata": {
        "id": "sHdmOCKu2h0Y",
        "colab_type": "text"
      },
      "source": [
        "### Load train and test data"
      ]
    },
    {
      "cell_type": "code",
      "metadata": {
        "id": "EyJ-Q-EkSGrJ",
        "colab_type": "code",
        "colab": {}
      },
      "source": [
        "df = pd.read_csv('/content/drive/My Drive/Semester 7/ML/Project/Data/train.csv')\n",
        "df['label'].replace(to_replace=['correct','incorrect'], value=[1,0],inplace=True)\n",
        "features = ['additional_fare','duration', 'meter_waiting', 'meter_waiting_fare', 'meter_waiting_till_pickup', 'fare']"
      ],
      "execution_count": 0,
      "outputs": []
    },
    {
      "cell_type": "code",
      "metadata": {
        "id": "YCCs_0B8H2mS",
        "colab_type": "code",
        "outputId": "78ce04d8-71fa-40e1-cb65-b069273fa235",
        "colab": {
          "base_uri": "https://localhost:8080/",
          "height": 240
        }
      },
      "source": [
        "Features = preprocess(df, features)\n",
        "X = getX(Features)\n",
        "y = df['label'].values\n",
        "Features.head()"
      ],
      "execution_count": 12,
      "outputs": [
        {
          "output_type": "stream",
          "text": [
            "['additional_fare', 'duration', 'meter_waiting', 'meter_waiting_fare', 'meter_waiting_till_pickup', 'fare', 'distance', 'df_pickup_time_month', 'df_pickup_time_day', 'df_pickup_time_hour', 'df_pickup_time_minute', 'drop_time_month', 'df_drop_time_day', 'df_drop_time_hour', 'df_drop_time_minute']\n"
          ],
          "name": "stdout"
        },
        {
          "output_type": "execute_result",
          "data": {
            "text/html": [
              "<div>\n",
              "<style scoped>\n",
              "    .dataframe tbody tr th:only-of-type {\n",
              "        vertical-align: middle;\n",
              "    }\n",
              "\n",
              "    .dataframe tbody tr th {\n",
              "        vertical-align: top;\n",
              "    }\n",
              "\n",
              "    .dataframe thead th {\n",
              "        text-align: right;\n",
              "    }\n",
              "</style>\n",
              "<table border=\"1\" class=\"dataframe\">\n",
              "  <thead>\n",
              "    <tr style=\"text-align: right;\">\n",
              "      <th></th>\n",
              "      <th>additional_fare</th>\n",
              "      <th>duration</th>\n",
              "      <th>meter_waiting</th>\n",
              "      <th>meter_waiting_fare</th>\n",
              "      <th>meter_waiting_till_pickup</th>\n",
              "      <th>fare</th>\n",
              "      <th>distance</th>\n",
              "      <th>df_pickup_time_month</th>\n",
              "      <th>df_pickup_time_day</th>\n",
              "      <th>df_pickup_time_hour</th>\n",
              "      <th>df_pickup_time_minute</th>\n",
              "      <th>drop_time_month</th>\n",
              "      <th>df_drop_time_day</th>\n",
              "      <th>df_drop_time_hour</th>\n",
              "      <th>df_drop_time_minute</th>\n",
              "    </tr>\n",
              "  </thead>\n",
              "  <tbody>\n",
              "    <tr>\n",
              "      <th>0</th>\n",
              "      <td>10.5</td>\n",
              "      <td>834.0</td>\n",
              "      <td>56.0</td>\n",
              "      <td>0.0000</td>\n",
              "      <td>64.0</td>\n",
              "      <td>270.32</td>\n",
              "      <td>5.09</td>\n",
              "      <td>11</td>\n",
              "      <td>1</td>\n",
              "      <td>0</td>\n",
              "      <td>20</td>\n",
              "      <td>11</td>\n",
              "      <td>1</td>\n",
              "      <td>0</td>\n",
              "      <td>34</td>\n",
              "    </tr>\n",
              "    <tr>\n",
              "      <th>1</th>\n",
              "      <td>10.5</td>\n",
              "      <td>791.0</td>\n",
              "      <td>47.0</td>\n",
              "      <td>0.0000</td>\n",
              "      <td>134.0</td>\n",
              "      <td>197.85</td>\n",
              "      <td>3.17</td>\n",
              "      <td>11</td>\n",
              "      <td>1</td>\n",
              "      <td>0</td>\n",
              "      <td>56</td>\n",
              "      <td>11</td>\n",
              "      <td>1</td>\n",
              "      <td>1</td>\n",
              "      <td>9</td>\n",
              "    </tr>\n",
              "    <tr>\n",
              "      <th>2</th>\n",
              "      <td>10.5</td>\n",
              "      <td>1087.0</td>\n",
              "      <td>80.0</td>\n",
              "      <td>0.0000</td>\n",
              "      <td>61.0</td>\n",
              "      <td>301.64</td>\n",
              "      <td>6.31</td>\n",
              "      <td>11</td>\n",
              "      <td>1</td>\n",
              "      <td>1</td>\n",
              "      <td>8</td>\n",
              "      <td>11</td>\n",
              "      <td>1</td>\n",
              "      <td>1</td>\n",
              "      <td>26</td>\n",
              "    </tr>\n",
              "    <tr>\n",
              "      <th>3</th>\n",
              "      <td>10.5</td>\n",
              "      <td>598.0</td>\n",
              "      <td>271.0</td>\n",
              "      <td>15.6638</td>\n",
              "      <td>68.0</td>\n",
              "      <td>82.30</td>\n",
              "      <td>0.86</td>\n",
              "      <td>11</td>\n",
              "      <td>1</td>\n",
              "      <td>2</td>\n",
              "      <td>27</td>\n",
              "      <td>11</td>\n",
              "      <td>1</td>\n",
              "      <td>2</td>\n",
              "      <td>37</td>\n",
              "    </tr>\n",
              "    <tr>\n",
              "      <th>4</th>\n",
              "      <td>NaN</td>\n",
              "      <td>NaN</td>\n",
              "      <td>NaN</td>\n",
              "      <td>NaN</td>\n",
              "      <td>NaN</td>\n",
              "      <td>358.39</td>\n",
              "      <td>8.15</td>\n",
              "      <td>11</td>\n",
              "      <td>1</td>\n",
              "      <td>3</td>\n",
              "      <td>34</td>\n",
              "      <td>11</td>\n",
              "      <td>1</td>\n",
              "      <td>3</td>\n",
              "      <td>51</td>\n",
              "    </tr>\n",
              "  </tbody>\n",
              "</table>\n",
              "</div>"
            ],
            "text/plain": [
              "   additional_fare  duration  ...  df_drop_time_hour  df_drop_time_minute\n",
              "0             10.5     834.0  ...                  0                   34\n",
              "1             10.5     791.0  ...                  1                    9\n",
              "2             10.5    1087.0  ...                  1                   26\n",
              "3             10.5     598.0  ...                  2                   37\n",
              "4              NaN       NaN  ...                  3                   51\n",
              "\n",
              "[5 rows x 15 columns]"
            ]
          },
          "metadata": {
            "tags": []
          },
          "execution_count": 12
        }
      ]
    },
    {
      "cell_type": "code",
      "metadata": {
        "id": "aB5BReWePkoe",
        "colab_type": "code",
        "colab": {}
      },
      "source": [
        "df_test = pd.read_csv('/content/drive/My Drive/Semester 7/ML/Project/Data/test.csv')\n",
        "features_test = ['additional_fare','duration', 'meter_waiting', 'meter_waiting_fare', 'meter_waiting_till_pickup', 'fare']"
      ],
      "execution_count": 0,
      "outputs": []
    },
    {
      "cell_type": "code",
      "metadata": {
        "id": "kDTRQr72PrIl",
        "colab_type": "code",
        "outputId": "d7cea3aa-fbbe-43b2-fbea-1881e9f4e1e4",
        "colab": {
          "base_uri": "https://localhost:8080/",
          "height": 240
        }
      },
      "source": [
        "Features_for_test = preprocess(df_test, features_test)\n",
        "X_pred = getX(Features_for_test)\n",
        "Features_for_test.head()"
      ],
      "execution_count": 14,
      "outputs": [
        {
          "output_type": "stream",
          "text": [
            "['additional_fare', 'duration', 'meter_waiting', 'meter_waiting_fare', 'meter_waiting_till_pickup', 'fare', 'distance', 'df_pickup_time_month', 'df_pickup_time_day', 'df_pickup_time_hour', 'df_pickup_time_minute', 'drop_time_month', 'df_drop_time_day', 'df_drop_time_hour', 'df_drop_time_minute']\n"
          ],
          "name": "stdout"
        },
        {
          "output_type": "execute_result",
          "data": {
            "text/html": [
              "<div>\n",
              "<style scoped>\n",
              "    .dataframe tbody tr th:only-of-type {\n",
              "        vertical-align: middle;\n",
              "    }\n",
              "\n",
              "    .dataframe tbody tr th {\n",
              "        vertical-align: top;\n",
              "    }\n",
              "\n",
              "    .dataframe thead th {\n",
              "        text-align: right;\n",
              "    }\n",
              "</style>\n",
              "<table border=\"1\" class=\"dataframe\">\n",
              "  <thead>\n",
              "    <tr style=\"text-align: right;\">\n",
              "      <th></th>\n",
              "      <th>additional_fare</th>\n",
              "      <th>duration</th>\n",
              "      <th>meter_waiting</th>\n",
              "      <th>meter_waiting_fare</th>\n",
              "      <th>meter_waiting_till_pickup</th>\n",
              "      <th>fare</th>\n",
              "      <th>distance</th>\n",
              "      <th>df_pickup_time_month</th>\n",
              "      <th>df_pickup_time_day</th>\n",
              "      <th>df_pickup_time_hour</th>\n",
              "      <th>df_pickup_time_minute</th>\n",
              "      <th>drop_time_month</th>\n",
              "      <th>df_drop_time_day</th>\n",
              "      <th>df_drop_time_hour</th>\n",
              "      <th>df_drop_time_minute</th>\n",
              "    </tr>\n",
              "  </thead>\n",
              "  <tbody>\n",
              "    <tr>\n",
              "      <th>0</th>\n",
              "      <td>10.5</td>\n",
              "      <td>924</td>\n",
              "      <td>42</td>\n",
              "      <td>2.4486</td>\n",
              "      <td>148</td>\n",
              "      <td>289.27</td>\n",
              "      <td>6.71</td>\n",
              "      <td>2</td>\n",
              "      <td>1</td>\n",
              "      <td>0</td>\n",
              "      <td>38</td>\n",
              "      <td>2</td>\n",
              "      <td>1</td>\n",
              "      <td>0</td>\n",
              "      <td>53</td>\n",
              "    </tr>\n",
              "    <tr>\n",
              "      <th>1</th>\n",
              "      <td>10.5</td>\n",
              "      <td>4249</td>\n",
              "      <td>20</td>\n",
              "      <td>0.0000</td>\n",
              "      <td>91</td>\n",
              "      <td>1912.70</td>\n",
              "      <td>41.56</td>\n",
              "      <td>2</td>\n",
              "      <td>1</td>\n",
              "      <td>1</td>\n",
              "      <td>2</td>\n",
              "      <td>2</td>\n",
              "      <td>1</td>\n",
              "      <td>2</td>\n",
              "      <td>13</td>\n",
              "    </tr>\n",
              "    <tr>\n",
              "      <th>2</th>\n",
              "      <td>10.5</td>\n",
              "      <td>1552</td>\n",
              "      <td>255</td>\n",
              "      <td>2.6588</td>\n",
              "      <td>23</td>\n",
              "      <td>394.00</td>\n",
              "      <td>5.92</td>\n",
              "      <td>2</td>\n",
              "      <td>1</td>\n",
              "      <td>5</td>\n",
              "      <td>2</td>\n",
              "      <td>2</td>\n",
              "      <td>1</td>\n",
              "      <td>5</td>\n",
              "      <td>28</td>\n",
              "    </tr>\n",
              "    <tr>\n",
              "      <th>3</th>\n",
              "      <td>10.5</td>\n",
              "      <td>462</td>\n",
              "      <td>16</td>\n",
              "      <td>0.0000</td>\n",
              "      <td>198</td>\n",
              "      <td>154.32</td>\n",
              "      <td>3.30</td>\n",
              "      <td>2</td>\n",
              "      <td>1</td>\n",
              "      <td>5</td>\n",
              "      <td>30</td>\n",
              "      <td>2</td>\n",
              "      <td>1</td>\n",
              "      <td>5</td>\n",
              "      <td>38</td>\n",
              "    </tr>\n",
              "    <tr>\n",
              "      <th>4</th>\n",
              "      <td>10.5</td>\n",
              "      <td>814</td>\n",
              "      <td>392</td>\n",
              "      <td>12.3692</td>\n",
              "      <td>69</td>\n",
              "      <td>147.47</td>\n",
              "      <td>2.59</td>\n",
              "      <td>2</td>\n",
              "      <td>1</td>\n",
              "      <td>7</td>\n",
              "      <td>0</td>\n",
              "      <td>2</td>\n",
              "      <td>1</td>\n",
              "      <td>7</td>\n",
              "      <td>14</td>\n",
              "    </tr>\n",
              "  </tbody>\n",
              "</table>\n",
              "</div>"
            ],
            "text/plain": [
              "   additional_fare  duration  ...  df_drop_time_hour  df_drop_time_minute\n",
              "0             10.5       924  ...                  0                   53\n",
              "1             10.5      4249  ...                  2                   13\n",
              "2             10.5      1552  ...                  5                   28\n",
              "3             10.5       462  ...                  5                   38\n",
              "4             10.5       814  ...                  7                   14\n",
              "\n",
              "[5 rows x 15 columns]"
            ]
          },
          "metadata": {
            "tags": []
          },
          "execution_count": 14
        }
      ]
    },
    {
      "cell_type": "code",
      "metadata": {
        "id": "iCNIsIC9P5dP",
        "colab_type": "code",
        "colab": {}
      },
      "source": [
        "from sklearn.model_selection import train_test_split\n",
        "X_train, X_test, y_train, y_test = train_test_split(X, y, test_size=0.2, random_state=42)"
      ],
      "execution_count": 0,
      "outputs": []
    },
    {
      "cell_type": "code",
      "metadata": {
        "id": "XMsZoqqld5cM",
        "colab_type": "code",
        "colab": {}
      },
      "source": [
        "## Hyper Parameter Optimization\n",
        "\n",
        "params={\n",
        " \"learning_rate\"    : [0.05, 0.10, 0.15, 0.20, 0.25, 0.30 ] ,\n",
        " \"max_depth\"        : [ 3, 4, 5, 6, 8, 10, 12, 15],\n",
        " \"min_child_weight\" : [ 1, 3, 5, 7 ],\n",
        " \"gamma\"            : [ 0.0, 0.1, 0.2 , 0.3, 0.4 ],\n",
        " \"colsample_bytree\" : [ 0.1, 0.2, 0.3, 0.4, 0.5 , 0.7, 0.8, 0.9, 1.0 ]\n",
        "    \n",
        "}"
      ],
      "execution_count": 0,
      "outputs": []
    },
    {
      "cell_type": "code",
      "metadata": {
        "id": "Hvy9xdS7eBJ2",
        "colab_type": "code",
        "colab": {}
      },
      "source": [
        "## Hyperparameter optimization using RandomizedSearchCV\n",
        "from sklearn.model_selection import RandomizedSearchCV, GridSearchCV\n",
        "import xgboost"
      ],
      "execution_count": 0,
      "outputs": []
    },
    {
      "cell_type": "code",
      "metadata": {
        "id": "tL1C4Q9beEYe",
        "colab_type": "code",
        "colab": {}
      },
      "source": [
        "def timer(start_time=None):\n",
        "    if not start_time:\n",
        "        start_time = datetime.now()\n",
        "        return start_time\n",
        "    elif start_time:\n",
        "        thour, temp_sec = divmod((datetime.now() - start_time).total_seconds(), 3600)\n",
        "        tmin, tsec = divmod(temp_sec, 60)\n",
        "        print('\\n Time taken: %i hours %i minutes and %s seconds.' % (thour, tmin, round(tsec, 2)))"
      ],
      "execution_count": 0,
      "outputs": []
    },
    {
      "cell_type": "code",
      "metadata": {
        "id": "gY2OefF0eJNK",
        "colab_type": "code",
        "colab": {}
      },
      "source": [
        "classifier=xgboost.XGBClassifier()"
      ],
      "execution_count": 0,
      "outputs": []
    },
    {
      "cell_type": "code",
      "metadata": {
        "id": "ZjEXmxJqeNaa",
        "colab_type": "code",
        "colab": {}
      },
      "source": [
        "random_search=RandomizedSearchCV(classifier,param_distributions=params,n_iter=5,scoring=None,n_jobs=-1,cv=5,verbose=3)"
      ],
      "execution_count": 0,
      "outputs": []
    },
    {
      "cell_type": "code",
      "metadata": {
        "id": "QBgEGA3fenst",
        "colab_type": "code",
        "colab": {}
      },
      "source": [
        "from datetime import datetime\n",
        "# Here we go\n",
        "start_time = timer(None) # timing starts from this point for \"start_time\" variable\n",
        "random_search.fit(Features,y)\n",
        "timer(start_time) # timing ends here for \"start_time\" variable"
      ],
      "execution_count": 0,
      "outputs": []
    },
    {
      "cell_type": "code",
      "metadata": {
        "id": "yb6HWCyGe2s-",
        "colab_type": "code",
        "colab": {}
      },
      "source": [
        "random_search.best_estimator_"
      ],
      "execution_count": 0,
      "outputs": []
    },
    {
      "cell_type": "code",
      "metadata": {
        "id": "cnDUtc8QfDzG",
        "colab_type": "code",
        "colab": {}
      },
      "source": [
        "random_search.best_params_"
      ],
      "execution_count": 0,
      "outputs": []
    },
    {
      "cell_type": "code",
      "metadata": {
        "id": "Zk8wLPdhvQHH",
        "colab_type": "code",
        "colab": {}
      },
      "source": [
        "classifier=xgboost.XGBClassifier(base_score=0.5, booster='gbtree', colsample_bylevel=1,\n",
        "              colsample_bynode=1, colsample_bytree=0.5, gamma=0.3,\n",
        "              learning_rate=0.25, max_delta_step=0, max_depth=4,\n",
        "              min_child_weight=5, missing=None, n_estimators=100, n_jobs=1,\n",
        "              nthread=None, objective='binary:logistic', random_state=0,\n",
        "              reg_alpha=0, reg_lambda=1, scale_pos_weight=1, seed=None,\n",
        "              silent=None, subsample=1, verbosity=1)"
      ],
      "execution_count": 0,
      "outputs": []
    },
    {
      "cell_type": "code",
      "metadata": {
        "id": "ZY6DdhFUvFp1",
        "colab_type": "code",
        "colab": {}
      },
      "source": [
        "from sklearn.model_selection import cross_val_score\n",
        "score=cross_val_score(classifier,Features,y,cv=10)"
      ],
      "execution_count": 0,
      "outputs": []
    },
    {
      "cell_type": "code",
      "metadata": {
        "id": "JJWjf3RlvV72",
        "colab_type": "code",
        "colab": {
          "base_uri": "https://localhost:8080/",
          "height": 35
        },
        "outputId": "24fa49ef-fa17-4f78-f4a3-7799c4906ccc"
      },
      "source": [
        "score.mean()"
      ],
      "execution_count": 28,
      "outputs": [
        {
          "output_type": "execute_result",
          "data": {
            "text/plain": [
              "0.8672710340951235"
            ]
          },
          "metadata": {
            "tags": []
          },
          "execution_count": 28
        }
      ]
    },
    {
      "cell_type": "code",
      "metadata": {
        "id": "6B-Ja5vEP_a8",
        "colab_type": "code",
        "outputId": "7d2fb206-4ebc-49eb-a054-0b5f7df7e5dd",
        "colab": {
          "base_uri": "https://localhost:8080/",
          "height": 35
        }
      },
      "source": [
        "# xgb_model = xgboost.XGBClassifier(colsample_bytree = 0.4, gamma=0.0, learning_rate=0.1, max_depth=5, min_child_weight=6)\n",
        "xgb_model = xgboost.XGBClassifier()\n",
        "xgb_model.fit(X, y)\n",
        "\n",
        "y_pred = xgb_model.predict(X)\n",
        "print(f1_score(y, y_pred, average='macro'))"
      ],
      "execution_count": 36,
      "outputs": [
        {
          "output_type": "stream",
          "text": [
            "0.8111489275862716\n"
          ],
          "name": "stdout"
        }
      ]
    },
    {
      "cell_type": "code",
      "metadata": {
        "id": "_wT3J95NQPJM",
        "colab_type": "code",
        "colab": {}
      },
      "source": [
        "y_pred_for_test = xgb_model.predict(X_pred)"
      ],
      "execution_count": 0,
      "outputs": []
    },
    {
      "cell_type": "code",
      "metadata": {
        "id": "6JQVEjpXSF6v",
        "colab_type": "code",
        "outputId": "0f743b1b-ceeb-44ae-caa9-3e985b5d4758",
        "colab": {
          "base_uri": "https://localhost:8080/",
          "height": 35
        }
      },
      "source": [
        "y_pred_for_test"
      ],
      "execution_count": 38,
      "outputs": [
        {
          "output_type": "execute_result",
          "data": {
            "text/plain": [
              "array([1, 1, 1, ..., 1, 1, 1])"
            ]
          },
          "metadata": {
            "tags": []
          },
          "execution_count": 38
        }
      ]
    },
    {
      "cell_type": "code",
      "metadata": {
        "id": "R8uiVAGeQQs7",
        "colab_type": "code",
        "colab": {}
      },
      "source": [
        "import csv\n",
        "\n",
        "with open('/content/drive/My Drive/Semester 7/ML/Project/submission_xgb_model_imp_with_def.csv', mode='w') as employee_file:\n",
        "    employee_writer = csv.writer(employee_file, delimiter=',', quotechar='\"', quoting=csv.QUOTE_MINIMAL)\n",
        "    employee_writer.writerow(['tripid','prediction'])\n",
        "    for i in range(len(y_pred_for_test)):\n",
        "      employee_writer.writerow([df_test['tripid'][i],y_pred_for_test[i]])"
      ],
      "execution_count": 0,
      "outputs": []
    }
  ]
}