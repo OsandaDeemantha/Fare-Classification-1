{
  "nbformat": 4,
  "nbformat_minor": 0,
  "metadata": {
    "colab": {
      "name": "Submission - Fare Classification - with XGBoost.ipynb",
      "provenance": [],
      "collapsed_sections": [],
      "authorship_tag": "ABX9TyONVg9oMTnBrhq8nKCIUuRn",
      "include_colab_link": true
    },
    "kernelspec": {
      "name": "python3",
      "display_name": "Python 3"
    }
  },
  "cells": [
    {
      "cell_type": "markdown",
      "metadata": {
        "id": "view-in-github",
        "colab_type": "text"
      },
      "source": [
        "<a href=\"https://colab.research.google.com/github/bhanukad610/Fare-Classification/blob/master/Submission_Fare_Classification_with_XGBoost.ipynb\" target=\"_parent\"><img src=\"https://colab.research.google.com/assets/colab-badge.svg\" alt=\"Open In Colab\"/></a>"
      ]
    },
    {
      "cell_type": "code",
      "metadata": {
        "id": "RXFc1Ul9Gjhy",
        "colab_type": "code",
        "outputId": "bf9555bc-40bf-488c-c78b-00a5b8b15cb8",
        "colab": {
          "base_uri": "https://localhost:8080/",
          "height": 125
        }
      },
      "source": [
        "from google.colab import drive\n",
        "drive.mount('/content/drive')"
      ],
      "execution_count": 1,
      "outputs": [
        {
          "output_type": "stream",
          "text": [
            "Go to this URL in a browser: https://accounts.google.com/o/oauth2/auth?client_id=947318989803-6bn6qk8qdgf4n4g3pfee6491hc0brc4i.apps.googleusercontent.com&redirect_uri=urn%3aietf%3awg%3aoauth%3a2.0%3aoob&response_type=code&scope=email%20https%3a%2f%2fwww.googleapis.com%2fauth%2fdocs.test%20https%3a%2f%2fwww.googleapis.com%2fauth%2fdrive%20https%3a%2f%2fwww.googleapis.com%2fauth%2fdrive.photos.readonly%20https%3a%2f%2fwww.googleapis.com%2fauth%2fpeopleapi.readonly\n",
            "\n",
            "Enter your authorization code:\n",
            "··········\n",
            "Mounted at /content/drive\n"
          ],
          "name": "stdout"
        }
      ]
    },
    {
      "cell_type": "markdown",
      "metadata": {
        "id": "efB2iJQM2Wxm",
        "colab_type": "text"
      },
      "source": [
        "### Import Libraries"
      ]
    },
    {
      "cell_type": "code",
      "metadata": {
        "id": "ZdG7onyjG8YX",
        "colab_type": "code",
        "colab": {}
      },
      "source": [
        "import numpy as np\n",
        "import pandas as pd\n",
        "from sklearn.model_selection import cross_val_predict\n",
        "from sklearn.metrics import confusion_matrix, precision_score, recall_score, f1_score\n",
        "import warnings\n",
        "warnings.filterwarnings(\"ignore\", category=DeprecationWarning)\n",
        "%matplotlib inline"
      ],
      "execution_count": 0,
      "outputs": []
    },
    {
      "cell_type": "markdown",
      "metadata": {
        "id": "GHXV57uWTaqI",
        "colab_type": "text"
      },
      "source": [
        "### Functions : Clean"
      ]
    },
    {
      "cell_type": "code",
      "metadata": {
        "id": "fvoP8YnW7C-M",
        "colab_type": "code",
        "colab": {}
      },
      "source": [
        "import datetime\n",
        "from datetime import timedelta\n",
        "\n",
        "def getGeneralDataFromDateTimeObj(time):\n",
        "  datetimeFormat = '%m/%d/%Y %H:%M'\n",
        "  dateTimeObj = datetime.datetime.strptime(time, datetimeFormat)\n",
        "  return [float(dateTimeObj.month), float(dateTimeObj.day), float(dateTimeObj.hour), float(dateTimeObj.minute), float(dateTimeObj.year)]\n",
        "\n",
        "def generate_drop_time(df):\n",
        "  df_drop_time_month = []\n",
        "  df_drop_time_day = []\n",
        "  df_drop_time_hour = []\n",
        "  df_drop_time_minute = []\n",
        "\n",
        "  for time in df['drop_time']:\n",
        "    data = getGeneralDataFromDateTimeObj(time)\n",
        "    df_drop_time_month.append(data[0])\n",
        "    df_drop_time_day.append(data[1])\n",
        "    df_drop_time_hour.append(data[2])\n",
        "    df_drop_time_minute.append(data[3])\n",
        "\n",
        "  df['drop_time_month'] = df_drop_time_month\n",
        "  df['df_drop_time_day'] = df_drop_time_day\n",
        "  df['df_drop_time_hour'] = df_drop_time_hour\n",
        "  df['df_drop_time_minute'] = df_drop_time_minute\n",
        "\n",
        "def generate_pickup_time(df):\n",
        "  df_pickup_time_month = []\n",
        "  df_pickup_time_day = []\n",
        "  df_pickup_time_hour = []\n",
        "  df_pickup_time_minute = []\n",
        "\n",
        "  for time in df['pickup_time']:\n",
        "    data = getGeneralDataFromDateTimeObj(time)\n",
        "    df_pickup_time_month.append(data[0])\n",
        "    df_pickup_time_day.append(data[1])\n",
        "    df_pickup_time_hour.append(data[2])\n",
        "    df_pickup_time_minute.append(data[3])\n",
        "\n",
        "  df['df_pickup_time_month'] = df_pickup_time_month\n",
        "  df['df_pickup_time_day'] = df_pickup_time_day\n",
        "  df['df_pickup_time_hour'] = df_pickup_time_hour\n",
        "  df['df_pickup_time_minute'] = df_pickup_time_minute"
      ],
      "execution_count": 0,
      "outputs": []
    },
    {
      "cell_type": "code",
      "metadata": {
        "id": "r7Pa3eFNH1I9",
        "colab_type": "code",
        "colab": {}
      },
      "source": [
        "import numpy as np\n",
        "from sklearn.impute import SimpleImputer\n",
        "\n",
        "def naImputation(Features, column_names):\n",
        "  # df.replace(np.NaN,np.NaN,inplace=True)\n",
        "  imp=SimpleImputer(missing_values=np.NaN)\n",
        "  idf=pd.DataFrame(imp.fit_transform(Features))\n",
        "  idf.columns=Features.columns\n",
        "  idf.index=Features.index\n",
        "\n",
        "  for column_name in column_names:\n",
        "    idf[column_name].isna().sum()\n",
        "\n",
        "  \n",
        "  return idf"
      ],
      "execution_count": 0,
      "outputs": []
    },
    {
      "cell_type": "code",
      "metadata": {
        "id": "swVafQvTR6JT",
        "colab_type": "code",
        "colab": {}
      },
      "source": [
        "import geopy.distance\n",
        "\n",
        "#function to calculte distance from lat and longs\n",
        "def calculateDistance(pick_lat,pick_lon, drop_lat, drop_lon):\n",
        "      coords_1 = (pick_lat, pick_lon)\n",
        "      coords_2 = (drop_lat, drop_lon)\n",
        "      return geopy.distance.vincenty(coords_1, coords_2).km\n",
        "\n",
        "def calculate_distance(df):\n",
        "  distanceList = []\n",
        "  for i in range (len(df['pick_lat'])):\n",
        "    pick_lat = df['pick_lat'][i]\n",
        "    pick_lon = df['pick_lon'][i]\n",
        "    drop_lat = df['drop_lat'][i]\n",
        "    drop_lon = df['drop_lon'][i]\n",
        "\n",
        "    try:\n",
        "      distance = calculateDistance(pick_lat,pick_lon, drop_lat, drop_lon)\n",
        "    except:\n",
        "      print(\"Error occured! , at\", i)\n",
        "\n",
        "    distanceList.append(distance)\n",
        "  df['distance'] = distanceList"
      ],
      "execution_count": 0,
      "outputs": []
    },
    {
      "cell_type": "markdown",
      "metadata": {
        "id": "YYg0rFqwqUC7",
        "colab_type": "text"
      },
      "source": [
        "### Data exploration"
      ]
    },
    {
      "cell_type": "code",
      "metadata": {
        "id": "welB6XUfG_UJ",
        "colab_type": "code",
        "colab": {}
      },
      "source": [
        "df_ex = pd.read_csv('/content/drive/My Drive/Semester 7/ML/Project/Data/train.csv')\n",
        "df_ex['label'].replace(to_replace=['correct','incorrect'], value=[1,0],inplace=True)"
      ],
      "execution_count": 0,
      "outputs": []
    },
    {
      "cell_type": "code",
      "metadata": {
        "id": "QK3VtmYsI8hZ",
        "colab_type": "code",
        "colab": {}
      },
      "source": [
        "calculate_distance(df_ex)\n",
        "df_ex = df_ex.drop(['pick_lon'],axis=1)\n",
        "df_ex = df_ex.drop(['pick_lat'],axis=1)\n",
        "df_ex = df_ex.drop(['drop_lat'],axis=1)\n",
        "df_ex = df_ex.drop(['drop_lon'],axis=1)"
      ],
      "execution_count": 0,
      "outputs": []
    },
    {
      "cell_type": "code",
      "metadata": {
        "id": "Urx19PmtN2Jd",
        "colab_type": "code",
        "colab": {}
      },
      "source": [
        "generate_pickup_time(df_ex)\n",
        "generate_drop_time(df_ex)\n",
        "df_ex = df_ex.drop(['pickup_time'],axis=1)\n",
        "df_ex = df_ex.drop(['drop_time'],axis=1)"
      ],
      "execution_count": 0,
      "outputs": []
    },
    {
      "cell_type": "code",
      "metadata": {
        "id": "8PIstcggJ89i",
        "colab_type": "code",
        "outputId": "f5385cf4-31fa-4749-8ac0-36612b6dd5af",
        "colab": {
          "base_uri": "https://localhost:8080/",
          "height": 215
        }
      },
      "source": [
        "df_ex.head()"
      ],
      "execution_count": 14,
      "outputs": [
        {
          "output_type": "execute_result",
          "data": {
            "text/html": [
              "<div>\n",
              "<style scoped>\n",
              "    .dataframe tbody tr th:only-of-type {\n",
              "        vertical-align: middle;\n",
              "    }\n",
              "\n",
              "    .dataframe tbody tr th {\n",
              "        vertical-align: top;\n",
              "    }\n",
              "\n",
              "    .dataframe thead th {\n",
              "        text-align: right;\n",
              "    }\n",
              "</style>\n",
              "<table border=\"1\" class=\"dataframe\">\n",
              "  <thead>\n",
              "    <tr style=\"text-align: right;\">\n",
              "      <th></th>\n",
              "      <th>tripid</th>\n",
              "      <th>additional_fare</th>\n",
              "      <th>duration</th>\n",
              "      <th>meter_waiting</th>\n",
              "      <th>meter_waiting_fare</th>\n",
              "      <th>meter_waiting_till_pickup</th>\n",
              "      <th>fare</th>\n",
              "      <th>label</th>\n",
              "      <th>distance</th>\n",
              "      <th>df_pickup_time_month</th>\n",
              "      <th>df_pickup_time_day</th>\n",
              "      <th>df_pickup_time_hour</th>\n",
              "      <th>df_pickup_time_minute</th>\n",
              "      <th>drop_time_month</th>\n",
              "      <th>df_drop_time_day</th>\n",
              "      <th>df_drop_time_hour</th>\n",
              "      <th>df_drop_time_minute</th>\n",
              "    </tr>\n",
              "  </thead>\n",
              "  <tbody>\n",
              "    <tr>\n",
              "      <th>0</th>\n",
              "      <td>189123628</td>\n",
              "      <td>10.5</td>\n",
              "      <td>834.0</td>\n",
              "      <td>56.0</td>\n",
              "      <td>0.0000</td>\n",
              "      <td>64.0</td>\n",
              "      <td>270.32</td>\n",
              "      <td>1</td>\n",
              "      <td>5.072065</td>\n",
              "      <td>11.0</td>\n",
              "      <td>1.0</td>\n",
              "      <td>0.0</td>\n",
              "      <td>20.0</td>\n",
              "      <td>11.0</td>\n",
              "      <td>1.0</td>\n",
              "      <td>0.0</td>\n",
              "      <td>34.0</td>\n",
              "    </tr>\n",
              "    <tr>\n",
              "      <th>1</th>\n",
              "      <td>189125358</td>\n",
              "      <td>10.5</td>\n",
              "      <td>791.0</td>\n",
              "      <td>47.0</td>\n",
              "      <td>0.0000</td>\n",
              "      <td>134.0</td>\n",
              "      <td>197.85</td>\n",
              "      <td>1</td>\n",
              "      <td>3.151780</td>\n",
              "      <td>11.0</td>\n",
              "      <td>1.0</td>\n",
              "      <td>0.0</td>\n",
              "      <td>56.0</td>\n",
              "      <td>11.0</td>\n",
              "      <td>1.0</td>\n",
              "      <td>1.0</td>\n",
              "      <td>9.0</td>\n",
              "    </tr>\n",
              "    <tr>\n",
              "      <th>2</th>\n",
              "      <td>189125719</td>\n",
              "      <td>10.5</td>\n",
              "      <td>1087.0</td>\n",
              "      <td>80.0</td>\n",
              "      <td>0.0000</td>\n",
              "      <td>61.0</td>\n",
              "      <td>301.64</td>\n",
              "      <td>1</td>\n",
              "      <td>6.302418</td>\n",
              "      <td>11.0</td>\n",
              "      <td>1.0</td>\n",
              "      <td>1.0</td>\n",
              "      <td>8.0</td>\n",
              "      <td>11.0</td>\n",
              "      <td>1.0</td>\n",
              "      <td>1.0</td>\n",
              "      <td>26.0</td>\n",
              "    </tr>\n",
              "    <tr>\n",
              "      <th>3</th>\n",
              "      <td>189127273</td>\n",
              "      <td>10.5</td>\n",
              "      <td>598.0</td>\n",
              "      <td>271.0</td>\n",
              "      <td>15.6638</td>\n",
              "      <td>68.0</td>\n",
              "      <td>82.30</td>\n",
              "      <td>1</td>\n",
              "      <td>0.862654</td>\n",
              "      <td>11.0</td>\n",
              "      <td>1.0</td>\n",
              "      <td>2.0</td>\n",
              "      <td>27.0</td>\n",
              "      <td>11.0</td>\n",
              "      <td>1.0</td>\n",
              "      <td>2.0</td>\n",
              "      <td>37.0</td>\n",
              "    </tr>\n",
              "    <tr>\n",
              "      <th>4</th>\n",
              "      <td>189128020</td>\n",
              "      <td>NaN</td>\n",
              "      <td>NaN</td>\n",
              "      <td>NaN</td>\n",
              "      <td>NaN</td>\n",
              "      <td>NaN</td>\n",
              "      <td>358.39</td>\n",
              "      <td>1</td>\n",
              "      <td>8.148521</td>\n",
              "      <td>11.0</td>\n",
              "      <td>1.0</td>\n",
              "      <td>3.0</td>\n",
              "      <td>34.0</td>\n",
              "      <td>11.0</td>\n",
              "      <td>1.0</td>\n",
              "      <td>3.0</td>\n",
              "      <td>51.0</td>\n",
              "    </tr>\n",
              "  </tbody>\n",
              "</table>\n",
              "</div>"
            ],
            "text/plain": [
              "      tripid  additional_fare  ...  df_drop_time_hour  df_drop_time_minute\n",
              "0  189123628             10.5  ...                0.0                 34.0\n",
              "1  189125358             10.5  ...                1.0                  9.0\n",
              "2  189125719             10.5  ...                1.0                 26.0\n",
              "3  189127273             10.5  ...                2.0                 37.0\n",
              "4  189128020              NaN  ...                3.0                 51.0\n",
              "\n",
              "[5 rows x 17 columns]"
            ]
          },
          "metadata": {
            "tags": []
          },
          "execution_count": 14
        }
      ]
    },
    {
      "cell_type": "code",
      "metadata": {
        "id": "jSPKg05ia4bp",
        "colab_type": "code",
        "outputId": "1e755973-eb0b-466a-f749-172e8a862f74",
        "colab": {
          "base_uri": "https://localhost:8080/",
          "height": 1000
        }
      },
      "source": [
        "## Correlation\n",
        "import seaborn as sns\n",
        "import matplotlib.pyplot as plt\n",
        "corrmat = df_ex.corr()\n",
        "top_corr_features = corrmat.index\n",
        "plt.figure(figsize=(15,15))\n",
        "\n",
        "#plot heat map\n",
        "g=sns.heatmap(df_ex[top_corr_features].corr(),annot=True,cmap=\"RdYlGn\")"
      ],
      "execution_count": 15,
      "outputs": [
        {
          "output_type": "stream",
          "text": [
            "/usr/local/lib/python3.6/dist-packages/statsmodels/tools/_testing.py:19: FutureWarning: pandas.util.testing is deprecated. Use the functions in the public API at pandas.testing instead.\n",
            "  import pandas.util.testing as tm\n"
          ],
          "name": "stderr"
        },
        {
          "output_type": "display_data",
          "data": {
            "image/png": "[encoded data removed]",
            "text/plain": [
              "<Figure size 1080x1080 with 2 Axes>"
            ]
          },
          "metadata": {
            "tags": [],
            "needs_background": "light"
          }
        }
      ]
    },
    {
      "cell_type": "markdown",
      "metadata": {
        "id": "aPIH2Qdr2eX6",
        "colab_type": "text"
      },
      "source": [
        "### Functions : New features"
      ]
    },
    {
      "cell_type": "code",
      "metadata": {
        "id": "JLaDghXtguuj",
        "colab_type": "code",
        "colab": {}
      },
      "source": [
        "def calculate_fare_per_km(df):\n",
        "  fare_per_km = []\n",
        "\n",
        "  for i in range (len(df['fare'])):\n",
        "    calculate_fare_per_km_value = df['fare'][i] / df['distance'][i]\n",
        "    fare_per_km.append(calculate_fare_per_km_value)\n",
        "\n",
        "  df['fare_per_km'] = fare_per_km"
      ],
      "execution_count": 0,
      "outputs": []
    },
    {
      "cell_type": "code",
      "metadata": {
        "id": "dtLm2WN7j5uq",
        "colab_type": "code",
        "colab": {}
      },
      "source": [
        "def calculate_fare_per_min(df):\n",
        "  fare_per_second = []\n",
        "\n",
        "  for i in range (len(df['fare'])):\n",
        "    fare_per_second_value =  60 * df['fare'][i] / df['duration'][i]\n",
        "    fare_per_second.append(fare_per_second_value)\n",
        "\n",
        "  df['fare_per_min'] = fare_per_second"
      ],
      "execution_count": 0,
      "outputs": []
    },
    {
      "cell_type": "code",
      "metadata": {
        "id": "j-5kmd-rjEN2",
        "colab_type": "code",
        "colab": {}
      },
      "source": [
        "def calculate_speed(df):\n",
        "  speed = []\n",
        "\n",
        "  for i in range (len(df['fare'])):\n",
        "    speed_value =  3600 * df['distance'][i] / (df['duration'][i] - df['meter_waiting'][i])\n",
        "    speed.append(speed_value)\n",
        "\n",
        "  df['speed'] = speed"
      ],
      "execution_count": 0,
      "outputs": []
    },
    {
      "cell_type": "code",
      "metadata": {
        "id": "2DOo_SOLn6LD",
        "colab_type": "code",
        "colab": {}
      },
      "source": [
        "# (Duration-meter_waiting)/fare\n",
        "\n",
        "def calculate_real_duration_per_fare(df):\n",
        "  real_duration_per_fare = []\n",
        "\n",
        "  for i in range (len(df['fare'])):\n",
        "    real_duration_per_fare_value =   (df['duration'][i] - df['meter_waiting'][i]) / df['fare'][i]\n",
        "    real_duration_per_fare.append(real_duration_per_fare_value)\n",
        "\n",
        "  df['real_duration_per_fare'] = real_duration_per_fare"
      ],
      "execution_count": 0,
      "outputs": []
    },
    {
      "cell_type": "code",
      "metadata": {
        "id": "l-t64Rqr26Es",
        "colab_type": "code",
        "colab": {}
      },
      "source": [
        "def calculate_additional_fare_as_a_factor(df):\n",
        "  additional_fare_as_a_factor = []\n",
        "\n",
        "  for i in range (len(df['fare'])):\n",
        "    additional_fare_as_a_factor_value =  df['additional_fare'][i] / df['fare'][i]\n",
        "    additional_fare_as_a_factor.append(additional_fare_as_a_factor_value)\n",
        "\n",
        "  df['additional_fare_as_a_factor'] = additional_fare_as_a_factor"
      ],
      "execution_count": 0,
      "outputs": []
    },
    {
      "cell_type": "code",
      "metadata": {
        "id": "EGjhIbbuPVk6",
        "colab_type": "code",
        "colab": {}
      },
      "source": [
        "def calculate_meter_waiting_fare_per_sec(df):\n",
        "  meter_waiting_fare_per_sec = []\n",
        "\n",
        "  for i in range (len(df['meter_waiting_fare'])):\n",
        "    meter_waiting_fare_per_sec_value =  df['meter_waiting_fare'][i] / df['meter_waiting'][i]\n",
        "    meter_waiting_fare_per_sec.append(meter_waiting_fare_per_sec_value)\n",
        "\n",
        "  df['meter_waiting_fare_per_sec'] = meter_waiting_fare_per_sec"
      ],
      "execution_count": 0,
      "outputs": []
    },
    {
      "cell_type": "markdown",
      "metadata": {
        "id": "rM5tvUOPTm3j",
        "colab_type": "text"
      },
      "source": [
        "### Pre-process"
      ]
    },
    {
      "cell_type": "code",
      "metadata": {
        "id": "tuEm1JyXSAxi",
        "colab_type": "code",
        "colab": {}
      },
      "source": [
        "def preprocess(df, features):\n",
        "  features_loc = features\n",
        "  generate_pickup_time(df)\n",
        "  generate_drop_time(df)\n",
        "\n",
        "  calculate_distance(df)\n",
        "\n",
        "\n",
        "  calculate_fare_per_km(df)\n",
        "  calculate_real_duration_per_fare(df)\n",
        "  calculate_speed(df)\n",
        "  calculate_additional_fare_as_a_factor(df)\n",
        "\n",
        "  calculate_meter_waiting_fare_per_sec(df)\n",
        "\n",
        "  calculate_fare_per_min(df)\n",
        "  features_loc += ['meter_waiting_fare_per_sec', 'fare_per_min', 'additional_fare_as_a_factor', 'speed', 'real_duration_per_fare', 'distance', 'df_pickup_time_month', 'df_pickup_time_day', 'df_pickup_time_hour', 'df_pickup_time_minute', 'drop_time_month', 'df_drop_time_day', 'df_drop_time_hour', 'df_drop_time_minute']\n",
        "\n",
        "  Features = df[features_loc]\n",
        "  # Features = naImputation(Features,features) fare_per_km\n",
        "  print(features)\n",
        "  \n",
        "  return Features"
      ],
      "execution_count": 0,
      "outputs": []
    },
    {
      "cell_type": "markdown",
      "metadata": {
        "id": "sHdmOCKu2h0Y",
        "colab_type": "text"
      },
      "source": [
        "### Load train and test data"
      ]
    },
    {
      "cell_type": "code",
      "metadata": {
        "id": "EyJ-Q-EkSGrJ",
        "colab_type": "code",
        "outputId": "ba2857d7-7d7f-459e-dbae-35f21b9b2041",
        "colab": {
          "base_uri": "https://localhost:8080/",
          "height": 590
        }
      },
      "source": [
        "df = pd.read_csv('/content/drive/My Drive/Semester 7/ML/Project/Data/train.csv')\n",
        "df['label'].replace(to_replace=['correct','incorrect'], value=[1,0],inplace=True)\n",
        "features = ['additional_fare','duration', 'meter_waiting', 'meter_waiting_fare', 'meter_waiting_till_pickup', 'fare']\n",
        "df"
      ],
      "execution_count": 23,
      "outputs": [
        {
          "output_type": "execute_result",
          "data": {
            "text/html": [
              "<div>\n",
              "<style scoped>\n",
              "    .dataframe tbody tr th:only-of-type {\n",
              "        vertical-align: middle;\n",
              "    }\n",
              "\n",
              "    .dataframe tbody tr th {\n",
              "        vertical-align: top;\n",
              "    }\n",
              "\n",
              "    .dataframe thead th {\n",
              "        text-align: right;\n",
              "    }\n",
              "</style>\n",
              "<table border=\"1\" class=\"dataframe\">\n",
              "  <thead>\n",
              "    <tr style=\"text-align: right;\">\n",
              "      <th></th>\n",
              "      <th>tripid</th>\n",
              "      <th>additional_fare</th>\n",
              "      <th>duration</th>\n",
              "      <th>meter_waiting</th>\n",
              "      <th>meter_waiting_fare</th>\n",
              "      <th>meter_waiting_till_pickup</th>\n",
              "      <th>pickup_time</th>\n",
              "      <th>drop_time</th>\n",
              "      <th>pick_lat</th>\n",
              "      <th>pick_lon</th>\n",
              "      <th>drop_lat</th>\n",
              "      <th>drop_lon</th>\n",
              "      <th>fare</th>\n",
              "      <th>label</th>\n",
              "    </tr>\n",
              "  </thead>\n",
              "  <tbody>\n",
              "    <tr>\n",
              "      <th>0</th>\n",
              "      <td>189123628</td>\n",
              "      <td>10.5</td>\n",
              "      <td>834.0</td>\n",
              "      <td>56.0</td>\n",
              "      <td>0.0000</td>\n",
              "      <td>64.0</td>\n",
              "      <td>11/1/2019 0:20</td>\n",
              "      <td>11/1/2019 0:34</td>\n",
              "      <td>6.86252</td>\n",
              "      <td>79.8993</td>\n",
              "      <td>6.90330</td>\n",
              "      <td>79.8783</td>\n",
              "      <td>270.32</td>\n",
              "      <td>1</td>\n",
              "    </tr>\n",
              "    <tr>\n",
              "      <th>1</th>\n",
              "      <td>189125358</td>\n",
              "      <td>10.5</td>\n",
              "      <td>791.0</td>\n",
              "      <td>47.0</td>\n",
              "      <td>0.0000</td>\n",
              "      <td>134.0</td>\n",
              "      <td>11/1/2019 0:56</td>\n",
              "      <td>11/1/2019 1:09</td>\n",
              "      <td>6.88589</td>\n",
              "      <td>79.8984</td>\n",
              "      <td>6.91373</td>\n",
              "      <td>79.8923</td>\n",
              "      <td>197.85</td>\n",
              "      <td>1</td>\n",
              "    </tr>\n",
              "    <tr>\n",
              "      <th>2</th>\n",
              "      <td>189125719</td>\n",
              "      <td>10.5</td>\n",
              "      <td>1087.0</td>\n",
              "      <td>80.0</td>\n",
              "      <td>0.0000</td>\n",
              "      <td>61.0</td>\n",
              "      <td>11/1/2019 1:08</td>\n",
              "      <td>11/1/2019 1:26</td>\n",
              "      <td>6.90839</td>\n",
              "      <td>79.8651</td>\n",
              "      <td>6.93669</td>\n",
              "      <td>79.9146</td>\n",
              "      <td>301.64</td>\n",
              "      <td>1</td>\n",
              "    </tr>\n",
              "    <tr>\n",
              "      <th>3</th>\n",
              "      <td>189127273</td>\n",
              "      <td>10.5</td>\n",
              "      <td>598.0</td>\n",
              "      <td>271.0</td>\n",
              "      <td>15.6638</td>\n",
              "      <td>68.0</td>\n",
              "      <td>11/1/2019 2:27</td>\n",
              "      <td>11/1/2019 2:37</td>\n",
              "      <td>6.92570</td>\n",
              "      <td>79.8895</td>\n",
              "      <td>6.92748</td>\n",
              "      <td>79.8971</td>\n",
              "      <td>82.30</td>\n",
              "      <td>1</td>\n",
              "    </tr>\n",
              "    <tr>\n",
              "      <th>4</th>\n",
              "      <td>189128020</td>\n",
              "      <td>NaN</td>\n",
              "      <td>NaN</td>\n",
              "      <td>NaN</td>\n",
              "      <td>NaN</td>\n",
              "      <td>NaN</td>\n",
              "      <td>11/1/2019 3:34</td>\n",
              "      <td>11/1/2019 3:51</td>\n",
              "      <td>6.87441</td>\n",
              "      <td>79.8615</td>\n",
              "      <td>6.84478</td>\n",
              "      <td>79.9290</td>\n",
              "      <td>358.39</td>\n",
              "      <td>1</td>\n",
              "    </tr>\n",
              "    <tr>\n",
              "      <th>...</th>\n",
              "      <td>...</td>\n",
              "      <td>...</td>\n",
              "      <td>...</td>\n",
              "      <td>...</td>\n",
              "      <td>...</td>\n",
              "      <td>...</td>\n",
              "      <td>...</td>\n",
              "      <td>...</td>\n",
              "      <td>...</td>\n",
              "      <td>...</td>\n",
              "      <td>...</td>\n",
              "      <td>...</td>\n",
              "      <td>...</td>\n",
              "      <td>...</td>\n",
              "    </tr>\n",
              "    <tr>\n",
              "      <th>17171</th>\n",
              "      <td>213803193</td>\n",
              "      <td>10.5</td>\n",
              "      <td>838.0</td>\n",
              "      <td>93.0</td>\n",
              "      <td>5.4219</td>\n",
              "      <td>451.0</td>\n",
              "      <td>1/31/2020 22:07</td>\n",
              "      <td>1/31/2020 22:21</td>\n",
              "      <td>7.29073</td>\n",
              "      <td>80.6367</td>\n",
              "      <td>7.28891</td>\n",
              "      <td>80.6557</td>\n",
              "      <td>198.26</td>\n",
              "      <td>1</td>\n",
              "    </tr>\n",
              "    <tr>\n",
              "      <th>17172</th>\n",
              "      <td>213812756</td>\n",
              "      <td>10.5</td>\n",
              "      <td>2151.0</td>\n",
              "      <td>428.0</td>\n",
              "      <td>0.0000</td>\n",
              "      <td>39.0</td>\n",
              "      <td>1/31/2020 23:07</td>\n",
              "      <td>1/31/2020 23:43</td>\n",
              "      <td>6.90569</td>\n",
              "      <td>79.8516</td>\n",
              "      <td>6.95089</td>\n",
              "      <td>79.9389</td>\n",
              "      <td>581.23</td>\n",
              "      <td>1</td>\n",
              "    </tr>\n",
              "    <tr>\n",
              "      <th>17173</th>\n",
              "      <td>213813930</td>\n",
              "      <td>10.5</td>\n",
              "      <td>263.0</td>\n",
              "      <td>9.0</td>\n",
              "      <td>0.0000</td>\n",
              "      <td>110.0</td>\n",
              "      <td>1/31/2020 23:21</td>\n",
              "      <td>1/31/2020 23:25</td>\n",
              "      <td>7.09210</td>\n",
              "      <td>79.9000</td>\n",
              "      <td>7.10135</td>\n",
              "      <td>79.9017</td>\n",
              "      <td>76.20</td>\n",
              "      <td>1</td>\n",
              "    </tr>\n",
              "    <tr>\n",
              "      <th>17174</th>\n",
              "      <td>213815405</td>\n",
              "      <td>10.5</td>\n",
              "      <td>858.0</td>\n",
              "      <td>115.0</td>\n",
              "      <td>0.0000</td>\n",
              "      <td>317.0</td>\n",
              "      <td>1/31/2020 23:39</td>\n",
              "      <td>1/31/2020 23:53</td>\n",
              "      <td>6.94540</td>\n",
              "      <td>79.8768</td>\n",
              "      <td>6.93574</td>\n",
              "      <td>79.9010</td>\n",
              "      <td>133.31</td>\n",
              "      <td>1</td>\n",
              "    </tr>\n",
              "    <tr>\n",
              "      <th>17175</th>\n",
              "      <td>213817296</td>\n",
              "      <td>10.5</td>\n",
              "      <td>262.0</td>\n",
              "      <td>21.0</td>\n",
              "      <td>1.2243</td>\n",
              "      <td>23.0</td>\n",
              "      <td>1/31/2020 23:49</td>\n",
              "      <td>1/31/2020 23:53</td>\n",
              "      <td>6.90257</td>\n",
              "      <td>79.9557</td>\n",
              "      <td>6.90823</td>\n",
              "      <td>79.9374</td>\n",
              "      <td>98.57</td>\n",
              "      <td>1</td>\n",
              "    </tr>\n",
              "  </tbody>\n",
              "</table>\n",
              "<p>17176 rows × 14 columns</p>\n",
              "</div>"
            ],
            "text/plain": [
              "          tripid  additional_fare  duration  ...  drop_lon    fare  label\n",
              "0      189123628             10.5     834.0  ...   79.8783  270.32      1\n",
              "1      189125358             10.5     791.0  ...   79.8923  197.85      1\n",
              "2      189125719             10.5    1087.0  ...   79.9146  301.64      1\n",
              "3      189127273             10.5     598.0  ...   79.8971   82.30      1\n",
              "4      189128020              NaN       NaN  ...   79.9290  358.39      1\n",
              "...          ...              ...       ...  ...       ...     ...    ...\n",
              "17171  213803193             10.5     838.0  ...   80.6557  198.26      1\n",
              "17172  213812756             10.5    2151.0  ...   79.9389  581.23      1\n",
              "17173  213813930             10.5     263.0  ...   79.9017   76.20      1\n",
              "17174  213815405             10.5     858.0  ...   79.9010  133.31      1\n",
              "17175  213817296             10.5     262.0  ...   79.9374   98.57      1\n",
              "\n",
              "[17176 rows x 14 columns]"
            ]
          },
          "metadata": {
            "tags": []
          },
          "execution_count": 23
        }
      ]
    },
    {
      "cell_type": "code",
      "metadata": {
        "id": "YCCs_0B8H2mS",
        "colab_type": "code",
        "outputId": "40a891bf-b9f9-4f90-be12-76fb1d357193",
        "colab": {
          "base_uri": "https://localhost:8080/",
          "height": 374
        }
      },
      "source": [
        "Features = preprocess(df, features)\n",
        "X = Features.to_numpy()\n",
        "y = df['label'].values\n",
        "Features.head()"
      ],
      "execution_count": 24,
      "outputs": [
        {
          "output_type": "stream",
          "text": [
            "/usr/local/lib/python3.6/dist-packages/ipykernel_launcher.py:5: RuntimeWarning: divide by zero encountered in double_scalars\n",
            "  \"\"\"\n",
            "/usr/local/lib/python3.6/dist-packages/ipykernel_launcher.py:7: RuntimeWarning: divide by zero encountered in double_scalars\n",
            "  import sys\n",
            "/usr/local/lib/python3.6/dist-packages/ipykernel_launcher.py:7: RuntimeWarning: invalid value encountered in double_scalars\n",
            "  import sys\n",
            "/usr/local/lib/python3.6/dist-packages/ipykernel_launcher.py:5: RuntimeWarning: invalid value encountered in double_scalars\n",
            "  \"\"\"\n"
          ],
          "name": "stderr"
        },
        {
          "output_type": "stream",
          "text": [
            "['additional_fare', 'duration', 'meter_waiting', 'meter_waiting_fare', 'meter_waiting_till_pickup', 'fare', 'meter_waiting_fare_per_sec', 'fare_per_min', 'additional_fare_as_a_factor', 'speed', 'real_duration_per_fare', 'distance', 'df_pickup_time_month', 'df_pickup_time_day', 'df_pickup_time_hour', 'df_pickup_time_minute', 'drop_time_month', 'df_drop_time_day', 'df_drop_time_hour', 'df_drop_time_minute']\n"
          ],
          "name": "stdout"
        },
        {
          "output_type": "execute_result",
          "data": {
            "text/html": [
              "<div>\n",
              "<style scoped>\n",
              "    .dataframe tbody tr th:only-of-type {\n",
              "        vertical-align: middle;\n",
              "    }\n",
              "\n",
              "    .dataframe tbody tr th {\n",
              "        vertical-align: top;\n",
              "    }\n",
              "\n",
              "    .dataframe thead th {\n",
              "        text-align: right;\n",
              "    }\n",
              "</style>\n",
              "<table border=\"1\" class=\"dataframe\">\n",
              "  <thead>\n",
              "    <tr style=\"text-align: right;\">\n",
              "      <th></th>\n",
              "      <th>additional_fare</th>\n",
              "      <th>duration</th>\n",
              "      <th>meter_waiting</th>\n",
              "      <th>meter_waiting_fare</th>\n",
              "      <th>meter_waiting_till_pickup</th>\n",
              "      <th>fare</th>\n",
              "      <th>meter_waiting_fare_per_sec</th>\n",
              "      <th>fare_per_min</th>\n",
              "      <th>additional_fare_as_a_factor</th>\n",
              "      <th>speed</th>\n",
              "      <th>real_duration_per_fare</th>\n",
              "      <th>distance</th>\n",
              "      <th>df_pickup_time_month</th>\n",
              "      <th>df_pickup_time_day</th>\n",
              "      <th>df_pickup_time_hour</th>\n",
              "      <th>df_pickup_time_minute</th>\n",
              "      <th>drop_time_month</th>\n",
              "      <th>df_drop_time_day</th>\n",
              "      <th>df_drop_time_hour</th>\n",
              "      <th>df_drop_time_minute</th>\n",
              "    </tr>\n",
              "  </thead>\n",
              "  <tbody>\n",
              "    <tr>\n",
              "      <th>0</th>\n",
              "      <td>10.5</td>\n",
              "      <td>834.0</td>\n",
              "      <td>56.0</td>\n",
              "      <td>0.0000</td>\n",
              "      <td>64.0</td>\n",
              "      <td>270.32</td>\n",
              "      <td>0.0000</td>\n",
              "      <td>19.447482</td>\n",
              "      <td>0.038843</td>\n",
              "      <td>23.469707</td>\n",
              "      <td>2.878070</td>\n",
              "      <td>5.072065</td>\n",
              "      <td>11.0</td>\n",
              "      <td>1.0</td>\n",
              "      <td>0.0</td>\n",
              "      <td>20.0</td>\n",
              "      <td>11.0</td>\n",
              "      <td>1.0</td>\n",
              "      <td>0.0</td>\n",
              "      <td>34.0</td>\n",
              "    </tr>\n",
              "    <tr>\n",
              "      <th>1</th>\n",
              "      <td>10.5</td>\n",
              "      <td>791.0</td>\n",
              "      <td>47.0</td>\n",
              "      <td>0.0000</td>\n",
              "      <td>134.0</td>\n",
              "      <td>197.85</td>\n",
              "      <td>0.0000</td>\n",
              "      <td>15.007585</td>\n",
              "      <td>0.053071</td>\n",
              "      <td>15.250547</td>\n",
              "      <td>3.760425</td>\n",
              "      <td>3.151780</td>\n",
              "      <td>11.0</td>\n",
              "      <td>1.0</td>\n",
              "      <td>0.0</td>\n",
              "      <td>56.0</td>\n",
              "      <td>11.0</td>\n",
              "      <td>1.0</td>\n",
              "      <td>1.0</td>\n",
              "      <td>9.0</td>\n",
              "    </tr>\n",
              "    <tr>\n",
              "      <th>2</th>\n",
              "      <td>10.5</td>\n",
              "      <td>1087.0</td>\n",
              "      <td>80.0</td>\n",
              "      <td>0.0000</td>\n",
              "      <td>61.0</td>\n",
              "      <td>301.64</td>\n",
              "      <td>0.0000</td>\n",
              "      <td>16.649862</td>\n",
              "      <td>0.034810</td>\n",
              "      <td>22.530986</td>\n",
              "      <td>3.338417</td>\n",
              "      <td>6.302418</td>\n",
              "      <td>11.0</td>\n",
              "      <td>1.0</td>\n",
              "      <td>1.0</td>\n",
              "      <td>8.0</td>\n",
              "      <td>11.0</td>\n",
              "      <td>1.0</td>\n",
              "      <td>1.0</td>\n",
              "      <td>26.0</td>\n",
              "    </tr>\n",
              "    <tr>\n",
              "      <th>3</th>\n",
              "      <td>10.5</td>\n",
              "      <td>598.0</td>\n",
              "      <td>271.0</td>\n",
              "      <td>15.6638</td>\n",
              "      <td>68.0</td>\n",
              "      <td>82.30</td>\n",
              "      <td>0.0578</td>\n",
              "      <td>8.257525</td>\n",
              "      <td>0.127582</td>\n",
              "      <td>9.497113</td>\n",
              "      <td>3.973269</td>\n",
              "      <td>0.862654</td>\n",
              "      <td>11.0</td>\n",
              "      <td>1.0</td>\n",
              "      <td>2.0</td>\n",
              "      <td>27.0</td>\n",
              "      <td>11.0</td>\n",
              "      <td>1.0</td>\n",
              "      <td>2.0</td>\n",
              "      <td>37.0</td>\n",
              "    </tr>\n",
              "    <tr>\n",
              "      <th>4</th>\n",
              "      <td>NaN</td>\n",
              "      <td>NaN</td>\n",
              "      <td>NaN</td>\n",
              "      <td>NaN</td>\n",
              "      <td>NaN</td>\n",
              "      <td>358.39</td>\n",
              "      <td>NaN</td>\n",
              "      <td>NaN</td>\n",
              "      <td>NaN</td>\n",
              "      <td>NaN</td>\n",
              "      <td>NaN</td>\n",
              "      <td>8.148521</td>\n",
              "      <td>11.0</td>\n",
              "      <td>1.0</td>\n",
              "      <td>3.0</td>\n",
              "      <td>34.0</td>\n",
              "      <td>11.0</td>\n",
              "      <td>1.0</td>\n",
              "      <td>3.0</td>\n",
              "      <td>51.0</td>\n",
              "    </tr>\n",
              "  </tbody>\n",
              "</table>\n",
              "</div>"
            ],
            "text/plain": [
              "   additional_fare  duration  ...  df_drop_time_hour  df_drop_time_minute\n",
              "0             10.5     834.0  ...                0.0                 34.0\n",
              "1             10.5     791.0  ...                1.0                  9.0\n",
              "2             10.5    1087.0  ...                1.0                 26.0\n",
              "3             10.5     598.0  ...                2.0                 37.0\n",
              "4              NaN       NaN  ...                3.0                 51.0\n",
              "\n",
              "[5 rows x 20 columns]"
            ]
          },
          "metadata": {
            "tags": []
          },
          "execution_count": 24
        }
      ]
    },
    {
      "cell_type": "code",
      "metadata": {
        "id": "aB5BReWePkoe",
        "colab_type": "code",
        "outputId": "3b09bbd8-65c9-4e4b-92a5-832e061a7b47",
        "colab": {
          "base_uri": "https://localhost:8080/",
          "height": 374
        }
      },
      "source": [
        "df_test = pd.read_csv('/content/drive/My Drive/Semester 7/ML/Project/Data/test.csv')\n",
        "features_test = ['additional_fare','duration', 'meter_waiting', 'meter_waiting_fare', 'meter_waiting_till_pickup', 'fare']\n",
        "\n",
        "Features_for_test = preprocess(df_test, features_test)\n",
        "X_pred = Features_for_test.to_numpy()\n",
        "Features_for_test.head()"
      ],
      "execution_count": 25,
      "outputs": [
        {
          "output_type": "stream",
          "text": [
            "/usr/local/lib/python3.6/dist-packages/ipykernel_launcher.py:5: RuntimeWarning: divide by zero encountered in double_scalars\n",
            "  \"\"\"\n",
            "/usr/local/lib/python3.6/dist-packages/ipykernel_launcher.py:7: RuntimeWarning: invalid value encountered in true_divide\n",
            "  import sys\n",
            "/usr/local/lib/python3.6/dist-packages/ipykernel_launcher.py:7: RuntimeWarning: divide by zero encountered in true_divide\n",
            "  import sys\n",
            "/usr/local/lib/python3.6/dist-packages/ipykernel_launcher.py:5: RuntimeWarning: invalid value encountered in double_scalars\n",
            "  \"\"\"\n"
          ],
          "name": "stderr"
        },
        {
          "output_type": "stream",
          "text": [
            "['additional_fare', 'duration', 'meter_waiting', 'meter_waiting_fare', 'meter_waiting_till_pickup', 'fare', 'meter_waiting_fare_per_sec', 'fare_per_min', 'additional_fare_as_a_factor', 'speed', 'real_duration_per_fare', 'distance', 'df_pickup_time_month', 'df_pickup_time_day', 'df_pickup_time_hour', 'df_pickup_time_minute', 'drop_time_month', 'df_drop_time_day', 'df_drop_time_hour', 'df_drop_time_minute']\n"
          ],
          "name": "stdout"
        },
        {
          "output_type": "execute_result",
          "data": {
            "text/html": [
              "<div>\n",
              "<style scoped>\n",
              "    .dataframe tbody tr th:only-of-type {\n",
              "        vertical-align: middle;\n",
              "    }\n",
              "\n",
              "    .dataframe tbody tr th {\n",
              "        vertical-align: top;\n",
              "    }\n",
              "\n",
              "    .dataframe thead th {\n",
              "        text-align: right;\n",
              "    }\n",
              "</style>\n",
              "<table border=\"1\" class=\"dataframe\">\n",
              "  <thead>\n",
              "    <tr style=\"text-align: right;\">\n",
              "      <th></th>\n",
              "      <th>additional_fare</th>\n",
              "      <th>duration</th>\n",
              "      <th>meter_waiting</th>\n",
              "      <th>meter_waiting_fare</th>\n",
              "      <th>meter_waiting_till_pickup</th>\n",
              "      <th>fare</th>\n",
              "      <th>meter_waiting_fare_per_sec</th>\n",
              "      <th>fare_per_min</th>\n",
              "      <th>additional_fare_as_a_factor</th>\n",
              "      <th>speed</th>\n",
              "      <th>real_duration_per_fare</th>\n",
              "      <th>distance</th>\n",
              "      <th>df_pickup_time_month</th>\n",
              "      <th>df_pickup_time_day</th>\n",
              "      <th>df_pickup_time_hour</th>\n",
              "      <th>df_pickup_time_minute</th>\n",
              "      <th>drop_time_month</th>\n",
              "      <th>df_drop_time_day</th>\n",
              "      <th>df_drop_time_hour</th>\n",
              "      <th>df_drop_time_minute</th>\n",
              "    </tr>\n",
              "  </thead>\n",
              "  <tbody>\n",
              "    <tr>\n",
              "      <th>0</th>\n",
              "      <td>10.5</td>\n",
              "      <td>924</td>\n",
              "      <td>42</td>\n",
              "      <td>2.4486</td>\n",
              "      <td>148</td>\n",
              "      <td>289.27</td>\n",
              "      <td>0.058300</td>\n",
              "      <td>18.783766</td>\n",
              "      <td>0.036298</td>\n",
              "      <td>27.225263</td>\n",
              "      <td>3.049055</td>\n",
              "      <td>6.670189</td>\n",
              "      <td>2.0</td>\n",
              "      <td>1.0</td>\n",
              "      <td>0.0</td>\n",
              "      <td>38.0</td>\n",
              "      <td>2.0</td>\n",
              "      <td>1.0</td>\n",
              "      <td>0.0</td>\n",
              "      <td>53.0</td>\n",
              "    </tr>\n",
              "    <tr>\n",
              "      <th>1</th>\n",
              "      <td>10.5</td>\n",
              "      <td>4249</td>\n",
              "      <td>20</td>\n",
              "      <td>0.0000</td>\n",
              "      <td>91</td>\n",
              "      <td>1912.70</td>\n",
              "      <td>0.000000</td>\n",
              "      <td>27.009179</td>\n",
              "      <td>0.005490</td>\n",
              "      <td>35.200708</td>\n",
              "      <td>2.211011</td>\n",
              "      <td>41.351053</td>\n",
              "      <td>2.0</td>\n",
              "      <td>1.0</td>\n",
              "      <td>1.0</td>\n",
              "      <td>2.0</td>\n",
              "      <td>2.0</td>\n",
              "      <td>1.0</td>\n",
              "      <td>2.0</td>\n",
              "      <td>13.0</td>\n",
              "    </tr>\n",
              "    <tr>\n",
              "      <th>2</th>\n",
              "      <td>10.5</td>\n",
              "      <td>1552</td>\n",
              "      <td>255</td>\n",
              "      <td>2.6588</td>\n",
              "      <td>23</td>\n",
              "      <td>394.00</td>\n",
              "      <td>0.010427</td>\n",
              "      <td>15.231959</td>\n",
              "      <td>0.026650</td>\n",
              "      <td>16.431887</td>\n",
              "      <td>3.291878</td>\n",
              "      <td>5.920044</td>\n",
              "      <td>2.0</td>\n",
              "      <td>1.0</td>\n",
              "      <td>5.0</td>\n",
              "      <td>2.0</td>\n",
              "      <td>2.0</td>\n",
              "      <td>1.0</td>\n",
              "      <td>5.0</td>\n",
              "      <td>28.0</td>\n",
              "    </tr>\n",
              "    <tr>\n",
              "      <th>3</th>\n",
              "      <td>10.5</td>\n",
              "      <td>462</td>\n",
              "      <td>16</td>\n",
              "      <td>0.0000</td>\n",
              "      <td>198</td>\n",
              "      <td>154.32</td>\n",
              "      <td>0.000000</td>\n",
              "      <td>20.041558</td>\n",
              "      <td>0.068040</td>\n",
              "      <td>26.506110</td>\n",
              "      <td>2.890098</td>\n",
              "      <td>3.283813</td>\n",
              "      <td>2.0</td>\n",
              "      <td>1.0</td>\n",
              "      <td>5.0</td>\n",
              "      <td>30.0</td>\n",
              "      <td>2.0</td>\n",
              "      <td>1.0</td>\n",
              "      <td>5.0</td>\n",
              "      <td>38.0</td>\n",
              "    </tr>\n",
              "    <tr>\n",
              "      <th>4</th>\n",
              "      <td>10.5</td>\n",
              "      <td>814</td>\n",
              "      <td>392</td>\n",
              "      <td>12.3692</td>\n",
              "      <td>69</td>\n",
              "      <td>147.47</td>\n",
              "      <td>0.031554</td>\n",
              "      <td>10.870025</td>\n",
              "      <td>0.071201</td>\n",
              "      <td>22.086104</td>\n",
              "      <td>2.861599</td>\n",
              "      <td>2.588982</td>\n",
              "      <td>2.0</td>\n",
              "      <td>1.0</td>\n",
              "      <td>7.0</td>\n",
              "      <td>0.0</td>\n",
              "      <td>2.0</td>\n",
              "      <td>1.0</td>\n",
              "      <td>7.0</td>\n",
              "      <td>14.0</td>\n",
              "    </tr>\n",
              "  </tbody>\n",
              "</table>\n",
              "</div>"
            ],
            "text/plain": [
              "   additional_fare  duration  ...  df_drop_time_hour  df_drop_time_minute\n",
              "0             10.5       924  ...                0.0                 53.0\n",
              "1             10.5      4249  ...                2.0                 13.0\n",
              "2             10.5      1552  ...                5.0                 28.0\n",
              "3             10.5       462  ...                5.0                 38.0\n",
              "4             10.5       814  ...                7.0                 14.0\n",
              "\n",
              "[5 rows x 20 columns]"
            ]
          },
          "metadata": {
            "tags": []
          },
          "execution_count": 25
        }
      ]
    },
    {
      "cell_type": "code",
      "metadata": {
        "id": "iCNIsIC9P5dP",
        "colab_type": "code",
        "colab": {}
      },
      "source": [
        "from sklearn.model_selection import train_test_split\n",
        "X_train, X_test, y_train, y_test = train_test_split(X, y, test_size=0.2)"
      ],
      "execution_count": 0,
      "outputs": []
    },
    {
      "cell_type": "code",
      "metadata": {
        "id": "Hvy9xdS7eBJ2",
        "colab_type": "code",
        "colab": {}
      },
      "source": [
        "import xgboost"
      ],
      "execution_count": 0,
      "outputs": []
    },
    {
      "cell_type": "markdown",
      "metadata": {
        "id": "A9Ojt9pKmOb6",
        "colab_type": "text"
      },
      "source": [
        "## Hyper-parameter tuning"
      ]
    },
    {
      "cell_type": "markdown",
      "metadata": {
        "id": "6VbpaiEsdwgS",
        "colab_type": "text"
      },
      "source": [
        "### Random search"
      ]
    },
    {
      "cell_type": "markdown",
      "metadata": {
        "id": "SQi3lomH9u7R",
        "colab_type": "text"
      },
      "source": [
        "def xgboost.XGBClassifier(max_depth=3, learning_rate=0.1, n_estimators=100, verbosity=1, silent=None, objective='binary:logistic', booster='gbtree', n_jobs=1, nthread=None, gamma=0, min_child_weight=1, max_delta_step=0, subsample=1, colsample_bytree=1, colsample_bylevel=1, colsample_bynode=1, reg_alpha=0, reg_lambda=1, scale_pos_weight=1, base_score=0.5, random_state=0, seed=None, missing=None, **kwargs)"
      ]
    },
    {
      "cell_type": "code",
      "metadata": {
        "id": "EhXMKBo15cLZ",
        "colab_type": "code",
        "colab": {}
      },
      "source": [
        "from sklearn.model_selection import RandomizedSearchCV\n",
        "## Hyper Parameter Optimization\n",
        "\n",
        "params={\n",
        " \"learning_rate\"    : [0.05, 0.10, 0.15, 0.20, 0.25, 0.30, 0.4, 0.5, 0.6,0.7, 0.8, 0.9] ,\n",
        " \"max_depth\"        : [ 3, 4, 5, 6, 8, 10, 12, 15],\n",
        " \"min_child_weight\" : [ 1, 3, 5, 7 ],\n",
        " \"gamma\"            : [ 0.0, 0.1, 0.2 , 0.3, 0.4 ],\n",
        " \"colsample_bytree\" : [ 0.3, 0.4, 0.5 , 0.7 ],\n",
        " \"subsamples\" : [0.8, 0.81, 0.82, 0.83, 0.84, 0.85, 0.86, 0.87, 0.88, 0.89,  0.9, 0.91, 0.92, 0.93, 0.94, 0.95, 0.96, 0.97, 0.98, 0.99]\n",
        "    \n",
        "}"
      ],
      "execution_count": 0,
      "outputs": []
    },
    {
      "cell_type": "code",
      "metadata": {
        "id": "xmJhZcPN5gwO",
        "colab_type": "code",
        "colab": {}
      },
      "source": [
        "def timer(start_time=None):\n",
        "    if not start_time:\n",
        "        start_time = datetime.now()\n",
        "        return start_time\n",
        "    elif start_time:\n",
        "        thour, temp_sec = divmod((datetime.now() - start_time).total_seconds(), 3600)\n",
        "        tmin, tsec = divmod(temp_sec, 60)\n",
        "        print('\\n Time taken: %i hours %i minutes and %s seconds.' % (thour, tmin, round(tsec, 2)))"
      ],
      "execution_count": 0,
      "outputs": []
    },
    {
      "cell_type": "code",
      "metadata": {
        "id": "2BaV4--z5jYu",
        "colab_type": "code",
        "colab": {}
      },
      "source": [
        "classifier=xgboost.XGBClassifier()\n",
        "\n",
        "random_search=RandomizedSearchCV(classifier,param_distributions=params,n_iter=5,scoring='roc_auc',n_jobs=-1,cv=5,verbose=3, )"
      ],
      "execution_count": 0,
      "outputs": []
    },
    {
      "cell_type": "code",
      "metadata": {
        "id": "mJ4cvbCV5ouY",
        "colab_type": "code",
        "outputId": "5572ce23-dc30-4c53-8824-ab0c633e3e95",
        "colab": {
          "base_uri": "https://localhost:8080/",
          "height": 104
        }
      },
      "source": [
        "from datetime import datetime\n",
        "# Here we go\n",
        "start_time = timer(None) # timing starts from this point for \"start_time\" variable\n",
        "random_search.fit(X,y)\n",
        "timer(start_time) # timing ends here for \"start_time\" variable"
      ],
      "execution_count": 0,
      "outputs": [
        {
          "output_type": "stream",
          "text": [
            "Fitting 5 folds for each of 5 candidates, totalling 25 fits\n"
          ],
          "name": "stdout"
        },
        {
          "output_type": "stream",
          "text": [
            "[Parallel(n_jobs=-1)]: Using backend LokyBackend with 2 concurrent workers.\n",
            "[Parallel(n_jobs=-1)]: Done  25 out of  25 | elapsed:   52.4s finished\n"
          ],
          "name": "stderr"
        },
        {
          "output_type": "stream",
          "text": [
            "\n",
            " Time taken: 0 hours 0 minutes and 54.49 seconds.\n"
          ],
          "name": "stdout"
        }
      ]
    },
    {
      "cell_type": "code",
      "metadata": {
        "id": "sBlUcxsG5rm7",
        "colab_type": "code",
        "outputId": "dcc83772-bac9-46ea-a635-08f5a4b593ca",
        "colab": {
          "base_uri": "https://localhost:8080/",
          "height": 139
        }
      },
      "source": [
        "random_search.best_estimator_"
      ],
      "execution_count": 0,
      "outputs": [
        {
          "output_type": "execute_result",
          "data": {
            "text/plain": [
              "XGBClassifier(base_score=0.5, booster='gbtree', colsample_bylevel=1,\n",
              "              colsample_bynode=1, colsample_bytree=0.4, gamma=0.4,\n",
              "              learning_rate=0.1, max_delta_step=0, max_depth=5,\n",
              "              min_child_weight=7, missing=None, n_estimators=100, n_jobs=1,\n",
              "              nthread=None, objective='binary:logistic', random_state=0,\n",
              "              reg_alpha=0, reg_lambda=1, scale_pos_weight=1, seed=None,\n",
              "              silent=None, subsample=1, subsamples=0.99, verbosity=1)"
            ]
          },
          "metadata": {
            "tags": []
          },
          "execution_count": 28
        }
      ]
    },
    {
      "cell_type": "code",
      "metadata": {
        "id": "D7P4Ocb_5tLX",
        "colab_type": "code",
        "outputId": "130b1480-20fb-4292-881b-f37c9294f118",
        "colab": {
          "base_uri": "https://localhost:8080/",
          "height": 121
        }
      },
      "source": [
        "random_search.best_params_"
      ],
      "execution_count": 0,
      "outputs": [
        {
          "output_type": "execute_result",
          "data": {
            "text/plain": [
              "{'colsample_bytree': 0.4,\n",
              " 'gamma': 0.4,\n",
              " 'learning_rate': 0.1,\n",
              " 'max_depth': 5,\n",
              " 'min_child_weight': 7,\n",
              " 'subsamples': 0.99}"
            ]
          },
          "metadata": {
            "tags": []
          },
          "execution_count": 29
        }
      ]
    },
    {
      "cell_type": "markdown",
      "metadata": {
        "id": "2vpYkilkuF0q",
        "colab_type": "text"
      },
      "source": [
        "### Grid search"
      ]
    },
    {
      "cell_type": "code",
      "metadata": {
        "id": "rzT-ZVa57nLZ",
        "colab_type": "code",
        "colab": {}
      },
      "source": [
        "from sklearn.model_selection import GridSearchCV\n",
        "\n",
        "parameters = {\n",
        "    'learning_rate' : [0.65, 0.66, 0.67, 0.68, 0.69, 0.70, 0.71, 0.72, 0.73, 0.74, 0.75],\n",
        "    'subsamples' : [0.8, 0.81, 0.82, 0.83, 0.84, 0.85, 0.86, 0.87, 0.88, 0.89,  0.9, 0.91, 0.92, 0.93, 0.94, 0.95, 0.96, 0.97, 0.98, 0.99, 1.0],\n",
        "    'max_depth' : [1,2,3,4,5,6],\n",
        "    'colsample_bytrees' : [ 0.1, 0.2, 0.3, 0.4, 0.5 , 0.7, 0.8, 0.9, 1],\n",
        "    'min_child_weight' : [ 1, 3, 5, 7 ],\n",
        "    'gammas':[ 0.0, 0.1, 0.2 , 0.3, 0.4 ],\n",
        "}"
      ],
      "execution_count": 0,
      "outputs": []
    },
    {
      "cell_type": "code",
      "metadata": {
        "id": "Tsc4sQ_c1-Mj",
        "colab_type": "code",
        "outputId": "9762e201-c30f-4090-9ef1-09273907b720",
        "colab": {
          "base_uri": "https://localhost:8080/",
          "height": 393
        }
      },
      "source": [
        "xgb_model = xgboost.XGBClassifier()\n",
        "\n",
        "clf = GridSearchCV(xgb_model, parameters, n_jobs=10, \n",
        "                   scoring='f1_micro',\n",
        "                   verbose=2, refit=True)\n",
        "\n",
        "clf.fit(X_train, y_train)"
      ],
      "execution_count": 0,
      "outputs": [
        {
          "output_type": "stream",
          "text": [
            "Fitting 5 folds for each of 249480 candidates, totalling 1247400 fits\n"
          ],
          "name": "stdout"
        },
        {
          "output_type": "stream",
          "text": [
            "[Parallel(n_jobs=10)]: Using backend LokyBackend with 10 concurrent workers.\n",
            "[Parallel(n_jobs=10)]: Done  21 tasks      | elapsed:   15.7s\n",
            "[Parallel(n_jobs=10)]: Done 142 tasks      | elapsed:   56.8s\n",
            "[Parallel(n_jobs=10)]: Done 345 tasks      | elapsed:  2.1min\n",
            "[Parallel(n_jobs=10)]: Done 628 tasks      | elapsed:  4.4min\n",
            "[Parallel(n_jobs=10)]: Done 993 tasks      | elapsed:  8.2min\n",
            "[Parallel(n_jobs=10)]: Done 1438 tasks      | elapsed: 14.4min\n",
            "[Parallel(n_jobs=10)]: Done 1965 tasks      | elapsed: 24.1min\n",
            "[Parallel(n_jobs=10)]: Done 2572 tasks      | elapsed: 37.0min\n",
            "[Parallel(n_jobs=10)]: Done 3261 tasks      | elapsed: 42.0min\n",
            "[Parallel(n_jobs=10)]: Done 4030 tasks      | elapsed: 52.2min\n",
            "[Parallel(n_jobs=10)]: Done 4881 tasks      | elapsed: 69.7min\n",
            "[Parallel(n_jobs=10)]: Done 5812 tasks      | elapsed: 78.8min\n",
            "[Parallel(n_jobs=10)]: Done 6825 tasks      | elapsed: 93.6min\n",
            "[Parallel(n_jobs=10)]: Done 7918 tasks      | elapsed: 111.8min\n",
            "[Parallel(n_jobs=10)]: Done 9093 tasks      | elapsed: 125.6min\n",
            "[Parallel(n_jobs=10)]: Done 10348 tasks      | elapsed: 147.8min\n",
            "[Parallel(n_jobs=10)]: Done 11685 tasks      | elapsed: 163.2min\n",
            "[Parallel(n_jobs=10)]: Done 13102 tasks      | elapsed: 185.9min\n",
            "[Parallel(n_jobs=10)]: Done 14601 tasks      | elapsed: 207.5min\n",
            "[Parallel(n_jobs=10)]: Done 16180 tasks      | elapsed: 228.1min\n"
          ],
          "name": "stderr"
        }
      ]
    },
    {
      "cell_type": "code",
      "metadata": {
        "id": "AfgoxqrJYxUd",
        "colab_type": "code",
        "colab": {}
      },
      "source": [
        "best_parameters, score, _ = max(clf.grid_scores_, key=lambda x: x[1])\n",
        "print('Raw AUC score:', score)\n",
        "for param_name in sorted(best_parameters.keys()):\n",
        "    print(\"%s: %r\" % (param_name, best_parameters[param_name]))"
      ],
      "execution_count": 0,
      "outputs": []
    },
    {
      "cell_type": "markdown",
      "metadata": {
        "id": "EZFT3vZ229Er",
        "colab_type": "text"
      },
      "source": [
        "### bayesian-optimization"
      ]
    },
    {
      "cell_type": "code",
      "metadata": {
        "id": "YjK9peVS3BJv",
        "colab_type": "code",
        "outputId": "26164731-5f08-42ed-e850-fed5fdae5d95",
        "colab": {
          "base_uri": "https://localhost:8080/",
          "height": 266
        }
      },
      "source": [
        "!pip install bayesian-optimization"
      ],
      "execution_count": 31,
      "outputs": [
        {
          "output_type": "stream",
          "text": [
            "Collecting bayesian-optimization\n",
            "  Downloading https://files.pythonhosted.org/packages/bb/7a/fd8059a3881d3ab37ac8f72f56b73937a14e8bb14a9733e68cc8b17dbe3c/bayesian-optimization-1.2.0.tar.gz\n",
            "Requirement already satisfied: numpy>=1.9.0 in /usr/local/lib/python3.6/dist-packages (from bayesian-optimization) (1.18.5)\n",
            "Requirement already satisfied: scipy>=0.14.0 in /usr/local/lib/python3.6/dist-packages (from bayesian-optimization) (1.4.1)\n",
            "Requirement already satisfied: scikit-learn>=0.18.0 in /usr/local/lib/python3.6/dist-packages (from bayesian-optimization) (0.22.2.post1)\n",
            "Requirement already satisfied: joblib>=0.11 in /usr/local/lib/python3.6/dist-packages (from scikit-learn>=0.18.0->bayesian-optimization) (0.15.1)\n",
            "Building wheels for collected packages: bayesian-optimization\n",
            "  Building wheel for bayesian-optimization (setup.py) ... \u001b[?25l\u001b[?25hdone\n",
            "  Created wheel for bayesian-optimization: filename=bayesian_optimization-1.2.0-cp36-none-any.whl size=11685 sha256=f19ea389f9342db60cd1cbb2a969cb59940e7e9651ee2ef5dff30f55898d460a\n",
            "  Stored in directory: /root/.cache/pip/wheels/5a/56/ae/e0e3c1fc1954dc3ec712e2df547235ed072b448094d8f94aec\n",
            "Successfully built bayesian-optimization\n",
            "Installing collected packages: bayesian-optimization\n",
            "Successfully installed bayesian-optimization-1.2.0\n"
          ],
          "name": "stdout"
        }
      ]
    },
    {
      "cell_type": "code",
      "metadata": {
        "id": "xGwBadIe3YIn",
        "colab_type": "code",
        "colab": {}
      },
      "source": [
        "xgb_model = xgboost.XGBClassifier(learning_rate=0.23)\n",
        "xgb_model.fit(X_train, y_train)\n",
        "y_pred = xgb_model.predict(X_test)"
      ],
      "execution_count": 0,
      "outputs": []
    },
    {
      "cell_type": "code",
      "metadata": {
        "id": "LzPQyD-P3p4D",
        "colab_type": "code",
        "outputId": "f2938007-eb96-4149-9efa-58ff228e13e8",
        "colab": {
          "base_uri": "https://localhost:8080/",
          "height": 175
        }
      },
      "source": [
        "#Printing the classification report\n",
        "from sklearn.metrics import classification_report, confusion_matrix\n",
        "print(classification_report(y_pred, y_test))"
      ],
      "execution_count": 0,
      "outputs": [
        {
          "output_type": "stream",
          "text": [
            "              precision    recall  f1-score   support\n",
            "\n",
            "           0       0.67      0.84      0.74       247\n",
            "           1       0.99      0.97      0.98      3189\n",
            "\n",
            "    accuracy                           0.96      3436\n",
            "   macro avg       0.83      0.90      0.86      3436\n",
            "weighted avg       0.96      0.96      0.96      3436\n",
            "\n"
          ],
          "name": "stdout"
        }
      ]
    },
    {
      "cell_type": "code",
      "metadata": {
        "id": "gRnyC8I_47ND",
        "colab_type": "code",
        "outputId": "f1f1a410-69cb-42c6-80af-5af494095228",
        "colab": {
          "base_uri": "https://localhost:8080/",
          "height": 34
        }
      },
      "source": [
        "#Accuracy obtained on the training set\n",
        "cm = confusion_matrix(y_pred, y_test)\n",
        "acc = cm.diagonal().sum()/cm.sum()\n",
        "print(acc)"
      ],
      "execution_count": 0,
      "outputs": [
        {
          "output_type": "stream",
          "text": [
            "0.9583818393480792\n"
          ],
          "name": "stdout"
        }
      ]
    },
    {
      "cell_type": "code",
      "metadata": {
        "id": "3wUKANi55N4Q",
        "colab_type": "code",
        "outputId": "107553cf-2770-42b6-9a96-e735b7f73e4f",
        "colab": {
          "base_uri": "https://localhost:8080/",
          "height": 298
        }
      },
      "source": [
        "#Importing necessary libraries\n",
        "from bayes_opt import BayesianOptimization\n",
        "import xgboost as xgb\n",
        "from sklearn.metrics import mean_squared_error\n",
        "\n",
        "#Converting the dataframe into XGBoost’s Dmatrix object\n",
        "dtrain = xgb.DMatrix(X_train, y_train)\n",
        "\n",
        "#Bayesian Optimization function for xgboost\n",
        "#specify the parameters you want to tune as keyword arguments\n",
        "def bo_tune_xgb(max_depth, gamma, n_estimators ,learning_rate, colsample_bytree):\n",
        "    params = {'max_depth': int(max_depth),\n",
        "              'gamma': gamma,\n",
        "              'n_estimators': int(n_estimators),\n",
        "              'learning_rate':learning_rate,\n",
        "              'subsample': 0.8,\n",
        "              'eta': 0.1,\n",
        "              'colsample_bytree' : colsample_bytree,\n",
        "              'eval_metric': 'rmse'}\n",
        "    #Cross validating with the specified parameters in 5 folds and 70 iterations\n",
        "    cv_result = xgb.cv(params, dtrain, num_boost_round=70, nfold=5)\n",
        "    #Return the negative RMSE\n",
        "    return -1.0 * cv_result['test-rmse-mean'].iloc[-1]\n",
        "\n",
        "#Invoking the Bayesian Optimizer with the specified parameters to tune\n",
        "xgb_bo = BayesianOptimization(bo_tune_xgb, {'max_depth': (3, 10),\n",
        "                                             'gamma': (0, 1),\n",
        "                                             'learning_rate':(0,1),\n",
        "                                             'n_estimators':(100,1000),\n",
        "                                            'colsample_bytree': (0,1)\n",
        "                                            })\n",
        "\n",
        "#performing Bayesian optimization for 5 iterations with 8 steps of random exploration with an #acquisition function of expected improvement\n",
        "xgb_bo.maximize(n_iter=5, init_points=8, acq='ei')"
      ],
      "execution_count": 0,
      "outputs": [
        {
          "output_type": "stream",
          "text": [
            "|   iter    |  target   | colsam... |   gamma   | learni... | max_depth | n_esti... |\n",
            "-------------------------------------------------------------------------------------\n",
            "| \u001b[0m 1       \u001b[0m | \u001b[0m-0.2321  \u001b[0m | \u001b[0m 0.03916 \u001b[0m | \u001b[0m 0.5529  \u001b[0m | \u001b[0m 0.9257  \u001b[0m | \u001b[0m 6.869   \u001b[0m | \u001b[0m 931.0   \u001b[0m |\n",
            "| \u001b[95m 2       \u001b[0m | \u001b[95m-0.1957  \u001b[0m | \u001b[95m 0.6519  \u001b[0m | \u001b[95m 0.6998  \u001b[0m | \u001b[95m 0.289   \u001b[0m | \u001b[95m 3.713   \u001b[0m | \u001b[95m 694.2   \u001b[0m |\n",
            "| \u001b[0m 3       \u001b[0m | \u001b[0m-0.2002  \u001b[0m | \u001b[0m 0.7766  \u001b[0m | \u001b[0m 0.8701  \u001b[0m | \u001b[0m 0.5805  \u001b[0m | \u001b[0m 5.232   \u001b[0m | \u001b[0m 446.8   \u001b[0m |\n",
            "| \u001b[0m 4       \u001b[0m | \u001b[0m-0.2111  \u001b[0m | \u001b[0m 0.5371  \u001b[0m | \u001b[0m 0.7899  \u001b[0m | \u001b[0m 0.8524  \u001b[0m | \u001b[0m 5.91    \u001b[0m | \u001b[0m 439.5   \u001b[0m |\n",
            "| \u001b[0m 5       \u001b[0m | \u001b[0m-0.2319  \u001b[0m | \u001b[0m 0.01567 \u001b[0m | \u001b[0m 0.2427  \u001b[0m | \u001b[0m 0.4484  \u001b[0m | \u001b[0m 8.784   \u001b[0m | \u001b[0m 464.6   \u001b[0m |\n",
            "| \u001b[95m 6       \u001b[0m | \u001b[95m-0.1931  \u001b[0m | \u001b[95m 0.4406  \u001b[0m | \u001b[95m 0.3556  \u001b[0m | \u001b[95m 0.1838  \u001b[0m | \u001b[95m 6.505   \u001b[0m | \u001b[95m 773.0   \u001b[0m |\n",
            "| \u001b[0m 7       \u001b[0m | \u001b[0m-0.1942  \u001b[0m | \u001b[0m 0.9218  \u001b[0m | \u001b[0m 0.926   \u001b[0m | \u001b[0m 0.2138  \u001b[0m | \u001b[0m 3.574   \u001b[0m | \u001b[0m 781.9   \u001b[0m |\n",
            "| \u001b[0m 8       \u001b[0m | \u001b[0m-0.1984  \u001b[0m | \u001b[0m 0.6465  \u001b[0m | \u001b[0m 0.000927\u001b[0m | \u001b[0m 0.2543  \u001b[0m | \u001b[0m 9.236   \u001b[0m | \u001b[0m 140.5   \u001b[0m |\n",
            "| \u001b[0m 9       \u001b[0m | \u001b[0m-0.5     \u001b[0m | \u001b[0m 1.0     \u001b[0m | \u001b[0m 1.0     \u001b[0m | \u001b[0m 0.0     \u001b[0m | \u001b[0m 3.0     \u001b[0m | \u001b[0m 100.0   \u001b[0m |\n",
            "| \u001b[0m 10      \u001b[0m | \u001b[0m-0.5     \u001b[0m | \u001b[0m 1.0     \u001b[0m | \u001b[0m 1.0     \u001b[0m | \u001b[0m 0.0     \u001b[0m | \u001b[0m 3.0     \u001b[0m | \u001b[0m 228.9   \u001b[0m |\n",
            "| \u001b[0m 11      \u001b[0m | \u001b[0m-0.1948  \u001b[0m | \u001b[0m 0.542   \u001b[0m | \u001b[0m 0.06312 \u001b[0m | \u001b[0m 0.2429  \u001b[0m | \u001b[0m 6.372   \u001b[0m | \u001b[0m 770.7   \u001b[0m |\n",
            "| \u001b[0m 12      \u001b[0m | \u001b[0m-0.222   \u001b[0m | \u001b[0m 0.2664  \u001b[0m | \u001b[0m 0.1682  \u001b[0m | \u001b[0m 0.8255  \u001b[0m | \u001b[0m 5.477   \u001b[0m | \u001b[0m 1e+03   \u001b[0m |\n",
            "| \u001b[0m 13      \u001b[0m | \u001b[0m-0.2081  \u001b[0m | \u001b[0m 0.775   \u001b[0m | \u001b[0m 0.7564  \u001b[0m | \u001b[0m 0.8722  \u001b[0m | \u001b[0m 3.006   \u001b[0m | \u001b[0m 601.7   \u001b[0m |\n",
            "=====================================================================================\n"
          ],
          "name": "stdout"
        }
      ]
    },
    {
      "cell_type": "code",
      "metadata": {
        "id": "OXF_Leb46fzY",
        "colab_type": "code",
        "outputId": "766ba439-4308-41ad-c4c2-e396dd305942",
        "colab": {
          "base_uri": "https://localhost:8080/",
          "height": 213
        }
      },
      "source": [
        "#Extracting the best parameters\n",
        "params = xgb_bo.max['params']\n",
        "print(params)\n",
        "\n",
        "#Converting the max_depth and n_estimator values from float to int\n",
        "params['max_depth']= int(params['max_depth'])\n",
        "params['n_estimators']= int(params['n_estimators'])\n",
        "\n",
        "#Initialize an XGBClassifier with the tuned parameters and fit the training data\n",
        "from xgboost import XGBClassifier\n",
        "classifier2 = XGBClassifier(**params).fit(X_train, y_train)\n",
        "\n",
        "#predicting for training set\n",
        "train_p2 = classifier2.predict(X_test)\n",
        "\n",
        "#Looking at the classification report\n",
        "print(classification_report(train_p2, y_test))"
      ],
      "execution_count": 0,
      "outputs": [
        {
          "output_type": "stream",
          "text": [
            "{'colsample_bytree': 0.44057572567710335, 'gamma': 0.3555540418763641, 'learning_rate': 0.18378697990906823, 'max_depth': 6.504564849878346, 'n_estimators': 772.9871117500487}\n",
            "              precision    recall  f1-score   support\n",
            "\n",
            "           0       0.68      0.82      0.74       256\n",
            "           1       0.99      0.97      0.98      3180\n",
            "\n",
            "    accuracy                           0.96      3436\n",
            "   macro avg       0.83      0.89      0.86      3436\n",
            "weighted avg       0.96      0.96      0.96      3436\n",
            "\n"
          ],
          "name": "stdout"
        }
      ]
    },
    {
      "cell_type": "code",
      "metadata": {
        "id": "WEWu1A2z6tt0",
        "colab_type": "code",
        "outputId": "a8a65f82-609c-47bb-f6a0-948ce7a74079",
        "colab": {
          "base_uri": "https://localhost:8080/",
          "height": 34
        }
      },
      "source": [
        "#Attained prediction accuracy on the training set\n",
        "cm = confusion_matrix(train_p2, y_test)\n",
        "acc = cm.diagonal().sum()/cm.sum()\n",
        "print(acc)"
      ],
      "execution_count": 0,
      "outputs": [
        {
          "output_type": "stream",
          "text": [
            "0.9575087310826542\n"
          ],
          "name": "stdout"
        }
      ]
    },
    {
      "cell_type": "markdown",
      "metadata": {
        "id": "PtQxvPTtd63T",
        "colab_type": "text"
      },
      "source": [
        "## Train and predict"
      ]
    },
    {
      "cell_type": "code",
      "metadata": {
        "id": "6B-Ja5vEP_a8",
        "colab_type": "code",
        "outputId": "7bc789df-10cd-4390-fc9f-45828fa00fe2",
        "colab": {
          "base_uri": "https://localhost:8080/",
          "height": 34
        }
      },
      "source": [
        "xgb_model = xgboost.XGBClassifier(colsample_bytree = 0.8282929969331484, gamma=0.8199636219552069,\n",
        "                                  learning_rate= 0.48091390696028224, max_depth=4, n_estimators=817,\n",
        "                                  scale_pos_weight=9)\n",
        "\n",
        "# xgb_model = xgboost.XGBClassifier(scale_pos_weight=9)\n",
        "\n",
        "xgb_model.fit(X_train, y_train)\n",
        "\n",
        "y_pred = xgb_model.predict(X_test)\n",
        "print(f1_score(y_test, y_pred, average='macro'))"
      ],
      "execution_count": 33,
      "outputs": [
        {
          "output_type": "stream",
          "text": [
            "0.8679531647159182\n"
          ],
          "name": "stdout"
        }
      ]
    },
    {
      "cell_type": "code",
      "metadata": {
        "id": "E87qwHrzlaJ9",
        "colab_type": "code",
        "colab": {}
      },
      "source": [
        "y_pred_for_test = xgb_model.predict(X_pred)\n",
        "y_pred_for_test"
      ],
      "execution_count": 0,
      "outputs": []
    },
    {
      "cell_type": "markdown",
      "metadata": {
        "id": "RXDhxD_UdGIs",
        "colab_type": "text"
      },
      "source": [
        "### submission"
      ]
    },
    {
      "cell_type": "code",
      "metadata": {
        "id": "R8uiVAGeQQs7",
        "colab_type": "code",
        "colab": {}
      },
      "source": [
        "import csv\n",
        "\n",
        "file_name = \"submission_xgboost_all_new_features_06_13_test_split\"\n",
        "\n",
        "with open('/content/drive/My Drive/Semester 7/ML/Project/'+ file_name +'.csv', mode='w') as fare_file:\n",
        "    writer = csv.writer(fare_file, delimiter=',', quotechar='\"', quoting=csv.QUOTE_MINIMAL)\n",
        "    writer.writerow(['tripid','prediction'])\n",
        "    for i in range(len(y_pred_for_test)):\n",
        "      writer.writerow([df_test['tripid'][i],y_pred_for_test[i]])"
      ],
      "execution_count": 0,
      "outputs": []
    }
  ]
}